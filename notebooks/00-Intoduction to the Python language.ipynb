{
 "cells": [
  {
   "cell_type": "markdown",
   "metadata": {},
   "source": [
    "# Introduction to the Python language"
   ]
  },
  {
   "cell_type": "markdown",
   "metadata": {},
   "source": [
    "\n",
    "We introduce here the Python language. Only the bare minimum\n",
    "necessary for getting started with Numpy and Scipy is addressed here.\n",
    "To learn more about the language, consider going through the\n",
    "excellent tutorial http://www.scipy-lectures.org/intro/index.html. Dedicated books\n",
    "are also available, such as http://www.diveintopython.net/.\n",
    "\n",
    "Python is a **programming language**, as are C, Fortran, BASIC, PHP,\n",
    "etc. Some specific features of Python are as follows:\n",
    "\n",
    "* an *interpreted* (as opposed to *compiled*) language. Contrary to e.g.\n",
    "C or Fortran, one does not compile Python code before executing it. In\n",
    "addition, Python can be used **interactively**: many Python\n",
    "interpreters are available, from which commands and scripts can be\n",
    "executed.\n",
    "\n",
    "* a free software released under an **open-source** license: Python can\n",
    "be used and distributed free of charge, even for building commercial\n",
    "software.\n",
    "\n",
    "* **multi-platform**: Python is available for all major operating\n",
    "systems, Windows, Linux/Unix, MacOS X, most likely your mobile phone\n",
    "OS, etc.\n",
    "\n",
    "* a very readable language with clear non-verbose syntax\n",
    "\n",
    "* a language for which a large variety of high-quality packages are\n",
    "available for various applications, from web frameworks to scientific\n",
    "computing.\n",
    "\n",
    "* a language very easy to interface with other languages, in particular C\n",
    "and C++.\n",
    "\n",
    "* Some other features of the language are illustrated just below. For\n",
    "example, Python is an object-oriented language, with dynamic typing\n",
    "(the same variable can contain objects of different types during the\n",
    "course of a program).\n",
    "\n",
    "\n",
    "See https://www.python.org/about/ for more information about\n",
    "distinguishing features of Python."
   ]
  },
  {
   "cell_type": "markdown",
   "metadata": {},
   "source": [
    "# Hello world\n",
    "\n",
    "you type in the cells, execute commands with shift + Enter\n",
    "\n",
    "```print(\"Hello world\")```"
   ]
  },
  {
   "cell_type": "code",
   "execution_count": null,
   "metadata": {
    "collapsed": false
   },
   "outputs": [],
   "source": []
  },
  {
   "cell_type": "markdown",
   "metadata": {},
   "source": [
    "# Basic types\n",
    "\n",
    "## Integers"
   ]
  },
  {
   "cell_type": "code",
   "execution_count": 2,
   "metadata": {
    "collapsed": false
   },
   "outputs": [
    {
     "data": {
      "text/plain": [
       "2"
      ]
     },
     "execution_count": 2,
     "metadata": {},
     "output_type": "execute_result"
    }
   ],
   "source": [
    "1+1"
   ]
  },
  {
   "cell_type": "markdown",
   "metadata": {
    "collapsed": false
   },
   "source": [
    "We can assign values to variables with `=`\n",
    "\n",
    "    a = 4\n",
    "    type(a)"
   ]
  },
  {
   "cell_type": "code",
   "execution_count": 3,
   "metadata": {
    "collapsed": true
   },
   "outputs": [],
   "source": []
  },
  {
   "cell_type": "code",
   "execution_count": null,
   "metadata": {
    "collapsed": false
   },
   "outputs": [],
   "source": []
  },
  {
   "cell_type": "markdown",
   "metadata": {},
   "source": [
    "Note that one does not declare the type of a variable before assigning its value. In C, conversely, one should write:\n",
    "\n",
    "```int a = 4;```"
   ]
  },
  {
   "cell_type": "markdown",
   "metadata": {},
   "source": [
    "## Floats\n",
    "There exists a floating point type that is created when the variable has decimal values:\n",
    "\n",
    "    c = 2.1\n",
    "    type(c)"
   ]
  },
  {
   "cell_type": "code",
   "execution_count": null,
   "metadata": {
    "collapsed": false
   },
   "outputs": [],
   "source": []
  },
  {
   "cell_type": "code",
   "execution_count": null,
   "metadata": {
    "collapsed": true
   },
   "outputs": [],
   "source": []
  },
  {
   "cell_type": "markdown",
   "metadata": {},
   "source": [
    "## Boolean\n",
    "Similarly, boolean types are created from a comparison:"
   ]
  },
  {
   "cell_type": "code",
   "execution_count": 5,
   "metadata": {
    "collapsed": false
   },
   "outputs": [
    {
     "data": {
      "text/plain": [
       "False"
      ]
     },
     "execution_count": 5,
     "metadata": {},
     "output_type": "execute_result"
    }
   ],
   "source": [
    "3 > 4"
   ]
  },
  {
   "cell_type": "markdown",
   "metadata": {},
   "source": [
    "    test = (3 > 4)\n",
    "    type(test)"
   ]
  },
  {
   "cell_type": "code",
   "execution_count": null,
   "metadata": {
    "collapsed": false
   },
   "outputs": [],
   "source": []
  },
  {
   "cell_type": "code",
   "execution_count": null,
   "metadata": {
    "collapsed": true
   },
   "outputs": [],
   "source": []
  },
  {
   "cell_type": "markdown",
   "metadata": {},
   "source": [
    "_Tip_:A Python shell can therefore replace your pocket calculator, with the basic arithmetic operations ``+``, ``-``, ``*``, ``/``, ``%`` (modulo) natively implemented"
   ]
  },
  {
   "cell_type": "markdown",
   "metadata": {},
   "source": [
    "## Type conversion (casting)"
   ]
  },
  {
   "cell_type": "code",
   "execution_count": null,
   "metadata": {
    "collapsed": false
   },
   "outputs": [],
   "source": [
    "a = 1\n",
    "type(a)"
   ]
  },
  {
   "cell_type": "code",
   "execution_count": null,
   "metadata": {
    "collapsed": false
   },
   "outputs": [],
   "source": [
    "b = float(a)\n",
    "type(b)"
   ]
  },
  {
   "cell_type": "markdown",
   "metadata": {},
   "source": [
    "### Exercise <^^>: Compute the floating point expression of 3 / 2"
   ]
  },
  {
   "cell_type": "markdown",
   "metadata": {},
   "source": [
    "#  Containers\n",
    "\n",
    "_Tip_: Python provides many efficient types of containers, in which collections of objects can be stored.\n",
    "\n",
    "## Lists\n",
    "\n",
    "A list is an ordered collection of objects, that may have different types. For example:\n"
   ]
  },
  {
   "cell_type": "markdown",
   "metadata": {},
   "source": [
    "    colors = ['red', 'blue', 'green', 'black', 'white']\n",
    "    type(colors)"
   ]
  },
  {
   "cell_type": "code",
   "execution_count": null,
   "metadata": {
    "collapsed": false
   },
   "outputs": [],
   "source": []
  },
  {
   "cell_type": "code",
   "execution_count": null,
   "metadata": {
    "collapsed": true
   },
   "outputs": [],
   "source": []
  },
  {
   "cell_type": "markdown",
   "metadata": {},
   "source": [
    "Indexing: accessing individual objects contained in the list::"
   ]
  },
  {
   "cell_type": "code",
   "execution_count": null,
   "metadata": {
    "collapsed": false
   },
   "outputs": [],
   "source": [
    "colors[2]"
   ]
  },
  {
   "cell_type": "markdown",
   "metadata": {},
   "source": [
    "<h3 style=\"color: red\"> WARNING: **Indexing starts at 0** (as in C), not at 1 (as in Fortran or Matlab)!</h3>\n",
    "\n",
    "Counting from the end with negative indices:"
   ]
  },
  {
   "cell_type": "code",
   "execution_count": null,
   "metadata": {
    "collapsed": false
   },
   "outputs": [],
   "source": [
    "colors[-1]"
   ]
  },
  {
   "cell_type": "markdown",
   "metadata": {},
   "source": [
    "### <^^> Exercise: get the before last element in colors"
   ]
  },
  {
   "cell_type": "markdown",
   "metadata": {},
   "source": [
    "## Slicing: obtaining sublists of regularly-spaced elements\n"
   ]
  },
  {
   "cell_type": "code",
   "execution_count": null,
   "metadata": {
    "collapsed": false
   },
   "outputs": [],
   "source": [
    "colors"
   ]
  },
  {
   "cell_type": "code",
   "execution_count": null,
   "metadata": {
    "collapsed": false
   },
   "outputs": [],
   "source": [
    "colors[2:4]"
   ]
  },
  {
   "cell_type": "markdown",
   "metadata": {},
   "source": [
    "**Slicing syntax**: ``colors[start:stop:stride]``\n",
    "\n",
    "  _Tip_: All slicing parameters are optional::"
   ]
  },
  {
   "cell_type": "code",
   "execution_count": null,
   "metadata": {
    "collapsed": false
   },
   "outputs": [],
   "source": [
    "colors"
   ]
  },
  {
   "cell_type": "code",
   "execution_count": null,
   "metadata": {
    "collapsed": false
   },
   "outputs": [],
   "source": [
    "colors[3:]"
   ]
  },
  {
   "cell_type": "code",
   "execution_count": null,
   "metadata": {
    "collapsed": false
   },
   "outputs": [],
   "source": [
    "colors[:3]"
   ]
  },
  {
   "cell_type": "markdown",
   "metadata": {},
   "source": [
    "### <^^> Exercise: what is the output of ```colors[::2]```. Why?\n",
    "\n"
   ]
  },
  {
   "cell_type": "code",
   "execution_count": null,
   "metadata": {
    "collapsed": true
   },
   "outputs": [],
   "source": []
  },
  {
   "cell_type": "markdown",
   "metadata": {},
   "source": [
    "### <^^> Exercise: reverse a list"
   ]
  },
  {
   "cell_type": "code",
   "execution_count": null,
   "metadata": {
    "collapsed": true
   },
   "outputs": [],
   "source": []
  },
  {
   "cell_type": "markdown",
   "metadata": {},
   "source": [
    "\n",
    "# Strings\n",
    "\n",
    "Different string syntaxes (simple, double or triple quotes)::\n",
    "\n",
    "    s = 'Hello, how are you?'\n",
    "    s = \"Hi, what's up\"\n",
    "    s = '''Hello,                 # tripling the quotes allows the\n",
    "           how are you'''         # the string to span more than one line\n",
    "    s = \"\"\"Hi,\n",
    "    what's up?\"\"\""
   ]
  },
  {
   "cell_type": "code",
   "execution_count": null,
   "metadata": {
    "collapsed": true
   },
   "outputs": [],
   "source": []
  },
  {
   "cell_type": "markdown",
   "metadata": {},
   "source": [
    "# Dictionaries"
   ]
  },
  {
   "cell_type": "markdown",
   "metadata": {
    "collapsed": true
   },
   "source": [
    "A dictionary is basically an efficient table that **maps keys to values**. It is an **unordered** container"
   ]
  },
  {
   "cell_type": "code",
   "execution_count": null,
   "metadata": {
    "collapsed": true
   },
   "outputs": [],
   "source": [
    "tel = {'emmanuelle': 5752, 'sebastian': 5578}"
   ]
  },
  {
   "cell_type": "code",
   "execution_count": null,
   "metadata": {
    "collapsed": false
   },
   "outputs": [],
   "source": [
    "tel"
   ]
  },
  {
   "cell_type": "code",
   "execution_count": null,
   "metadata": {
    "collapsed": true
   },
   "outputs": [],
   "source": [
    "tel['francis'] = 5915"
   ]
  },
  {
   "cell_type": "code",
   "execution_count": null,
   "metadata": {
    "collapsed": false
   },
   "outputs": [],
   "source": [
    "tel"
   ]
  },
  {
   "cell_type": "code",
   "execution_count": null,
   "metadata": {
    "collapsed": false
   },
   "outputs": [],
   "source": [
    "tel['sebastian']"
   ]
  },
  {
   "cell_type": "code",
   "execution_count": null,
   "metadata": {
    "collapsed": false
   },
   "outputs": [],
   "source": [
    "tel.keys()"
   ]
  },
  {
   "cell_type": "code",
   "execution_count": null,
   "metadata": {
    "collapsed": false
   },
   "outputs": [],
   "source": [
    "tel.values()"
   ]
  },
  {
   "cell_type": "code",
   "execution_count": null,
   "metadata": {
    "collapsed": false
   },
   "outputs": [],
   "source": [
    "'francis' in tel"
   ]
  },
  {
   "cell_type": "markdown",
   "metadata": {},
   "source": [
    "It can be used to conveniently store and retrieve values\n",
    "associated with a name (a string for a date, a name, etc.). See\n",
    "https://docs.python.org/tutorial/datastructures.html#dictionaries\n",
    "for more information.\n",
    "\n",
    "_Tip_: A dictionary can have keys (resp. values) with different types:"
   ]
  },
  {
   "cell_type": "code",
   "execution_count": null,
   "metadata": {
    "collapsed": false
   },
   "outputs": [],
   "source": [
    "d = {'a':1, 'b':2, 3:'hello'}\n",
    "d"
   ]
  },
  {
   "cell_type": "markdown",
   "metadata": {},
   "source": [
    "### <^^> Exercise: assign the telephone of sebastian to francis, and that of francis to sebastian.\n"
   ]
  },
  {
   "cell_type": "code",
   "execution_count": null,
   "metadata": {
    "collapsed": false
   },
   "outputs": [],
   "source": []
  },
  {
   "cell_type": "markdown",
   "metadata": {},
   "source": [
    "# Control Flow\n",
    "\n",
    "Controls the order in which the code is executed.\n",
    "\n",
    "## if/elif/else\n",
    "\n",
    "    if 2**2 == 4:\n",
    "        print('Obvious!')"
   ]
  },
  {
   "cell_type": "code",
   "execution_count": null,
   "metadata": {
    "collapsed": false
   },
   "outputs": [],
   "source": []
  },
  {
   "cell_type": "markdown",
   "metadata": {},
   "source": [
    "\n",
    "## Blocks are delimited by indentation!\n",
    "\n",
    "_Tip_: Type the following lines in your Python interpreter, and be careful\n",
    "to **respect the indentation depth**. The Ipython shell automatically\n",
    "increases the indentation depth after a colon ``:`` sign; to\n",
    "decrease the indentation depth, go four spaces to the left with the\n",
    "Backspace key. Press the Enter key twice to leave the logical block.\n",
    "\n",
    "    >>> a = 10\n",
    "\n",
    "    >>> if a == 1:\n",
    "    ...     print(1)\n",
    "    ... elif a == 2:\n",
    "    ...     print(2)\n",
    "    ... else:\n",
    "    ...     print('A lot')\n",
    "    A lot\n",
    "\n"
   ]
  },
  {
   "cell_type": "code",
   "execution_count": null,
   "metadata": {
    "collapsed": true
   },
   "outputs": [],
   "source": []
  },
  {
   "cell_type": "markdown",
   "metadata": {},
   "source": [
    "# for/range\n",
    "\n",
    "Iterating with an index::\n",
    "\n",
    "    >>> for i in range(4):\n",
    "    ...     print(i)\n",
    "    0\n",
    "    1\n",
    "    2\n",
    "    3\n"
   ]
  },
  {
   "cell_type": "markdown",
   "metadata": {},
   "source": [
    "### <^^> Exercise: print all even numbers between 0 and 100"
   ]
  },
  {
   "cell_type": "code",
   "execution_count": null,
   "metadata": {
    "collapsed": true
   },
   "outputs": [],
   "source": []
  },
  {
   "cell_type": "code",
   "execution_count": null,
   "metadata": {
    "collapsed": true
   },
   "outputs": [],
   "source": []
  },
  {
   "cell_type": "markdown",
   "metadata": {},
   "source": [
    "But most often, it is more readable to iterate over values::\n",
    "\n",
    "    >>> for word in ('cool', 'powerful', 'readable'):\n",
    "    ...     print('Python is %s' % word)\n",
    "    Python is cool\n",
    "    Python is powerful\n",
    "    Python is readable"
   ]
  },
  {
   "cell_type": "code",
   "execution_count": null,
   "metadata": {
    "collapsed": true
   },
   "outputs": [],
   "source": []
  },
  {
   "cell_type": "markdown",
   "metadata": {},
   "source": [
    "\n",
    "### List Comprehensions\n",
    "\n",
    "\n",
    "    >>> [i**2 for i in range(4)]\n",
    "    [0, 1, 4, 9]\n"
   ]
  },
  {
   "cell_type": "markdown",
   "metadata": {},
   "source": [
    "### <^^> Exercise\n",
    "\n",
    "Compute the decimals of Pi using the Wallis formula:\n",
    "\n",
    "$$\n",
    "\\pi = 2 \\prod_{i=1}^{\\infty} \\frac{4i^2}{4i^2 - 1}\n",
    "$$\n"
   ]
  },
  {
   "cell_type": "code",
   "execution_count": null,
   "metadata": {
    "collapsed": true
   },
   "outputs": [],
   "source": []
  },
  {
   "cell_type": "markdown",
   "metadata": {},
   "source": [
    "\n",
    "\n",
    "### while/break/continue\n",
    "\n",
    "Typical C-style while loop (Mandelbrot problem)::\n",
    "\n",
    "    >>> z = 1 + 1j\n",
    "    >>> while abs(z) < 100:\n",
    "    ...     z = z**2 + 1\n",
    "    >>> z\n",
    "    (-134+352j)\n",
    "\n"
   ]
  },
  {
   "cell_type": "code",
   "execution_count": null,
   "metadata": {
    "collapsed": true
   },
   "outputs": [],
   "source": []
  }
 ],
 "metadata": {
  "kernelspec": {
   "display_name": "Python 3",
   "language": "python",
   "name": "python3"
  },
  "language_info": {
   "codemirror_mode": {
    "name": "ipython",
    "version": 3
   },
   "file_extension": ".py",
   "mimetype": "text/x-python",
   "name": "python",
   "nbconvert_exporter": "python",
   "pygments_lexer": "ipython3",
   "version": "3.5.2"
  }
 },
 "nbformat": 4,
 "nbformat_minor": 0
}
