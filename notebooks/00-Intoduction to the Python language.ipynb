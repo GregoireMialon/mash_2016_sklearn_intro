{
 "cells": [
  {
   "cell_type": "markdown",
   "metadata": {},
   "source": [
    "# Introduction to the Python language"
   ]
  },
  {
   "cell_type": "markdown",
   "metadata": {},
   "source": [
    "\n",
    "We introduce here the Python language. Only the bare minimum\n",
    "necessary for getting started with Numpy and Scipy is addressed here.\n",
    "To learn more about the language, consider going through the\n",
    "excellent tutorial http://www.scipy-lectures.org/intro/index.html. Dedicated books\n",
    "are also available, such as http://www.diveintopython.net/.\n",
    "\n",
    "Python is a **programming language**, as are C, Fortran, BASIC, PHP,\n",
    "etc. Some specific features of Python are as follows:\n",
    "\n",
    "* an *interpreted* (as opposed to *compiled*) language. Contrary to e.g.\n",
    "C or Fortran, one does not compile Python code before executing it. In\n",
    "addition, Python can be used **interactively**: many Python\n",
    "interpreters are available, from which commands and scripts can be\n",
    "executed.\n",
    "\n",
    "* a free software released under an **open-source** license: Python can\n",
    "be used and distributed free of charge, even for building commercial\n",
    "software.\n",
    "\n",
    "* **multi-platform**: Python is available for all major operating\n",
    "systems, Windows, Linux/Unix, MacOS X, most likely your mobile phone\n",
    "OS, etc.\n",
    "\n",
    "* a very readable language with clear non-verbose syntax\n",
    "\n",
    "* a language for which a large variety of high-quality packages are\n",
    "available for various applications, from web frameworks to scientific\n",
    "computing.\n",
    "\n",
    "* a language very easy to interface with other languages, in particular C\n",
    "and C++.\n",
    "\n",
    "* Some other features of the language are illustrated just below. For\n",
    "example, Python is an object-oriented language, with dynamic typing\n",
    "(the same variable can contain objects of different types during the\n",
    "course of a program).\n",
    "\n",
    "\n",
    "See https://www.python.org/about/ for more information about\n",
    "distinguishing features of Python."
   ]
  },
  {
   "cell_type": "markdown",
   "metadata": {},
   "source": [
    "# Hello world\n",
    "\n",
    "you type in the cells, execute commands with shift + Enter"
   ]
  },
  {
   "cell_type": "code",
   "execution_count": 3,
   "metadata": {
    "collapsed": false
   },
   "outputs": [
    {
     "name": "stdout",
     "output_type": "stream",
     "text": [
      "Hello world\n"
     ]
    }
   ],
   "source": [
    "print(\"Hello world\")"
   ]
  },
  {
   "cell_type": "markdown",
   "metadata": {},
   "source": [
    "# Basic types\n",
    "\n",
    "## Integers"
   ]
  },
  {
   "cell_type": "code",
   "execution_count": 2,
   "metadata": {
    "collapsed": false
   },
   "outputs": [
    {
     "data": {
      "text/plain": [
       "2"
      ]
     },
     "execution_count": 2,
     "metadata": {},
     "output_type": "execute_result"
    }
   ],
   "source": [
    "1+1"
   ]
  },
  {
   "cell_type": "code",
   "execution_count": 5,
   "metadata": {
    "collapsed": false
   },
   "outputs": [
    {
     "data": {
      "text/plain": [
       "int"
      ]
     },
     "execution_count": 5,
     "metadata": {},
     "output_type": "execute_result"
    }
   ],
   "source": [
    "a = 4\n",
    "type(a)"
   ]
  },
  {
   "cell_type": "markdown",
   "metadata": {},
   "source": [
    "Note that one does not declare the type of a variable before assigning its value. In C, conversely, one should write:\n",
    "\n",
    "```int a = 4;```"
   ]
  },
  {
   "cell_type": "markdown",
   "metadata": {},
   "source": [
    "## Floats"
   ]
  },
  {
   "cell_type": "code",
   "execution_count": 7,
   "metadata": {
    "collapsed": false
   },
   "outputs": [
    {
     "data": {
      "text/plain": [
       "float"
      ]
     },
     "execution_count": 7,
     "metadata": {},
     "output_type": "execute_result"
    }
   ],
   "source": [
    "c = 2.1\n",
    "type(c)"
   ]
  },
  {
   "cell_type": "markdown",
   "metadata": {},
   "source": [
    "## Boolean"
   ]
  },
  {
   "cell_type": "code",
   "execution_count": 8,
   "metadata": {
    "collapsed": false
   },
   "outputs": [
    {
     "data": {
      "text/plain": [
       "False"
      ]
     },
     "execution_count": 8,
     "metadata": {},
     "output_type": "execute_result"
    }
   ],
   "source": [
    "3 > 4"
   ]
  },
  {
   "cell_type": "code",
   "execution_count": 9,
   "metadata": {
    "collapsed": false
   },
   "outputs": [
    {
     "data": {
      "text/plain": [
       "bool"
      ]
     },
     "execution_count": 9,
     "metadata": {},
     "output_type": "execute_result"
    }
   ],
   "source": [
    "test = (3 > 4)\n",
    "type(test)"
   ]
  },
  {
   "cell_type": "markdown",
   "metadata": {},
   "source": [
    "_Tip_:A Python shell can therefore replace your pocket calculator, with the basic arithmetic operations ``+``, ``-``, ``*``, ``/``, ``%`` (modulo) natively implemented"
   ]
  },
  {
   "cell_type": "markdown",
   "metadata": {},
   "source": [
    "## Type conversion (casting)"
   ]
  },
  {
   "cell_type": "code",
   "execution_count": 10,
   "metadata": {
    "collapsed": false
   },
   "outputs": [
    {
     "data": {
      "text/plain": [
       "int"
      ]
     },
     "execution_count": 10,
     "metadata": {},
     "output_type": "execute_result"
    }
   ],
   "source": [
    "a = 1\n",
    "type(a)"
   ]
  },
  {
   "cell_type": "code",
   "execution_count": 11,
   "metadata": {
    "collapsed": false
   },
   "outputs": [
    {
     "data": {
      "text/plain": [
       "float"
      ]
     },
     "execution_count": 11,
     "metadata": {},
     "output_type": "execute_result"
    }
   ],
   "source": [
    "b = float(a)\n",
    "type(b)"
   ]
  },
  {
   "cell_type": "markdown",
   "metadata": {},
   "source": [
    "### Exercise 1: Compute the floating point expression of 3 / 2"
   ]
  },
  {
   "cell_type": "markdown",
   "metadata": {},
   "source": [
    "#  Containers\n",
    "\n",
    "_Tip_: Python provides many efficient types of containers, in which collections of objects can be stored.\n",
    "\n",
    "## Lists\n",
    "\n",
    "A list is an ordered collection of objects, that may have different types. For example:\n"
   ]
  },
  {
   "cell_type": "code",
   "execution_count": 14,
   "metadata": {
    "collapsed": false
   },
   "outputs": [
    {
     "data": {
      "text/plain": [
       "list"
      ]
     },
     "execution_count": 14,
     "metadata": {},
     "output_type": "execute_result"
    }
   ],
   "source": [
    "colors = ['red', 'blue', 'green', 'black', 'white']\n",
    "type(colors)"
   ]
  },
  {
   "cell_type": "markdown",
   "metadata": {},
   "source": [
    "Indexing: accessing individual objects contained in the list::"
   ]
  },
  {
   "cell_type": "code",
   "execution_count": 16,
   "metadata": {
    "collapsed": false
   },
   "outputs": [
    {
     "data": {
      "text/plain": [
       "'green'"
      ]
     },
     "execution_count": 16,
     "metadata": {},
     "output_type": "execute_result"
    }
   ],
   "source": [
    "colors[2]"
   ]
  },
  {
   "cell_type": "markdown",
   "metadata": {},
   "source": [
    "<h3 style=\"color: red\"> WARNING: **Indexing starts at 0** (as in C), not at 1 (as in Fortran or Matlab)!</h3>\n",
    "\n",
    "Counting from the end with negative indices:"
   ]
  },
  {
   "cell_type": "code",
   "execution_count": 17,
   "metadata": {
    "collapsed": false
   },
   "outputs": [
    {
     "data": {
      "text/plain": [
       "'white'"
      ]
     },
     "execution_count": 17,
     "metadata": {},
     "output_type": "execute_result"
    }
   ],
   "source": [
    "colors[-1]"
   ]
  },
  {
   "cell_type": "markdown",
   "metadata": {},
   "source": [
    "### >> Exercise: get the before last element in colors"
   ]
  },
  {
   "cell_type": "markdown",
   "metadata": {},
   "source": [
    "## Slicing: obtaining sublists of regularly-spaced elements\n"
   ]
  },
  {
   "cell_type": "code",
   "execution_count": 19,
   "metadata": {
    "collapsed": false
   },
   "outputs": [
    {
     "data": {
      "text/plain": [
       "['red', 'blue', 'green', 'black', 'white']"
      ]
     },
     "execution_count": 19,
     "metadata": {},
     "output_type": "execute_result"
    }
   ],
   "source": [
    "colors"
   ]
  },
  {
   "cell_type": "code",
   "execution_count": 20,
   "metadata": {
    "collapsed": false
   },
   "outputs": [
    {
     "data": {
      "text/plain": [
       "['green', 'black']"
      ]
     },
     "execution_count": 20,
     "metadata": {},
     "output_type": "execute_result"
    }
   ],
   "source": [
    "colors[2:4]"
   ]
  },
  {
   "cell_type": "markdown",
   "metadata": {},
   "source": [
    "**Slicing syntax**: ``colors[start:stop:stride]``\n",
    "\n",
    "  _Tip_: All slicing parameters are optional::"
   ]
  },
  {
   "cell_type": "code",
   "execution_count": 21,
   "metadata": {
    "collapsed": false
   },
   "outputs": [
    {
     "data": {
      "text/plain": [
       "['red', 'blue', 'green', 'black', 'white']"
      ]
     },
     "execution_count": 21,
     "metadata": {},
     "output_type": "execute_result"
    }
   ],
   "source": [
    "colors"
   ]
  },
  {
   "cell_type": "code",
   "execution_count": 22,
   "metadata": {
    "collapsed": false
   },
   "outputs": [
    {
     "data": {
      "text/plain": [
       "['black', 'white']"
      ]
     },
     "execution_count": 22,
     "metadata": {},
     "output_type": "execute_result"
    }
   ],
   "source": [
    "colors[3:]"
   ]
  },
  {
   "cell_type": "code",
   "execution_count": 23,
   "metadata": {
    "collapsed": false
   },
   "outputs": [
    {
     "data": {
      "text/plain": [
       "['red', 'blue', 'green']"
      ]
     },
     "execution_count": 23,
     "metadata": {},
     "output_type": "execute_result"
    }
   ],
   "source": [
    "colors[:3]"
   ]
  },
  {
   "cell_type": "markdown",
   "metadata": {},
   "source": [
    "### Exercise: what is the output of ```colors[::2]```. Why?\n",
    "\n"
   ]
  },
  {
   "cell_type": "markdown",
   "metadata": {},
   "source": [
    "# Dictionaries"
   ]
  },
  {
   "cell_type": "markdown",
   "metadata": {
    "collapsed": true
   },
   "source": [
    "A dictionary is basically an efficient table that **maps keys to values**. It is an **unordered** container"
   ]
  },
  {
   "cell_type": "code",
   "execution_count": 32,
   "metadata": {
    "collapsed": true
   },
   "outputs": [],
   "source": [
    "tel = {'emmanuelle': 5752, 'sebastian': 5578}"
   ]
  },
  {
   "cell_type": "code",
   "execution_count": 33,
   "metadata": {
    "collapsed": false
   },
   "outputs": [
    {
     "data": {
      "text/plain": [
       "{'emmanuelle': 5752, 'sebastian': 5578}"
      ]
     },
     "execution_count": 33,
     "metadata": {},
     "output_type": "execute_result"
    }
   ],
   "source": [
    "tel"
   ]
  },
  {
   "cell_type": "code",
   "execution_count": 34,
   "metadata": {
    "collapsed": true
   },
   "outputs": [],
   "source": [
    "tel['francis'] = 5915"
   ]
  },
  {
   "cell_type": "code",
   "execution_count": 35,
   "metadata": {
    "collapsed": false
   },
   "outputs": [
    {
     "data": {
      "text/plain": [
       "{'emmanuelle': 5752, 'francis': 5915, 'sebastian': 5578}"
      ]
     },
     "execution_count": 35,
     "metadata": {},
     "output_type": "execute_result"
    }
   ],
   "source": [
    "tel"
   ]
  },
  {
   "cell_type": "code",
   "execution_count": 36,
   "metadata": {
    "collapsed": false
   },
   "outputs": [
    {
     "data": {
      "text/plain": [
       "5578"
      ]
     },
     "execution_count": 36,
     "metadata": {},
     "output_type": "execute_result"
    }
   ],
   "source": [
    "tel['sebastian']"
   ]
  },
  {
   "cell_type": "code",
   "execution_count": 37,
   "metadata": {
    "collapsed": false
   },
   "outputs": [
    {
     "data": {
      "text/plain": [
       "dict_keys(['francis', 'emmanuelle', 'sebastian'])"
      ]
     },
     "execution_count": 37,
     "metadata": {},
     "output_type": "execute_result"
    }
   ],
   "source": [
    "tel.keys()"
   ]
  },
  {
   "cell_type": "code",
   "execution_count": 38,
   "metadata": {
    "collapsed": false
   },
   "outputs": [
    {
     "data": {
      "text/plain": [
       "dict_values([5915, 5752, 5578])"
      ]
     },
     "execution_count": 38,
     "metadata": {},
     "output_type": "execute_result"
    }
   ],
   "source": [
    "tel.values()"
   ]
  },
  {
   "cell_type": "code",
   "execution_count": 39,
   "metadata": {
    "collapsed": false
   },
   "outputs": [
    {
     "data": {
      "text/plain": [
       "True"
      ]
     },
     "execution_count": 39,
     "metadata": {},
     "output_type": "execute_result"
    }
   ],
   "source": [
    "'francis' in tel"
   ]
  },
  {
   "cell_type": "markdown",
   "metadata": {},
   "source": [
    "It can be used to conveniently store and retrieve values\n",
    "associated with a name (a string for a date, a name, etc.). See\n",
    "https://docs.python.org/tutorial/datastructures.html#dictionaries\n",
    "for more information.\n",
    "\n",
    "_Tip_: A dictionary can have keys (resp. values) with different types:"
   ]
  },
  {
   "cell_type": "code",
   "execution_count": 40,
   "metadata": {
    "collapsed": false
   },
   "outputs": [
    {
     "data": {
      "text/plain": [
       "{'b': 2, 3: 'hello', 'a': 1}"
      ]
     },
     "execution_count": 40,
     "metadata": {},
     "output_type": "execute_result"
    }
   ],
   "source": [
    "d = {'a':1, 'b':2, 3:'hello'}\n",
    "d"
   ]
  },
  {
   "cell_type": "markdown",
   "metadata": {},
   "source": [
    "### >> Exercise: assign the telephone of sebastian to francis, and that of francis to sebastian.\n"
   ]
  },
  {
   "cell_type": "code",
   "execution_count": 27,
   "metadata": {
    "collapsed": false
   },
   "outputs": [
    {
     "data": {
      "text/plain": [
       "['yellow', 'blue', 'green', 'black', 'white']"
      ]
     },
     "execution_count": 27,
     "metadata": {},
     "output_type": "execute_result"
    }
   ],
   "source": [
    "colors"
   ]
  },
  {
   "cell_type": "markdown",
   "metadata": {},
   "source": [
    "The elements of a list may have different types::"
   ]
  },
  {
   "cell_type": "code",
   "execution_count": 30,
   "metadata": {
    "collapsed": false
   },
   "outputs": [
    {
     "data": {
      "text/plain": [
       "[3, -200, 'hello']"
      ]
     },
     "execution_count": 30,
     "metadata": {},
     "output_type": "execute_result"
    }
   ],
   "source": [
    "colors = [3, -200, 'hello']\n",
    "colors"
   ]
  },
  {
   "cell_type": "markdown",
   "metadata": {},
   "source": [
    "\n",
    "_Tip_: For collections of numerical data that all have the same type, it\n",
    "is often **more efficient** to use the ``array`` type provided by\n",
    "the ``numpy`` module. A NumPy array is a chunk of memory\n",
    "containing fixed-sized items.  With NumPy arrays, operations on\n",
    "elements can be faster because elements are regularly spaced in\n",
    "memory and more operations are performed through specialized C\n",
    "functions instead of Python loops."
   ]
  },
  {
   "cell_type": "markdown",
   "metadata": {},
   "source": [
    "Python offers a large panel of functions to modify lists, or query\n",
    "them. Here are a few examples; for more details, see\n",
    "https://docs.python.org/tutorial/datastructures.html#more-on-lists\n",
    "\n",
    "Add and remove elements::\n",
    "\n",
    "    >>> colors = ['red', 'blue', 'green', 'black', 'white']\n",
    "    >>> colors.append('pink')\n",
    "    >>> colors\n",
    "    ['red', 'blue', 'green', 'black', 'white', 'pink']\n",
    "    >>> colors.pop() # removes and returns the last item\n",
    "    'pink'\n",
    "    >>> colors\n",
    "    ['red', 'blue', 'green', 'black', 'white']\n",
    "    >>> colors.extend(['pink', 'purple']) # extend colors, in-place\n",
    "    >>> colors\n",
    "    ['red', 'blue', 'green', 'black', 'white', 'pink', 'purple']\n",
    "    >>> colors = colors[:-2]\n",
    "    >>> colors\n",
    "    ['red', 'blue', 'green', 'black', 'white']\n",
    "\n",
    "Reverse::\n",
    "\n",
    "    >>> rcolors = colors[::-1]\n",
    "    >>> rcolors\n",
    "    ['white', 'black', 'green', 'blue', 'red']\n",
    "    >>> rcolors2 = list(colors)\n",
    "    >>> rcolors2\n",
    "    ['red', 'blue', 'green', 'black', 'white']\n",
    "    >>> rcolors2.reverse() # in-place\n",
    "    >>> rcolors2\n",
    "    ['white', 'black', 'green', 'blue', 'red']\n",
    "\n",
    "Concatenate and repeat lists::\n",
    "\n",
    "    >>> rcolors + colors\n",
    "    ['white', 'black', 'green', 'blue', 'red', 'red', 'blue', 'green', 'black', 'white']\n",
    "    >>> rcolors * 2\n",
    "    ['white', 'black', 'green', 'blue', 'red', 'white', 'black', 'green', 'blue', 'red']\n",
    "\n"
   ]
  },
  {
   "cell_type": "code",
   "execution_count": 1,
   "metadata": {
    "collapsed": false
   },
   "outputs": [
    {
     "ename": "SyntaxError",
     "evalue": "invalid syntax (<ipython-input-1-e7149e08a2e5>, line 1)",
     "output_type": "error",
     "traceback": [
      "\u001b[0;36m  File \u001b[0;32m\"<ipython-input-1-e7149e08a2e5>\"\u001b[0;36m, line \u001b[0;32m1\u001b[0m\n\u001b[0;31m    Basic types\u001b[0m\n\u001b[0m              ^\u001b[0m\n\u001b[0;31mSyntaxError\u001b[0m\u001b[0;31m:\u001b[0m invalid syntax\n"
     ]
    }
   ],
   "source": [
    "\n",
    "\n",
    ".. tip::\n",
    "\n",
    "  Sort::\n",
    "\n",
    "    >>> sorted(rcolors) # new object\n",
    "    ['black', 'blue', 'green', 'red', 'white']\n",
    "    >>> rcolors\n",
    "    ['white', 'black', 'green', 'blue', 'red']\n",
    "    >>> rcolors.sort()  # in-place\n",
    "    >>> rcolors\n",
    "    ['black', 'blue', 'green', 'red', 'white']\n",
    "\n",
    ".. topic:: **Methods and Object-Oriented Programming**\n",
    "\n",
    "    The notation ``rcolors.method()`` (e.g. ``rcolors.append(3)`` and ``colors.pop()``) is our\n",
    "    first example of object-oriented programming (OOP). Being a ``list``, the\n",
    "    object `rcolors` owns the *method* `function` that is called using the notation\n",
    "    **.**. No further knowledge of OOP than understanding the notation **.** is\n",
    "    necessary for going through this tutorial.\n",
    "\n",
    "\n",
    "Strings\n",
    "~~~~~~~\n",
    "\n",
    "Different string syntaxes (simple, double or triple quotes)::\n",
    "\n",
    "    s = 'Hello, how are you?'\n",
    "    s = \"Hi, what's up\"\n",
    "    s = '''Hello,                 # tripling the quotes allows the\n",
    "           how are you'''         # the string to span more than one line\n",
    "    s = \"\"\"Hi,\n",
    "    what's up?\"\"\"\n",
    "\n",
    ".. sourcecode:: ipython\n",
    "\n",
    "    In [1]: 'Hi, what's up?'\n",
    "    ------------------------------------------------------------\n",
    "       File \"<ipython console>\", line 1\n",
    "        'Hi, what's up?'\n",
    "               ^\n",
    "    SyntaxError: invalid syntax\n",
    "\n",
    "\n",
    "The newline character is ``\\n``, and the tab character is\n",
    "``\\t``.\n",
    "\n",
    ".. tip::\n",
    "\n",
    "    Strings are collections like lists. Hence they can be indexed and\n",
    "    sliced, using the same syntax and rules.\n",
    "\n",
    "Indexing::\n",
    "\n",
    "    >>> a = \"hello\"\n",
    "    >>> a[0]\n",
    "    'h'\n",
    "    >>> a[1]\n",
    "    'e'\n",
    "    >>> a[-1]\n",
    "    'o'\n",
    "\n",
    ".. tip::\n",
    "\n",
    "    (Remember that negative indices correspond to counting from the right\n",
    "    end.)\n",
    "\n",
    "Slicing::\n",
    "\n",
    "\n",
    "    >>> a = \"hello, world!\"\n",
    "    >>> a[3:6] # 3rd to 6th (excluded) elements: elements 3, 4, 5\n",
    "    'lo,'\n",
    "    >>> a[2:10:2] # Syntax: a[start:stop:step]\n",
    "    'lo o'\n",
    "    >>> a[::3] # every three characters, from beginning to end\n",
    "    'hl r!'\n",
    "\n",
    ".. tip::\n",
    "   \n",
    "    Accents and special characters can also be handled in Unicode strings\n",
    "    (see\n",
    "    https://docs.python.org/tutorial/introduction.html#unicode-strings).\n",
    "\n",
    "\n",
    "A string is an **immutable object** and it is not possible to modify its\n",
    "contents. One may however create new strings from the original one.\n",
    "\n",
    ".. sourcecode:: ipython\n",
    "\n",
    "    In [53]: a = \"hello, world!\"\n",
    "    In [54]: a[2] = 'z'\n",
    "    ---------------------------------------------------------------------------\n",
    "    Traceback (most recent call last):\n",
    "       File \"<stdin>\", line 1, in <module>\n",
    "    TypeError: 'str' object does not support item assignment\n",
    "\n",
    "    In [55]: a.replace('l', 'z', 1)\n",
    "    Out[55]: 'hezlo, world!'\n",
    "    In [56]: a.replace('l', 'z')\n",
    "    Out[56]: 'hezzo, worzd!'\n",
    "\n",
    ".. tip::\n",
    "\n",
    "    Strings have many useful methods, such as ``a.replace`` as seen\n",
    "    above. Remember the ``a.`` object-oriented notation and use tab\n",
    "    completion or ``help(str)`` to search for new methods.\n",
    "\n",
    ".. seealso::\n",
    "\n",
    "    Python offers advanced possibilities for manipulating strings,\n",
    "    looking for patterns or formatting. The interested reader is referred to\n",
    "    https://docs.python.org/library/stdtypes.html#string-methods and\n",
    "    https://docs.python.org/library/string.html#new-string-formatting\n",
    "\n",
    "String formatting::\n",
    "\n",
    "    >>> 'An integer: %i; a float: %f; another string: %s' % (1, 0.1, 'string')\n",
    "    'An integer: 1; a float: 0.100000; another string: string'\n",
    "\n",
    "    >>> i = 102\n",
    "    >>> filename = 'processing_of_dataset_%d.txt' % i\n",
    "    >>> filename\n",
    "    'processing_of_dataset_102.txt'\n",
    "\n",
    "More container types\n",
    "~~~~~~~~~~~~~~~~~~~~\n",
    "\n",
    "**Tuples**\n",
    "\n",
    "Tuples are basically immutable lists. The elements of a tuple are written\n",
    "between parentheses, or just separated by commas::\n",
    "\n",
    "    >>> t = 12345, 54321, 'hello!'\n",
    "    >>> t[0]\n",
    "    12345\n",
    "    >>> t\n",
    "    (12345, 54321, 'hello!')\n",
    "    >>> u = (0, 2)\n",
    "\n",
    "**Sets:** unordered, unique items::\n",
    "\n",
    "    >>> s = set(('a', 'b', 'c', 'a'))\n",
    "    >>> s    # doctest: +SKIP\n",
    "    set(['a', 'c', 'b'])\n",
    "    >>> s.difference(('a', 'b'))    # doctest: +SKIP\n",
    "    set(['c'])\n",
    "\n",
    "Assignment operator\n",
    "-------------------\n",
    "\n",
    ".. tip::\n",
    "\n",
    " `Python library reference\n",
    " <https://docs.python.org/reference/simple_stmts.html#assignment-statements>`_\n",
    " says:\n",
    "\n",
    "  Assignment statements are used to (re)bind names to values and to\n",
    "  modify attributes or items of mutable objects.\n",
    "\n",
    " In short, it works as follows (simple assignment):\n",
    "\n",
    " #. an expression on the right hand side is evaluated, the corresponding\n",
    "    object is created/obtained\n",
    " #. a **name** on the left hand side is assigned, or bound, to the\n",
    "    r.h.s. object\n",
    "\n",
    "Things to note:\n",
    "\n",
    "* a single object can have several names bound to it:\n",
    "\n",
    "    .. sourcecode:: ipython\n",
    "\n",
    "        In [1]: a = [1, 2, 3]\n",
    "        In [2]: b = a\n",
    "        In [3]: a\n",
    "        Out[3]: [1, 2, 3]\n",
    "        In [4]: b\n",
    "        Out[4]: [1, 2, 3]\n",
    "        In [5]: a is b\n",
    "        Out[5]: True\n",
    "        In [6]: b[1] = 'hi!'\n",
    "        In [7]: a\n",
    "        Out[7]: [1, 'hi!', 3]\n",
    "\n",
    "* to change a list *in place*, use indexing/slices:\n",
    "\n",
    "    .. sourcecode:: ipython\n",
    "\n",
    "        In [1]: a = [1, 2, 3]\n",
    "        In [3]: a\n",
    "        Out[3]: [1, 2, 3]\n",
    "        In [4]: a = ['a', 'b', 'c'] # Creates another object.\n",
    "        In [5]: a\n",
    "        Out[5]: ['a', 'b', 'c']\n",
    "        In [6]: id(a)\n",
    "        Out[6]: 138641676\n",
    "        In [7]: a[:] = [1, 2, 3] # Modifies object in place.\n",
    "        In [8]: a\n",
    "        Out[8]: [1, 2, 3]\n",
    "        In [9]: id(a)\n",
    "        Out[9]: 138641676 # Same as in Out[6], yours will differ...\n",
    "\n",
    "* the key concept here is **mutable vs. immutable**\n",
    "\n",
    "    * mutable objects can be changed in place\n",
    "    * immutable objects cannot be modified once created\n",
    "\n",
    ".. seealso:: A very good and detailed explanation of the above issues can\n",
    "   be found in David M. Beazley's article `Types and Objects in Python\n",
    "   <http://www.informit.com/articles/article.aspx?p=453682>`_.\n"
   ]
  },
  {
   "cell_type": "code",
   "execution_count": null,
   "metadata": {
    "collapsed": true
   },
   "outputs": [],
   "source": []
  }
 ],
 "metadata": {
  "kernelspec": {
   "display_name": "Python 3",
   "language": "python",
   "name": "python3"
  },
  "language_info": {
   "codemirror_mode": {
    "name": "ipython",
    "version": 3
   },
   "file_extension": ".py",
   "mimetype": "text/x-python",
   "name": "python",
   "nbconvert_exporter": "python",
   "pygments_lexer": "ipython3",
   "version": "3.5.2"
  }
 },
 "nbformat": 4,
 "nbformat_minor": 0
}
