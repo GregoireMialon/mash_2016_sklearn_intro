{
 "cells": [
  {
   "cell_type": "markdown",
   "metadata": {},
   "source": [
    "# Introduction to deep learning using Keras\n",
    "\n",
    "In this class we will explore some of the deep learning capabilities of the library Keras. After this class, you will be able to:\n",
    "\n",
    "  * Build and train a simple model using this library.\n",
    "  * Use data augmentation to generate \"fake\" samples and improve accuracy of a deep learning model with limited training data.\n",
    "  * Standing on the shoulders of giants: use a pretrained network to improve accuracy for:\n",
    "    - image classification\n",
    "    - natural language processing.\n",
    "\n",
    "\n",
    "## First steps with keras\n",
    "\n",
    "First, we will install Keras. If you don't have keras installed, executing the following line will install it\n"
   ]
  },
  {
   "cell_type": "code",
   "execution_count": 1,
   "metadata": {
    "collapsed": false
   },
   "outputs": [
    {
     "name": "stdout",
     "output_type": "stream",
     "text": [
      "Fetching package metadata .........\n",
      "Solving package specifications: ..........\n",
      "\n",
      "# All requested packages already installed.\n",
      "# packages in environment at /Users/fabianpedregosa/anaconda3:\n",
      "#\n",
      "keras                     1.0.7                    py35_0    conda-forge\n",
      "tensorflow                0.12.1                   py35_1    conda-forge\n"
     ]
    }
   ],
   "source": [
    "!conda install --yes --channel https://conda.anaconda.org/conda-forge keras tensorflow"
   ]
  },
  {
   "cell_type": "markdown",
   "metadata": {},
   "source": [
    "## First steps with Keras\n",
    "\n",
    "Keras is a high-level library for deep learning with an API modeled after scikit-learn. It makes use of Theano of Tensorflow beneath the scenes for the actual computations."
   ]
  },
  {
   "cell_type": "code",
   "execution_count": 1,
   "metadata": {
    "collapsed": false,
    "scrolled": true
   },
   "outputs": [
    {
     "name": "stdout",
     "output_type": "stream",
     "text": [
      "Populating the interactive namespace from numpy and matplotlib\n"
     ]
    },
    {
     "name": "stderr",
     "output_type": "stream",
     "text": [
      "Using Theano backend.\n"
     ]
    }
   ],
   "source": [
    "%pylab inline\n",
    "\n",
    "from keras.models import Sequential\n",
    "from keras.layers import Dense, Activation, Dropout"
   ]
  },
  {
   "cell_type": "markdown",
   "metadata": {},
   "source": [
    "The API has two modes, Sequential and Functional. We will focus on the Sequential API. \n",
    "\n",
    "This API is based on the ```Sequential``` object, to which we add the different layers of the network. We will start with a simple shallow networks, a single-layer perceptron:"
   ]
  },
  {
   "cell_type": "code",
   "execution_count": 2,
   "metadata": {
    "collapsed": false
   },
   "outputs": [
    {
     "name": "stdout",
     "output_type": "stream",
     "text": [
      "____________________________________________________________________________________________________\n",
      "Layer (type)                     Output Shape          Param #     Connected to                     \n",
      "====================================================================================================\n",
      "dense_1 (Dense)                  (None, 1)             5           dense_input_1[0][0]              \n",
      "====================================================================================================\n",
      "Total params: 5\n",
      "____________________________________________________________________________________________________\n"
     ]
    }
   ],
   "source": [
    "# generate dummy data\n",
    "from sklearn import datasets\n",
    "iris = datasets.load_iris()\n",
    "X = iris.data\n",
    "y = (iris.target >= 1).astype(int)  # take only two classes for simplicity\n",
    "n_features = iris.data.shape[1]\n",
    "\n",
    "model = Sequential()\n",
    "model.add(Dense(1, input_dim=n_features, activation='sigmoid'))\n",
    "\n",
    "# model.summary prints a description of your model\n",
    "model.summary()"
   ]
  },
  {
   "cell_type": "code",
   "execution_count": 3,
   "metadata": {
    "collapsed": false
   },
   "outputs": [
    {
     "data": {
      "text/plain": [
       "(150, 4)"
      ]
     },
     "execution_count": 3,
     "metadata": {},
     "output_type": "execute_result"
    }
   ],
   "source": [
    "X.shape"
   ]
  },
  {
   "cell_type": "markdown",
   "metadata": {},
   "source": [
    "We will now train the model on the dummy generated data.\n",
    "\n",
    "<img style=\"float: left; width: 50px; top: -20px\" src=\"https://cdn1.iconfinder.com/data/icons/hawcons/32/700303-icon-61-warning-128.png\" /> In Keras, before a model is fitted it needs to be \"compiled\".\n"
   ]
  },
  {
   "cell_type": "code",
   "execution_count": 4,
   "metadata": {
    "collapsed": false
   },
   "outputs": [
    {
     "name": "stdout",
     "output_type": "stream",
     "text": [
      "Epoch 1/10\n",
      "150/150 [==============================] - 0s - loss: 3.9016 - acc: 0.3333     \n",
      "Epoch 2/10\n",
      "150/150 [==============================] - 0s - loss: 3.8090 - acc: 0.3333     \n",
      "Epoch 3/10\n",
      "150/150 [==============================] - 0s - loss: 3.7413 - acc: 0.3333     \n",
      "Epoch 4/10\n",
      "150/150 [==============================] - 0s - loss: 3.6788 - acc: 0.3333     \n",
      "Epoch 5/10\n",
      "150/150 [==============================] - 0s - loss: 3.6212 - acc: 0.3333     \n",
      "Epoch 6/10\n",
      "150/150 [==============================] - 0s - loss: 3.5651 - acc: 0.3333     \n",
      "Epoch 7/10\n",
      "150/150 [==============================] - 0s - loss: 3.5088 - acc: 0.3333     \n",
      "Epoch 8/10\n",
      "150/150 [==============================] - 0s - loss: 3.4530 - acc: 0.3333     \n",
      "Epoch 9/10\n",
      "150/150 [==============================] - 0s - loss: 3.3977 - acc: 0.3333     \n",
      "Epoch 10/10\n",
      "150/150 [==============================] - 0s - loss: 3.3433 - acc: 0.3333     \n"
     ]
    },
    {
     "data": {
      "text/plain": [
       "<keras.callbacks.History at 0x11312cf28>"
      ]
     },
     "execution_count": 4,
     "metadata": {},
     "output_type": "execute_result"
    }
   ],
   "source": [
    "model.compile(loss='binary_crossentropy',\n",
    "              optimizer='rmsprop',\n",
    "              metrics=['accuracy'])\n",
    "\n",
    "# train the model, iterating on the data in batches\n",
    "# of 32 samples\n",
    "model.fit(X, y, nb_epoch=10)"
   ]
  },
  {
   "cell_type": "code",
   "execution_count": 6,
   "metadata": {
    "collapsed": false
   },
   "outputs": [
    {
     "data": {
      "text/plain": [
       "['loss', 'acc']"
      ]
     },
     "execution_count": 6,
     "metadata": {},
     "output_type": "execute_result"
    }
   ],
   "source": [
    "model.metrics_names"
   ]
  },
  {
   "cell_type": "code",
   "execution_count": 5,
   "metadata": {
    "collapsed": false
   },
   "outputs": [
    {
     "name": "stdout",
     "output_type": "stream",
     "text": [
      "\r",
      " 32/150 [=====>........................] - ETA: 0s"
     ]
    },
    {
     "data": {
      "text/plain": [
       "[3.308848554690679, 0.33333333333333331]"
      ]
     },
     "execution_count": 5,
     "metadata": {},
     "output_type": "execute_result"
    }
   ],
   "source": [
    "# the score can be computed using model.evaluate\n",
    "model.evaluate(X, y)"
   ]
  },
  {
   "cell_type": "markdown",
   "metadata": {},
   "source": [
    "## Scikit-learn <=> Keras dictionary\n",
    "\n",
    "```model.fit```  <-> ```model.compile``` followed by ```model.fit```\n",
    "\n",
    "```model.predict``` <-> ```model.predict```\n",
    "\n",
    "```model.score``` <-> ```model.evaluate(x)[1]```\n",
    "\n",
    "---\n",
    "\n",
    "## Going deeper\n",
    "\n",
    "The great aspect of Keras is that it makes it easier to build more complex models by adding layers to the network. This is achieved e.g. with the ```.add``` method"
   ]
  },
  {
   "cell_type": "code",
   "execution_count": 11,
   "metadata": {
    "collapsed": false
   },
   "outputs": [
    {
     "name": "stdout",
     "output_type": "stream",
     "text": [
      "____________________________________________________________________________________________________\n",
      "Layer (type)                     Output Shape          Param #     Connected to                     \n",
      "====================================================================================================\n",
      "dense_8 (Dense)                  (None, 64)            320         dense_input_4[0][0]              \n",
      "____________________________________________________________________________________________________\n",
      "dropout_5 (Dropout)              (None, 64)            0           dense_8[0][0]                    \n",
      "____________________________________________________________________________________________________\n",
      "dense_9 (Dense)                  (None, 64)            4160        dropout_5[0][0]                  \n",
      "____________________________________________________________________________________________________\n",
      "dropout_6 (Dropout)              (None, 64)            0           dense_9[0][0]                    \n",
      "____________________________________________________________________________________________________\n",
      "dense_10 (Dense)                 (None, 1)             65          dropout_6[0][0]                  \n",
      "====================================================================================================\n",
      "Total params: 4545\n",
      "____________________________________________________________________________________________________\n",
      "None\n"
     ]
    }
   ],
   "source": [
    "model = Sequential()\n",
    "model.add(Dense(64, input_dim=n_features, init='uniform', activation='tanh'))\n",
    "model.add(Dropout(0.5))\n",
    "model.add(Dense(64, activation='relu'))\n",
    "model.add(Dropout(0.5))\n",
    "model.add(Dense(1, activation='sigmoid'))\n",
    "\n",
    "model.compile(loss='binary_crossentropy',\n",
    "              optimizer='rmsprop',\n",
    "              metrics=['accuracy'])\n",
    "\n",
    "print(model.summary())"
   ]
  },
  {
   "cell_type": "code",
   "execution_count": 12,
   "metadata": {
    "collapsed": false
   },
   "outputs": [
    {
     "name": "stdout",
     "output_type": "stream",
     "text": [
      "Epoch 1/20\n",
      "150/150 [==============================] - 0s - loss: 0.6547 - acc: 0.6400     \n",
      "Epoch 2/20\n",
      "150/150 [==============================] - 0s - loss: 0.5556 - acc: 0.7000     \n",
      "Epoch 3/20\n",
      "150/150 [==============================] - 0s - loss: 0.4632 - acc: 0.7667     \n",
      "Epoch 4/20\n",
      "150/150 [==============================] - 0s - loss: 0.4484 - acc: 0.7733     \n",
      "Epoch 5/20\n",
      "150/150 [==============================] - 0s - loss: 0.3769 - acc: 0.8667     \n",
      "Epoch 6/20\n",
      "150/150 [==============================] - 0s - loss: 0.3577 - acc: 0.8667     \n",
      "Epoch 7/20\n",
      "150/150 [==============================] - 0s - loss: 0.2688 - acc: 0.9800     \n",
      "Epoch 8/20\n",
      "150/150 [==============================] - 0s - loss: 0.2605 - acc: 0.9667     \n",
      "Epoch 9/20\n",
      "150/150 [==============================] - 0s - loss: 0.2063 - acc: 0.9867     \n",
      "Epoch 10/20\n",
      "150/150 [==============================] - 0s - loss: 0.1719 - acc: 1.0000     \n",
      "Epoch 11/20\n",
      "150/150 [==============================] - 0s - loss: 0.1441 - acc: 0.9933     \n",
      "Epoch 12/20\n",
      "150/150 [==============================] - 0s - loss: 0.1229 - acc: 1.0000     \n",
      "Epoch 13/20\n",
      "150/150 [==============================] - 0s - loss: 0.0953 - acc: 1.0000     \n",
      "Epoch 14/20\n",
      "150/150 [==============================] - 0s - loss: 0.0875 - acc: 1.0000     \n",
      "Epoch 15/20\n",
      "150/150 [==============================] - 0s - loss: 0.0654 - acc: 1.0000     \n",
      "Epoch 16/20\n",
      "150/150 [==============================] - 0s - loss: 0.0450 - acc: 1.0000     \n",
      "Epoch 17/20\n",
      "150/150 [==============================] - 0s - loss: 0.0410 - acc: 1.0000     \n",
      "Epoch 18/20\n",
      "150/150 [==============================] - 0s - loss: 0.0288 - acc: 1.0000     \n",
      "Epoch 19/20\n",
      "150/150 [==============================] - 0s - loss: 0.0310 - acc: 1.0000     \n",
      "Epoch 20/20\n",
      "150/150 [==============================] - 0s - loss: 0.0213 - acc: 1.0000     \n"
     ]
    },
    {
     "data": {
      "text/plain": [
       "<keras.callbacks.History at 0x1141c9898>"
      ]
     },
     "execution_count": 12,
     "metadata": {},
     "output_type": "execute_result"
    }
   ],
   "source": [
    "# train the model, iterating on the data in batches\n",
    "# of 32 samples\n",
    "model.fit(X, y, nb_epoch=20)\n"
   ]
  },
  {
   "cell_type": "code",
   "execution_count": 13,
   "metadata": {
    "collapsed": false
   },
   "outputs": [
    {
     "name": "stdout",
     "output_type": "stream",
     "text": [
      "\r",
      " 32/150 [=====>........................] - ETA: 0s"
     ]
    },
    {
     "data": {
      "text/plain": [
       "[0.0082744594876809664, 1.0]"
      ]
     },
     "execution_count": 13,
     "metadata": {},
     "output_type": "execute_result"
    }
   ],
   "source": [
    "model.evaluate(X, y)"
   ]
  },
  {
   "cell_type": "markdown",
   "metadata": {},
   "source": [
    "Unsurprisingly, it performs better on the train set since the model is more complex."
   ]
  },
  {
   "cell_type": "markdown",
   "metadata": {},
   "source": [
    "# Deep learning on images\n",
    "\n",
    "Now lets turn to a real example, discriminating between dogs or cats in natural images:\n",
    "\n",
    "![](https://blog.keras.io/img/imgclf/cats_and_dogs.png)\n",
    "\n",
    "For this, I have prepared a dataset consisting of 1000 cats and 1000 dogs that you can [download from here](https://www.dropbox.com/s/p0vsabq3og88702/cats_vs_dogs.zip?dl=0). You should extract it to the current directory (i.e. wherever this notebook lives)."
   ]
  },
  {
   "cell_type": "code",
   "execution_count": 14,
   "metadata": {
    "collapsed": false
   },
   "outputs": [
    {
     "name": "stdout",
     "output_type": "stream",
     "text": [
      "Found 2000 images belonging to 2 classes.\n",
      "Found 400 images belonging to 2 classes.\n"
     ]
    }
   ],
   "source": [
    "from keras.preprocessing.image import ImageDataGenerator, array_to_img, img_to_array, load_img\n",
    "\n",
    "# this is a generator that will read pictures found in\n",
    "# subfolers of '$dataset/train'\n",
    "train_datagen = ImageDataGenerator(rescale=1./255)\n",
    "train_generator = train_datagen.flow_from_directory(\n",
    "        'cats_vs_dogs/train',  # this is the target directory\n",
    "        target_size=(150, 150),  # all images will be resized to 150x150\n",
    "        batch_size=32,\n",
    "        class_mode='binary')  # since we use binary_crossentropy loss, we need binary labels\n",
    "\n",
    "# this is a similar generator, for validation data\n",
    "test_datagen = ImageDataGenerator(rescale=1./255)\n",
    "test_generator = test_datagen.flow_from_directory(\n",
    "        'cats_vs_dogs/test',\n",
    "        target_size=(150, 150),\n",
    "        batch_size=32,\n",
    "        class_mode='binary')"
   ]
  },
  {
   "cell_type": "code",
   "execution_count": 15,
   "metadata": {
    "collapsed": false
   },
   "outputs": [],
   "source": [
    "from keras.models import Sequential\n",
    "from keras.layers import Convolution2D, MaxPooling2D\n",
    "from keras.layers import Activation, Dropout, Flatten, Dense\n",
    "\n",
    "model = Sequential()\n",
    "model.add(Convolution2D(32, 3, 3, input_shape=(3, 150, 150), activation='relu'))\n",
    "# model.add(Activation('relu'))\n",
    "model.add(MaxPooling2D(pool_size=(2, 2)))\n",
    "\n",
    "model.add(Convolution2D(32, 3, 3))\n",
    "model.add(Activation('relu'))\n",
    "model.add(MaxPooling2D(pool_size=(2, 2)))\n",
    "\n",
    "model.add(Convolution2D(64, 3, 3))\n",
    "model.add(Activation('relu'))\n",
    "model.add(MaxPooling2D(pool_size=(2, 2)))\n",
    "\n",
    "# the model so far outputs 3D feature maps (height, width, features)\n",
    "# On top of it we stick two fully-connected layers. We end the model with a single unit and a sigmoid activation, \n",
    "# which is perfect for a binary classification. To go with it we will also use the binary_crossentropy\n",
    "# loss to train our model.\n",
    "\n",
    "model.add(Flatten())  # this converts our 3D feature maps to 1D feature vectors\n",
    "model.add(Dense(64))\n",
    "model.add(Activation('relu'))\n",
    "model.add(Dropout(0.5))\n",
    "model.add(Dense(1))\n",
    "model.add(Activation('sigmoid'))\n",
    "\n",
    "model.compile(loss='binary_crossentropy',\n",
    "              optimizer='rmsprop',\n",
    "              metrics=['accuracy'])"
   ]
  },
  {
   "cell_type": "code",
   "execution_count": 29,
   "metadata": {
    "collapsed": false
   },
   "outputs": [
    {
     "name": "stdout",
     "output_type": "stream",
     "text": [
      "____________________________________________________________________________________________________\n",
      "Layer (type)                     Output Shape          Param #     Connected to                     \n",
      "====================================================================================================\n",
      "convolution2d_1 (Convolution2D)  (None, 32, 148, 148)  896         convolution2d_input_1[0][0]      \n",
      "____________________________________________________________________________________________________\n",
      "maxpooling2d_1 (MaxPooling2D)    (None, 32, 74, 74)    0           convolution2d_1[0][0]            \n",
      "____________________________________________________________________________________________________\n",
      "convolution2d_2 (Convolution2D)  (None, 32, 72, 72)    9248        maxpooling2d_1[0][0]             \n",
      "____________________________________________________________________________________________________\n",
      "activation_1 (Activation)        (None, 32, 72, 72)    0           convolution2d_2[0][0]            \n",
      "____________________________________________________________________________________________________\n",
      "maxpooling2d_2 (MaxPooling2D)    (None, 32, 36, 36)    0           activation_1[0][0]               \n",
      "____________________________________________________________________________________________________\n",
      "convolution2d_3 (Convolution2D)  (None, 64, 34, 34)    18496       maxpooling2d_2[0][0]             \n",
      "____________________________________________________________________________________________________\n",
      "activation_2 (Activation)        (None, 64, 34, 34)    0           convolution2d_3[0][0]            \n",
      "____________________________________________________________________________________________________\n",
      "maxpooling2d_3 (MaxPooling2D)    (None, 64, 17, 17)    0           activation_2[0][0]               \n",
      "____________________________________________________________________________________________________\n",
      "flatten_1 (Flatten)              (None, 18496)         0           maxpooling2d_3[0][0]             \n",
      "____________________________________________________________________________________________________\n",
      "dense_11 (Dense)                 (None, 64)            1183808     flatten_1[0][0]                  \n",
      "____________________________________________________________________________________________________\n",
      "activation_3 (Activation)        (None, 64)            0           dense_11[0][0]                   \n",
      "____________________________________________________________________________________________________\n",
      "dropout_7 (Dropout)              (None, 64)            0           activation_3[0][0]               \n",
      "____________________________________________________________________________________________________\n",
      "dense_12 (Dense)                 (None, 1)             65          dropout_7[0][0]                  \n",
      "____________________________________________________________________________________________________\n",
      "activation_4 (Activation)        (None, 1)             0           dense_12[0][0]                   \n",
      "====================================================================================================\n",
      "Total params: 1212513\n",
      "____________________________________________________________________________________________________\n"
     ]
    }
   ],
   "source": [
    "model.summary()"
   ]
  },
  {
   "cell_type": "code",
   "execution_count": 17,
   "metadata": {
    "collapsed": false
   },
   "outputs": [],
   "source": [
    "out = train_generator.next()\n"
   ]
  },
  {
   "cell_type": "code",
   "execution_count": 27,
   "metadata": {
    "collapsed": false
   },
   "outputs": [
    {
     "data": {
      "text/plain": [
       "<matplotlib.image.AxesImage at 0x11a0f8898>"
      ]
     },
     "execution_count": 27,
     "metadata": {},
     "output_type": "execute_result"
    },
    {
     "data": {
      "image/png": "[encoded data removed]",
      "text/plain": [
       "<matplotlib.figure.Figure at 0x11a0b2ba8>"
      ]
     },
     "metadata": {},
     "output_type": "display_data"
    }
   ],
   "source": [
    "plt.imshow(out[0][0].T)"
   ]
  },
  {
   "cell_type": "code",
   "execution_count": 30,
   "metadata": {
    "collapsed": false
   },
   "outputs": [
    {
     "name": "stdout",
     "output_type": "stream",
     "text": [
      "Epoch 1/5\n",
      "2000/2000 [==============================] - 82s - loss: 0.6733 - acc: 0.6055 - val_loss: 0.6624 - val_acc: 0.6058\n",
      "Epoch 2/5\n",
      "2000/2000 [==============================] - 79s - loss: 0.6028 - acc: 0.6690 - val_loss: 0.6435 - val_acc: 0.6116\n",
      "Epoch 3/5\n",
      "2000/2000 [==============================] - 78s - loss: 0.5576 - acc: 0.7180 - val_loss: 0.6053 - val_acc: 0.6827\n",
      "Epoch 4/5\n",
      "2000/2000 [==============================] - 79s - loss: 0.5146 - acc: 0.7585 - val_loss: 0.6661 - val_acc: 0.7019\n",
      "Epoch 5/5\n",
      "2000/2000 [==============================] - 79s - loss: 0.4601 - acc: 0.7800 - val_loss: 0.6550 - val_acc: 0.6295\n"
     ]
    }
   ],
   "source": [
    "model.fit_generator(\n",
    "        train_generator,\n",
    "        samples_per_epoch=2000,\n",
    "        nb_epoch=5,\n",
    "        validation_data=test_generator,\n",
    "        nb_val_samples=200\n",
    ")\n",
    "model.save_weights('first_try.h5')  # always save your weights after training or during training"
   ]
  },
  {
   "cell_type": "markdown",
   "metadata": {},
   "source": [
    "\n",
    "# Problem 1:\n",
    "\n",
    "  * What is going on? This architecture achives above 90% accuracy on Imagenet -- a much more challenging task.\n",
    "  * How can we solve this issue?"
   ]
  },
  {
   "cell_type": "code",
   "execution_count": 31,
   "metadata": {
    "collapsed": false
   },
   "outputs": [
    {
     "name": "stdout",
     "output_type": "stream",
     "text": [
      "Found 2000 images belonging to 2 classes.\n",
      "Found 400 images belonging to 2 classes.\n"
     ]
    }
   ],
   "source": [
    "train_datagen = ImageDataGenerator(\n",
    "        rescale=1./255,\n",
    "        shear_range=0.2,\n",
    "        zoom_range=0.2,\n",
    "        horizontal_flip=True)\n",
    "\n",
    "# this is the augmentation configuration we will use for testing:\n",
    "# only rescaling\n",
    "test_datagen = ImageDataGenerator(rescale=1./255)\n",
    "\n",
    "# this is a generator that will read pictures found in\n",
    "# subfolers of 'data/train', and indefinitely generate\n",
    "# batches of augmented image data\n",
    "train_generator = train_datagen.flow_from_directory(\n",
    "        'cats_vs_dogs/train',  # this is the target directory\n",
    "        target_size=(150, 150),  # all images will be resized to 150x150\n",
    "        batch_size=32,\n",
    "        class_mode='binary')  # since we use binary_crossentropy loss, we need binary labels\n",
    "\n",
    "# this is a similar generator, for validation data\n",
    "test_generator = test_datagen.flow_from_directory(\n",
    "        'cats_vs_dogs/test',\n",
    "        target_size=(150, 150),\n",
    "        batch_size=32,\n",
    "        class_mode='binary')"
   ]
  },
  {
   "cell_type": "markdown",
   "metadata": {},
   "source": [
    "# Using pretrained networks\n",
    "\n",
    "Another way to leaverage similarity with existing datasets is through pretrained networks. Such a network would have already learned features that are useful for most computer vision problems, and leveraging such features would allow us to reach a better accuracy than any method that would only rely on the available data.\n",
    "\n",
    "# Problem 2\n",
    "\n",
    "Use a pre-trained networks to generate the appropriate features for this task. For this, we will:\n",
    "\n",
    " * [Download the weights](https://drive.google.com/file/d/0Bz7KyqmuGsilT0J5dmRCM0ROVHc/view?usp=sharing) of an existing model, more precisely a 16-layer network used by the VGG team in the ILSVRC-2014 competition.\n",
    " \n",
    " * The code below will generate the features for the train set and save it to the file ```bottleneck_features_train.npy``` and ```bottleneck_features_test.npy```.\n",
    "\n",
    " * Construct a simple classifier (e.g. a scikit-learn linear model) that uses these features to predict cat/dog (this is the part that you need to code :-).\n"
   ]
  },
  {
   "cell_type": "code",
   "execution_count": 40,
   "metadata": {
    "collapsed": true
   },
   "outputs": [],
   "source": [
    "# template code to get you started\n",
    "\n",
    "import os\n",
    "import h5py\n",
    "import numpy as np\n",
    "from keras.preprocessing.image import ImageDataGenerator\n",
    "from keras.models import Sequential\n",
    "from keras.layers import Convolution2D, MaxPooling2D, ZeroPadding2D\n",
    "from keras.layers import Activation, Dropout, Flatten, Dense\n",
    "\n",
    "# path to the model weights file.\n",
    "weights_path = 'vgg16_weights.h5'\n",
    "# dimensions of our images.\n",
    "img_width, img_height = 150, 150\n",
    "\n",
    "train_data_dir = 'cats_vs_dogs/train'\n",
    "validation_data_dir = 'cats_vs_dogs/test'\n",
    "nb_train_samples = 2000\n",
    "nb_validation_samples = 800\n",
    "nb_epoch = 50\n",
    "\n",
    "\n",
    "def save_bottlebeck_features():\n",
    "    datagen = ImageDataGenerator(rescale=1./255)\n",
    "\n",
    "    # build the VGG16 network\n",
    "    model = Sequential()\n",
    "    model.add(ZeroPadding2D((1, 1), input_shape=(3, img_width, img_height)))\n",
    "\n",
    "    model.add(Convolution2D(64, 3, 3, activation='relu', name='conv1_1'))\n",
    "    model.add(ZeroPadding2D((1, 1)))\n",
    "    model.add(Convolution2D(64, 3, 3, activation='relu', name='conv1_2'))\n",
    "    model.add(MaxPooling2D((2, 2), strides=(2, 2)))\n",
    "\n",
    "    model.add(ZeroPadding2D((1, 1)))\n",
    "    model.add(Convolution2D(128, 3, 3, activation='relu', name='conv2_1'))\n",
    "    model.add(ZeroPadding2D((1, 1)))\n",
    "    model.add(Convolution2D(128, 3, 3, activation='relu', name='conv2_2'))\n",
    "    model.add(MaxPooling2D((2, 2), strides=(2, 2)))\n",
    "\n",
    "    model.add(ZeroPadding2D((1, 1)))\n",
    "    model.add(Convolution2D(256, 3, 3, activation='relu', name='conv3_1'))\n",
    "    model.add(ZeroPadding2D((1, 1)))\n",
    "    model.add(Convolution2D(256, 3, 3, activation='relu', name='conv3_2'))\n",
    "    model.add(ZeroPadding2D((1, 1)))\n",
    "    model.add(Convolution2D(256, 3, 3, activation='relu', name='conv3_3'))\n",
    "    model.add(MaxPooling2D((2, 2), strides=(2, 2)))\n",
    "\n",
    "    model.add(ZeroPadding2D((1, 1)))\n",
    "    model.add(Convolution2D(512, 3, 3, activation='relu', name='conv4_1'))\n",
    "    model.add(ZeroPadding2D((1, 1)))\n",
    "    model.add(Convolution2D(512, 3, 3, activation='relu', name='conv4_2'))\n",
    "    model.add(ZeroPadding2D((1, 1)))\n",
    "    model.add(Convolution2D(512, 3, 3, activation='relu', name='conv4_3'))\n",
    "    model.add(MaxPooling2D((2, 2), strides=(2, 2)))\n",
    "\n",
    "    model.add(ZeroPadding2D((1, 1)))\n",
    "    model.add(Convolution2D(512, 3, 3, activation='relu', name='conv5_1'))\n",
    "    model.add(ZeroPadding2D((1, 1)))\n",
    "    model.add(Convolution2D(512, 3, 3, activation='relu', name='conv5_2'))\n",
    "    model.add(ZeroPadding2D((1, 1)))\n",
    "    model.add(Convolution2D(512, 3, 3, activation='relu', name='conv5_3'))\n",
    "    model.add(MaxPooling2D((2, 2), strides=(2, 2)))\n",
    "\n",
    "    # load the weights of the VGG16 networks\n",
    "    # (trained on ImageNet, won the ILSVRC competition in 2014)\n",
    "    # note: when there is a complete match between your model definition\n",
    "    # and your weight savefile, you can simply call model.load_weights(filename)\n",
    "    assert os.path.exists(weights_path), 'Model weights not found (see \"weights_path\" variable in script).'\n",
    "    f = h5py.File(weights_path)\n",
    "    for k in range(f.attrs['nb_layers']):\n",
    "        if k >= len(model.layers):\n",
    "            # we don't look at the last (fully-connected) layers in the savefile\n",
    "            break\n",
    "        g = f['layer_{}'.format(k)]\n",
    "        weights = [g['param_{}'.format(p)] for p in range(g.attrs['nb_params'])]\n",
    "        model.layers[k].set_weights(weights)\n",
    "    f.close()\n",
    "    print('Model loaded.')\n",
    "\n",
    "    generator = datagen.flow_from_directory(\n",
    "            train_data_dir,\n",
    "            target_size=(img_width, img_height),\n",
    "            batch_size=32,\n",
    "            class_mode=None,\n",
    "            shuffle=False)\n",
    "    bottleneck_features_train = model.predict_generator(generator, nb_train_samples)\n",
    "\n",
    "\n",
    "    generator = datagen.flow_from_directory(\n",
    "            validation_data_dir,\n",
    "            target_size=(img_width, img_height),\n",
    "            batch_size=32,\n",
    "            class_mode=None,\n",
    "            shuffle=False)\n",
    "    bottleneck_features_validation = model.predict_generator(generator, nb_validation_samples)\n",
    "\n",
    "    return bottleneck_features_train, bottleneck_features_validation\n",
    "\n",
    "    # TODO: save the features and do the same on the test set\n"
   ]
  },
  {
   "cell_type": "code",
   "execution_count": 41,
   "metadata": {
    "collapsed": false
   },
   "outputs": [
    {
     "name": "stdout",
     "output_type": "stream",
     "text": [
      "Model loaded.\n",
      "Found 2000 images belonging to 2 classes.\n",
      "Found 400 images belonging to 2 classes.\n"
     ]
    }
   ],
   "source": [
    "feat_train, feat_test = save_bottlebeck_features()"
   ]
  },
  {
   "cell_type": "code",
   "execution_count": 37,
   "metadata": {
    "collapsed": false
   },
   "outputs": [
    {
     "data": {
      "text/plain": [
       "(2000, 512, 4, 4)"
      ]
     },
     "execution_count": 37,
     "metadata": {},
     "output_type": "execute_result"
    }
   ],
   "source": []
  },
  {
   "cell_type": "markdown",
   "metadata": {},
   "source": [
    "## Problem 3: pretrained models for natural language\n",
    "\n",
    "It is also possible to use pretrained networks for the task of classification of text data. In this case we will make use of word embedding and the GloVe networks which you can [download from here](http://nlp.stanford.edu/data/glove.6B.zip).\n",
    "\n",
    "\n",
    "As motivation task, we will use an old friend, the 20news dataset :-)\n"
   ]
  },
  {
   "cell_type": "code",
   "execution_count": 66,
   "metadata": {
    "collapsed": false
   },
   "outputs": [
    {
     "name": "stdout",
     "output_type": "stream",
     "text": [
      "data loaded\n",
      "Example sample in the dataset: \n",
      "\n",
      "\n",
      "Actually, Hiten wasn't originally intended to go into lunar orbit at all,\n",
      "so it indeed didn't have much fuel on hand.  The lunar-orbit mission was\n",
      "an afterthought, after Hagoromo (a tiny subsatellite deployed by Hiten\n",
      "during a lunar flyby) had a transmitter failure and its proper insertion\n",
      "into lunar orbit couldn't be positively confirmed.\n",
      "\n",
      "It should be noted that the technique does have disadvantages.  It takes\n",
      "a long time, and you end up with a relatively inconvenient lunar orbit.\n",
      "If you want something useful like a low circular polar orbit, you do have\n",
      "to plan to expend a certain amount of fuel, although it is reduced from\n",
      "what you'd need for the brute-force approach.\n"
     ]
    }
   ],
   "source": [
    "# load the 20news dataset\n",
    "\n",
    "from sklearn import datasets\n",
    "\n",
    "categories = [\n",
    "        'comp.graphics',\n",
    "        'sci.space',\n",
    "    ]\n",
    "remove = ('headers', 'footers', 'quotes')\n",
    "texts = datasets.fetch_20newsgroups(subset='all', categories=categories,\n",
    "                                shuffle=True, random_state=42,\n",
    "                                remove=remove)\n",
    "\n",
    "# data_test = datasets.fetch_20newsgroups(subset='test', categories=categories,\n",
    "#                                shuffle=True, random_state=42,\n",
    "#                                remove=remove)\n",
    "print('data loaded')\n",
    "print('Example sample in the dataset: \\n')\n",
    "print(texts.data[0])"
   ]
  },
  {
   "cell_type": "code",
   "execution_count": 72,
   "metadata": {
    "collapsed": false
   },
   "outputs": [
    {
     "name": "stdout",
     "output_type": "stream",
     "text": [
      "Found 25148 unique tokens.\n",
      "Shape of data tensor: (1960, 1000)\n",
      "Shape of label tensor: (1960, 2)\n"
     ]
    },
    {
     "name": "stderr",
     "output_type": "stream",
     "text": [
      "/Users/fabianpedregosa/dev/scikit-learn/sklearn/cross_validation.py:43: DeprecationWarning: This module has been deprecated in favor of the model_selection module into which all the refactored classes and functions are moved. Also note that the interface of the new CV iterators are different from that of this module. This module will be removed in 0.20.\n",
      "  \"This module will be removed in 0.20.\", DeprecationWarning)\n"
     ]
    }
   ],
   "source": [
    "\n",
    "from keras.preprocessing.text import Tokenizer\n",
    "from keras.preprocessing.sequence import pad_sequences\n",
    "from keras.utils.np_utils import to_categorical\n",
    "from sklearn import cross_validation\n",
    "from keras.layers.embeddings import Embedding\n",
    "\n",
    "MAX_NB_WORDS = 20000\n",
    "MAX_SEQUENCE_LENGTH = 1000\n",
    "tokenizer = Tokenizer(nb_words=MAX_NB_WORDS)\n",
    "tokenizer.fit_on_texts(texts.data)\n",
    "sequences = tokenizer.texts_to_sequences(texts.data)\n",
    "\n",
    "word_index = tokenizer.word_index\n",
    "print('Found %s unique tokens.' % len(word_index))\n",
    "\n",
    "data = pad_sequences(sequences, maxlen=MAX_SEQUENCE_LENGTH)\n",
    "\n",
    "labels = to_categorical(np.asarray(texts.target))\n",
    "print('Shape of data tensor:', data.shape)\n",
    "print('Shape of label tensor:', labels.shape)\n",
    "\n",
    "X_train, X_test, y_train, y_test = cross_validation.train_test_split(texts.data, texts.target)"
   ]
  },
  {
   "cell_type": "code",
   "execution_count": 80,
   "metadata": {
    "collapsed": false
   },
   "outputs": [
    {
     "name": "stdout",
     "output_type": "stream",
     "text": [
      "Indexing word vectors.\n"
     ]
    }
   ],
   "source": [
    "print('Indexing word vectors.')\n",
    "\n",
    "embeddings_index = {}\n",
    "f = open('glove.6B/glove.6B.100d.txt')\n",
    "for line in f:\n",
    "    values = line.split()\n",
    "    word = values[0]\n",
    "    coefs = np.asarray(values[1:], dtype='float32')\n",
    "    embeddings_index[word] = coefs\n",
    "f.close()"
   ]
  },
  {
   "cell_type": "code",
   "execution_count": 82,
   "metadata": {
    "collapsed": false
   },
   "outputs": [],
   "source": [
    "\n",
    "# prepare embedding matrix\n",
    "EMBEDDING_DIM = 100\n",
    "nb_words = min(MAX_NB_WORDS, len(word_index))\n",
    "embedding_matrix = np.zeros((nb_words + 1, EMBEDDING_DIM))\n",
    "for word, i in word_index.items():\n",
    "    if i > MAX_NB_WORDS:\n",
    "        continue\n",
    "    embedding_vector = embeddings_index.get(word)\n",
    "    if embedding_vector is not None:\n",
    "        # words not found in embedding index will be all-zeros.\n",
    "        embedding_matrix[i] = embedding_vector\n",
    "\n",
    "# load pre-trained word embeddings into an Embedding layer\n",
    "# note that we set trainable = False so as to keep the embeddings fixed\n",
    "embedding_layer = Embedding(nb_words + 1,\n",
    "                            EMBEDDING_DIM,\n",
    "                            weights=[embedding_matrix],\n",
    "                            input_length=MAX_SEQUENCE_LENGTH,\n",
    "                            trainable=False)\n"
   ]
  },
  {
   "cell_type": "code",
   "execution_count": 84,
   "metadata": {
    "collapsed": false
   },
   "outputs": [],
   "source": [
    "# take it from here, e.g., see https://keras.io/layers/embeddings/"
   ]
  },
  {
   "cell_type": "code",
   "execution_count": null,
   "metadata": {
    "collapsed": true
   },
   "outputs": [],
   "source": []
  }
 ],
 "metadata": {
  "kernelspec": {
   "display_name": "Python 3",
   "language": "python",
   "name": "python3"
  },
  "language_info": {
   "codemirror_mode": {
    "name": "ipython",
    "version": 3
   },
   "file_extension": ".py",
   "mimetype": "text/x-python",
   "name": "python",
   "nbconvert_exporter": "python",
   "pygments_lexer": "ipython3",
   "version": "3.5.2"
  }
 },
 "nbformat": 4,
 "nbformat_minor": 0
}
