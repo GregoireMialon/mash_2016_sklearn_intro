{
 "cells": [
  {
   "cell_type": "markdown",
   "metadata": {},
   "source": [
    "# RYTHM DATA CHALLENGE : HYPNOGRAMME ET EEG"
   ]
  },
  {
   "cell_type": "markdown",
   "metadata": {},
   "source": [
    "## I. Importation des données\n",
    "\n",
    "- 1) Importation des librairies\n",
    "- 2) Importation des données et visualisation\n",
    "\n",
    "## II. Hypnogramme\n",
    "\n",
    "- 1) Visualisation des hypnogrammes\n",
    "- 2) Pourcentages des types (type={-1,0,1,2,3,4})\n",
    "- 3) Rapport du nombre de types\n",
    "- 4) Matrice de transitions des types\n",
    "- 5) Longueur des phases pour chaque type\n",
    "- 6) Décomposition de l'hypnogramme par type de phase\n",
    "- 7) Les k phases dominantes (k fixé)\n",
    "- 8) Violence du sommeil\n",
    "- 9) Hypnogramme par bloc\n",
    "- 10) Nombre de phases par type et nombre de phases par hypnogramme\n",
    "- 11) Temps d'endormissement\n",
    "- 12) Durée du sommeil (court ou long dormeur, seuil fixé)\n",
    "- 13) Longueur moyennes des phases par type\n",
    "\n",
    "## III. EEG\n",
    "\n",
    "- 1) Visualisation du signal EEG\n",
    "- 2) Calcul de la moyenne et de la variance des EEG\n",
    "- 3) Calcul de l'entropie\n",
    "- 4) Coefficients de Fourrier, moyenne et variance, skew et kurtosis\n",
    "- 5) Périodogramme sur les coefficients de Fourrier, moyenne\n",
    "- 6) Signal Welch sur Fourrier\n",
    "- 7) Transformation en ondelettes, coefficients, moyenne, variance, skew et kurtosis\n",
    "- 8) Pisarenko Harmonic Decomposition\n",
    "- 9) Signal Filt Filt, moyenne et variance\n",
    "\n",
    "## IV. Création de features\n",
    "\n",
    "- 1) Features sur l'hypnogramme\n",
    "- 2) Features sur les EEG\n",
    "- 3) Concaténation des features et normalisation\n",
    "\n",
    "## V. Valeurs aberrantes\n",
    "\n",
    "- 1) Liste des âges par indice\n",
    "- 2) Ages qui se répètent le plus (plus de 15 fois)\n",
    "- 3) Boites à moustache : Région de confiance à 95%\n",
    "- 4) Suppression des valeurs aberrantes (seuil à 0.15)\n",
    "\n",
    "## VI. Tests\n",
    "\n",
    "- 1) Définition de la métrique\n",
    "- 2) Random Forest\n",
    "- 3) Gradiant Boosting\n",
    "- 4) XGBoost\n",
    "\n",
    "## VII. Soumission"
   ]
  },
  {
   "cell_type": "markdown",
   "metadata": {},
   "source": [
    "## I. Importation des données\n",
    "\n",
    "1) Importation des librairies\n"
   ]
  },
  {
   "cell_type": "code",
   "execution_count": 1,
   "metadata": {
    "collapsed": true
   },
   "outputs": [],
   "source": [
    "# some imports\n",
    "\n",
    "#figures\n",
    "#from figures import visualize_tree, plot_tree_interactive\n",
    "# numpy\n",
    "import numpy as np\n",
    "# pandas\n",
    "import pandas as pd\n",
    "import matplotlib.pyplot as plt\n",
    "import math\n",
    "import cmath\n",
    "import scipy.signal as sg\n",
    "import xgboost as xgb\n",
    "%matplotlib inline\n",
    "from scipy import fftpack\n",
    "from scipy.fftpack import fft, ifft\n",
    "from scipy import stats as st\n",
    "import math\n",
    "import cmath\n",
    "import scipy.signal as sg\n",
    "#import pyeeg\n",
    "import pywt\n",
    "import sklearn as sk"
   ]
  },
  {
   "cell_type": "markdown",
   "metadata": {},
   "source": [
    "2) Importation des données et visualisation"
   ]
  },
  {
   "cell_type": "code",
   "execution_count": 2,
   "metadata": {
    "collapsed": false
   },
   "outputs": [],
   "source": [
    "df_X_train = pd.read_csv('train_input.csv', sep=';')\n",
    "df_X_test  = pd.read_csv('test_input.csv', sep=';')\n",
    "df_y_train = pd.read_csv('challenge_output_data_training_file_age_prediction_from_eeg_signals.csv', sep=';')"
   ]
  },
  {
   "cell_type": "code",
   "execution_count": 3,
   "metadata": {
    "collapsed": false
   },
   "outputs": [
    {
     "name": "stdout",
     "output_type": "stream",
     "text": [
      "Number of samples in train set: 581\n",
      "Length of the test set: 249\n"
     ]
    }
   ],
   "source": [
    "df_X_train.shape\n",
    "df_X_test.shape\n",
    "df_y_train.shape\n",
    "n_train = df_X_train.shape[0]\n",
    "print('Number of samples in train set: %s' % n_train)\n",
    "print('Length of the test set: %s' % df_X_test.shape[0])\n",
    "\n",
    "#concat=pd.concat([df_X_train, df_y_train], axis=1)"
   ]
  },
  {
   "cell_type": "code",
   "execution_count": 4,
   "metadata": {
    "collapsed": false
   },
   "outputs": [
    {
     "name": "stdout",
     "output_type": "stream",
     "text": [
      "Number of individuals: 830\n",
      "Number of raw features: 75004\n"
     ]
    }
   ],
   "source": [
    "df_X_all = pd.concat([df_X_train, df_X_test])\n",
    "df_X_all.reset_index(inplace=True)\n",
    "print('Number of individuals: %s' % df_X_all.shape[0])\n",
    "print('Number of raw features: %s' % df_X_all.shape[1])"
   ]
  },
  {
   "cell_type": "code",
   "execution_count": 5,
   "metadata": {
    "collapsed": true
   },
   "outputs": [],
   "source": [
    "features = ['EEG_%s'% i for i in range(0, 75000)]\n",
    "#df_X_all[features].shape\n",
    "df_X_numerical = pd.get_dummies(df_X_all[features])"
   ]
  },
  {
   "cell_type": "code",
   "execution_count": 173,
   "metadata": {
    "collapsed": false
   },
   "outputs": [
    {
     "data": {
      "image/png": "[encoded data removed]",
      "text/plain": [
       "<matplotlib.figure.Figure at 0x1c71143f2e8>"
      ]
     },
     "metadata": {},
     "output_type": "display_data"
    },
    {
     "name": "stdout",
     "output_type": "stream",
     "text": [
      "18 68\n"
     ]
    }
   ],
   "source": [
    "plt.hist(df_y_train['TARGET'], bins=100)\n",
    "plt.show()\n",
    "print(np.amin(df_y_train['TARGET']), np.amax(df_y_train['TARGET']))"
   ]
  },
  {
   "cell_type": "markdown",
   "metadata": {},
   "source": [
    "- Dix ensembles de cinq ans d'intervalles\n",
    "- Fréquence : 250 Hz\n",
    "\n",
    "Data description \n",
    "\n",
    "The data contains two types of information :\n",
    "- Variables 'EEG' : a continuous 5min period of EEG signal during deep sleep.\n",
    "- Variables 'HYPNOGRAM': list of variable length corresponding to the hypnogram associated to the deep sleep EEG sample given. The values are 0 (for Wake), 1 (for N1), 2 (N2), 3 (Deep sleep - N3), 4 (REM), -1 (when scoring was not possible)."
   ]
  },
  {
   "cell_type": "markdown",
   "metadata": {},
   "source": [
    "## II. Hypnogramme\n",
    "\n",
    "1) Visualisation des hypnogrammes"
   ]
  },
  {
   "cell_type": "code",
   "execution_count": 7,
   "metadata": {
    "collapsed": false
   },
   "outputs": [
    {
     "data": {
      "image/png": "[encoded data removed]",
      "text/plain": [
       "<matplotlib.figure.Figure at 0x1c70aa06240>"
      ]
     },
     "metadata": {},
     "output_type": "display_data"
    },
    {
     "data": {
      "text/plain": [
       "array([ 0,  0,  0,  0,  0,  0,  0,  0,  0,  0,  0,  0,  0,  0,  0,  0,  0,\n",
       "        0,  2,  2,  1,  0,  0,  0,  0,  2,  0,  2,  2,  0,  0,  0,  0,  0,\n",
       "        0,  0,  0,  0,  2,  0,  0,  0,  2,  0,  0,  0,  0,  0,  0,  1,  1,\n",
       "        1,  2,  1,  2,  2,  2,  2,  0,  2,  2,  2,  2,  2,  2,  2,  2,  2,\n",
       "        2,  2,  2,  2,  2,  2,  2,  2,  2,  2,  3,  3,  2,  2,  3,  2,  3,\n",
       "        3,  3,  3,  3,  3,  3,  3,  3,  3,  3,  3,  3,  3,  3,  3,  3,  3,\n",
       "        3,  3,  3,  3,  3,  3,  3,  3,  3,  3,  3,  3,  3,  3,  3,  3,  3,\n",
       "        3,  3,  3,  3,  3,  3,  3,  3,  3,  3,  3,  3,  3,  3,  3,  3,  3,\n",
       "        3,  2,  2,  3,  3,  3,  2,  0,  0,  2,  3,  2,  2,  2,  2,  2,  2,\n",
       "        4,  2,  4,  2,  4,  4,  2,  4,  4,  4,  4,  2,  4,  4,  4,  4,  4,\n",
       "        4,  2,  4,  4,  2,  2,  2,  2,  4,  2,  2,  2,  2,  2,  2,  2,  2,\n",
       "        2,  2,  2,  2,  4,  2,  2,  2,  3,  2,  2,  2,  2,  2,  2,  2,  2,\n",
       "        2,  2,  2,  3,  3,  3,  3,  2,  3,  3,  3,  3,  3,  3,  3,  3,  3,\n",
       "        3,  3,  3,  3,  3,  0,  3,  2,  2,  2,  2,  3,  2,  2,  2,  2,  2,\n",
       "        2,  2,  3,  3,  3,  3,  3,  3,  3,  3,  3,  3,  3,  3,  3,  3,  3,\n",
       "        3,  3,  2,  3,  2,  2,  3,  3,  3,  3,  3,  3,  3, -1,  3,  2,  2,\n",
       "        2,  2,  2,  3,  4,  2,  2,  2,  2,  2,  2,  2,  2,  4,  4,  4,  2,\n",
       "        4,  4,  4,  4,  4,  4,  4,  4,  3,  4,  4,  4,  4,  4,  4,  4,  2,\n",
       "        2,  4,  3,  4,  4,  4, -1, -1, -1, -1, -1, -1, -1, -1, -1, -1, -1,\n",
       "       -1, -1, -1,  0,  4,  2,  4,  4,  4, -1,  3,  4,  4,  3,  4,  3,  4,\n",
       "       -1, -1, -1, -1,  0, -1,  0,  4,  4,  4,  4,  4,  4,  4,  2,  4,  2,\n",
       "        4,  2,  2,  2,  2,  0,  2,  2,  2,  2,  2,  2,  2,  2,  2,  2,  2,\n",
       "        2,  2,  2,  2,  2,  2,  2,  2,  2,  2,  2,  2,  2,  2,  2,  2,  2,\n",
       "        2,  2,  2,  2,  2,  2,  2,  2,  2,  3,  3,  2,  2,  3,  2,  3,  2,\n",
       "        2,  3,  3,  3,  3,  3,  3,  3,  3,  2,  2,  2,  3, -1,  3,  2,  2,\n",
       "        2,  2,  2,  2,  2,  2,  2,  0,  2,  2,  2,  2,  2,  3,  3,  4,  2,\n",
       "        2,  2,  3,  2,  2,  2,  2,  0,  2,  2,  0,  3,  3,  2,  2,  2,  2,\n",
       "        2,  2,  2,  2,  2,  3,  2,  2,  2,  3,  3,  3,  3,  2,  3,  0,  2,\n",
       "        2,  2,  2,  3,  2,  2,  2,  2,  2,  2,  2,  4,  4,  4,  4,  4,  4,\n",
       "        0,  4,  2,  2,  2,  4,  4,  0,  4,  0,  2,  4,  4,  3,  0,  2,  0,\n",
       "        4,  4,  0,  0,  0,  0,  0,  0,  0,  0,  0,  2,  3,  2,  0,  3,  3,\n",
       "        3,  2,  2,  2,  3,  2,  2,  2,  2,  3,  3,  0,  0,  4,  4,  4,  4,\n",
       "        4,  0,  4,  2,  4,  0,  4,  4,  4,  2,  2,  2,  2,  4,  2,  2,  2,\n",
       "        2,  2,  2,  3,  2,  2,  2,  3,  2,  2,  2,  3,  3,  0,  2,  3,  2,\n",
       "        2,  2,  2,  2,  2,  2,  2,  2,  2,  2,  2,  2,  2,  2,  2,  3,  3,\n",
       "        3,  2,  2,  3,  2,  3,  3,  2,  3,  3,  3,  2,  3,  2,  2,  2,  3,\n",
       "        3,  1,  2,  3,  3,  3,  2,  2,  2,  2,  2,  2,  2,  2,  3,  2,  2,\n",
       "        2,  2,  2,  2,  2,  2,  2,  2,  2,  4,  4,  2,  4,  4,  2,  4,  4,\n",
       "        4,  4,  2,  4,  4,  4,  4,  4,  4,  4,  4,  0,  4,  4,  4,  4,  4,\n",
       "        4,  4,  2,  0,  4,  4,  4,  2,  2,  4,  2,  2,  4,  4,  0,  2,  2,\n",
       "        4,  4,  2,  2,  4,  2,  4,  4,  2,  4,  2,  2,  2,  2,  2,  2,  2,\n",
       "        2,  2,  2,  2,  2,  2,  2,  2,  2,  2,  2,  2,  2,  2,  2,  2,  2,\n",
       "        2,  2,  2,  2,  2,  2,  2,  2,  2,  2,  3,  2,  2,  2,  2,  2,  3,\n",
       "        3,  3,  3,  3,  3,  3,  3,  3,  3,  3,  3,  3,  3,  3,  3,  3,  3,\n",
       "        3,  3,  3,  3,  0,  3,  3,  3,  3,  2,  3,  2,  2,  4,  2,  2,  3,\n",
       "        3,  2,  2,  2,  2,  2,  2,  0,  2,  2,  2,  2,  2,  2,  2,  3,  2,\n",
       "        2,  4,  2,  4,  4,  4,  2,  4,  4,  4,  2,  4,  4,  4,  4,  4,  4,\n",
       "        0,  4,  2,  4,  4,  4,  2,  2,  2,  0,  4,  4,  4,  4,  4,  4,  4,\n",
       "        4,  0,  4,  4,  4,  4,  2,  4,  2,  2,  4,  4,  2,  0,  4,  4,  2,\n",
       "        2,  4,  2,  4,  4,  4,  2,  0,  2,  2,  2,  2,  2,  2,  2,  2,  2,\n",
       "        2,  2,  2,  2,  2,  2,  2,  2,  2,  2,  2,  2,  2,  2,  3,  2,  3,\n",
       "        3,  2,  2,  3,  2,  2,  2,  3,  3,  2,  3,  2,  2,  3,  3,  3,  2,\n",
       "        3,  2,  2,  2,  2,  2,  3,  3,  0,  3,  2,  2,  3,  3,  0,  3,  2,\n",
       "        3,  2,  2,  2,  2,  2,  3,  2,  2,  2,  2,  3,  2,  3,  3,  3,  3,\n",
       "        3,  3,  3,  3,  3,  2,  3,  3,  3,  0,  0,  1,  2,  2,  2,  2,  4,\n",
       "        4,  4,  4,  4,  4,  4,  4,  4,  0,  2,  4,  2,  2,  4,  4,  2,  4,\n",
       "        2,  0,  2,  2,  4,  4,  4,  2,  3,  4,  2,  2,  2,  3,  2,  2,  4,\n",
       "        2,  4])"
      ]
     },
     "execution_count": 7,
     "metadata": {},
     "output_type": "execute_result"
    }
   ],
   "source": [
    "HYP=df_X_all['HYPNOGRAM']\n",
    "def Hypno(k,plot):\n",
    "    A=HYP[k]\n",
    "    B=list(A)\n",
    "    for i in range(len(A)):\n",
    "        if A[i] in ['0','1','2','3','4','-']:\n",
    "            B[i]=A[i]\n",
    "        else:\n",
    "            B[i]=5    \n",
    "    for i in range(len(B)):\n",
    "        if B[i]=='-':\n",
    "            B[i]=7\n",
    "            B[i+1]=5    \n",
    "    B=[int(j) for j in B]\n",
    "    B = [x for x in B if x!= 5]\n",
    "    for i in range(len(B)):\n",
    "        if B[i]==7:\n",
    "            B[i]=-1\n",
    "    #B= [x for x in B if x != -1]\n",
    "    if(plot=='TRUE'):        \n",
    "        plt.ylim([-4, 6])    \n",
    "        for i in range(len(B)):\n",
    "            if(B[i]==-1):\n",
    "                plt.bar(i,B[i],width=0.35, edgecolor='blue')\n",
    "            if(B[i]==0):\n",
    "                plt.bar(i,B[i],width=0.35, edgecolor='red')\n",
    "            if(B[i]==1):\n",
    "                plt.bar(i,B[i],width=0.35, edgecolor='black')\n",
    "            if(B[i]==2):\n",
    "                plt.bar(i,B[i],width=0.35, edgecolor='green')\n",
    "            if(B[i]==3):\n",
    "                plt.bar(i,B[i],width=0.35, edgecolor='red')\n",
    "            if(B[i]==4):\n",
    "                plt.bar(i,B[i],width=0.35, edgecolor='yellow')\n",
    "        plt.show()  \n",
    "    \n",
    "    return(np.asarray(B))\n",
    "Hypno(0,'TRUE')"
   ]
  },
  {
   "cell_type": "code",
   "execution_count": 8,
   "metadata": {
    "collapsed": true
   },
   "outputs": [],
   "source": [
    "matrix_Hypno=list()\n",
    "for i in range(0,len(df_X_all)):\n",
    "    matrix_Hypno.append(Hypno(i,'FALSE'))"
   ]
  },
  {
   "cell_type": "markdown",
   "metadata": {},
   "source": [
    "2) Pourcentages des types (type={-1,0,1,2,3,4})"
   ]
  },
  {
   "cell_type": "code",
   "execution_count": 9,
   "metadata": {
    "collapsed": true
   },
   "outputs": [],
   "source": [
    "def pourcentage_hypno(X,k):\n",
    "    b=0\n",
    "    for i in range(0,len(X)):\n",
    "        if(X[i]==k):\n",
    "            b=b+1\n",
    "    return(b/len(X))\n",
    "\n",
    "#pourcentage_hypno(Hypno(764,'FALSE'),4)"
   ]
  },
  {
   "cell_type": "code",
   "execution_count": 10,
   "metadata": {
    "collapsed": true
   },
   "outputs": [],
   "source": [
    "matrix_pourcentage_hypno=np.zeros([len(df_X_all),6])\n",
    "for i in range(0,len(matrix_pourcentage_hypno)):\n",
    "        matrix_pourcentage_hypno[i,0]=pourcentage_hypno(matrix_Hypno[i],-1)\n",
    "        matrix_pourcentage_hypno[i,1]=pourcentage_hypno(matrix_Hypno[i],0)\n",
    "        matrix_pourcentage_hypno[i,2]=pourcentage_hypno(matrix_Hypno[i],1)\n",
    "        matrix_pourcentage_hypno[i,3]=pourcentage_hypno(matrix_Hypno[i],2)\n",
    "        matrix_pourcentage_hypno[i,4]=pourcentage_hypno(matrix_Hypno[i],3)\n",
    "        matrix_pourcentage_hypno[i,5]=pourcentage_hypno(matrix_Hypno[i],4)"
   ]
  },
  {
   "cell_type": "code",
   "execution_count": 11,
   "metadata": {
    "collapsed": false
   },
   "outputs": [
    {
     "data": {
      "text/plain": [
       "<matplotlib.collections.PathCollection at 0x1c70feb43c8>"
      ]
     },
     "execution_count": 11,
     "metadata": {},
     "output_type": "execute_result"
    },
    {
     "data": {
      "image/png": "[encoded data removed]",
      "text/plain": [
       "<matplotlib.figure.Figure at 0x1c70f55b5c0>"
      ]
     },
     "metadata": {},
     "output_type": "display_data"
    }
   ],
   "source": [
    "    \n",
    "    plt.scatter(range(0,len(matrix_pourcentage_hypno[0,:])),matrix_pourcentage_hypno[0,:])"
   ]
  },
  {
   "cell_type": "markdown",
   "metadata": {},
   "source": [
    "3) Rapport du nombre de types"
   ]
  },
  {
   "cell_type": "code",
   "execution_count": 12,
   "metadata": {
    "collapsed": true
   },
   "outputs": [],
   "source": [
    "def matrix_rapport_de_phase_i(i):\n",
    "    matrix_rapport=np.zeros([6,6])\n",
    "    d=matrix_pourcentage_hypno\n",
    "    \n",
    "    for k in range(0,5):\n",
    "        for j in range(0,5):\n",
    "            if(d[i,j]==0):\n",
    "                d[i,j]=1000\n",
    "                    \n",
    "            matrix_rapport[k,j]=d[i,k]/d[i,j]\n",
    "            \n",
    "    return(matrix_rapport)"
   ]
  },
  {
   "cell_type": "code",
   "execution_count": 13,
   "metadata": {
    "collapsed": true
   },
   "outputs": [],
   "source": [
    "List_rapport=list()\n",
    "for i in range(0,len(df_X_all)):\n",
    "    List_rapport.append(matrix_rapport_de_phase_i(i))"
   ]
  },
  {
   "cell_type": "code",
   "execution_count": 14,
   "metadata": {
    "collapsed": true
   },
   "outputs": [],
   "source": [
    "matrix_rapport_de_phase=np.zeros([len(df_X_all),15])\n",
    "\n",
    "for i in range(0,len(df_X_all)):\n",
    "    matrix_rapport_de_phase[i,0]=List_rapport[i][0,1]\n",
    "    matrix_rapport_de_phase[i,1]=List_rapport[i][0,2]\n",
    "    matrix_rapport_de_phase[i,2]=List_rapport[i][0,3]\n",
    "    matrix_rapport_de_phase[i,3]=List_rapport[i][0,4]\n",
    "    matrix_rapport_de_phase[i,4]=List_rapport[i][0,5]\n",
    "    matrix_rapport_de_phase[i,5]=List_rapport[i][1,2]\n",
    "    matrix_rapport_de_phase[i,6]=List_rapport[i][1,3]\n",
    "    matrix_rapport_de_phase[i,7]=List_rapport[i][1,4]\n",
    "    matrix_rapport_de_phase[i,8]=List_rapport[i][1,5]\n",
    "    matrix_rapport_de_phase[i,9]=List_rapport[i][2,3]\n",
    "    matrix_rapport_de_phase[i,10]=List_rapport[i][2,4]\n",
    "    matrix_rapport_de_phase[i,11]=List_rapport[i][2,5]\n",
    "    matrix_rapport_de_phase[i,12]=List_rapport[i][3,4]\n",
    "    matrix_rapport_de_phase[i,13]=List_rapport[i][3,5]\n",
    "    matrix_rapport_de_phase[i,14]=List_rapport[i][4,5]"
   ]
  },
  {
   "cell_type": "markdown",
   "metadata": {},
   "source": [
    "4) Matrice de transitions des types"
   ]
  },
  {
   "cell_type": "code",
   "execution_count": 15,
   "metadata": {
    "collapsed": true
   },
   "outputs": [],
   "source": [
    "def changement_hypno(A):\n",
    "    B=np.zeros([len(A),2])\n",
    "    j=0\n",
    "    for i in range(0,len(A)-1):\n",
    "        B[j,0]=A[i]\n",
    "        B[j,1]=A[i+1]\n",
    "        j=j+1\n",
    "        \n",
    "    C=list()\n",
    "    for j in range(-1,5):\n",
    "        for k in range(-1,5):\n",
    "            a=0\n",
    "            for i in range(0,len(A)):        \n",
    "                if((B[i,0]==j)&(B[i,1]==k)):\n",
    "                    a=a+1\n",
    "            C.append(a)\n",
    "    mat=np.zeros([6,6])\n",
    "\n",
    "    for j in range(-1,5):\n",
    "        for k in range(-1,5):\n",
    "            for i in range(0,len(A)):\n",
    "                if((B[i,0]==j)&(B[i,1]==k)):\n",
    "                    mat[j+1,k+1]=mat[j+1,k+1]+1\n",
    "    a=np.eye(len(mat))*np.diag(mat)\n",
    "    return (np.asarray(C),(mat-a).reshape(1,-1),mat-a)\n",
    "#A=Hypno(0,'FALSE')\n",
    "#changement_hypno(A)[0:3]\n",
    "#np.sum(changement_hypno(A)[2],axis=1)"
   ]
  },
  {
   "cell_type": "code",
   "execution_count": 16,
   "metadata": {
    "collapsed": false
   },
   "outputs": [
    {
     "name": "stdout",
     "output_type": "stream",
     "text": [
      "[   2.   30.    3.  113.   44.   91.]\n"
     ]
    }
   ],
   "source": [
    "def nombre_de_changement_de_phase_par_type(A):\n",
    "    liste=np.zeros(6)\n",
    "    for i in range(0,6):\n",
    "        liste[i]=np.sum(changement_hypno(A)[2],axis=1)[i]\n",
    "    return(liste)\n",
    "print(nombre_de_changement_de_phase_par_type(Hypno(3,'FALSE')))"
   ]
  },
  {
   "cell_type": "markdown",
   "metadata": {},
   "source": [
    "5) Longueur des phases pour chaque type"
   ]
  },
  {
   "cell_type": "code",
   "execution_count": 17,
   "metadata": {
    "collapsed": true
   },
   "outputs": [],
   "source": [
    "def Longueur_Des_Phases(H):\n",
    "    D=list()\n",
    "    i=0\n",
    "    while(i<len(H)-1):\n",
    "        a=1\n",
    "        while((H[i]==H[i+1])&(i<len(H)-2)):\n",
    "            a=a+1\n",
    "            i=i+1\n",
    "        i=i+1\n",
    "        D.append(a)\n",
    "    return np.asarray(D)\n",
    "#print(max(Longueur_Des_Phases(Hypno(2,'FALSE'))))\n",
    "#len(Hypno(2,'FALSE'))"
   ]
  },
  {
   "cell_type": "markdown",
   "metadata": {},
   "source": [
    "6) Décomposition de l'hypnogramme par type de phase"
   ]
  },
  {
   "cell_type": "code",
   "execution_count": 18,
   "metadata": {
    "collapsed": true
   },
   "outputs": [],
   "source": [
    "def Type_Phases(D,H):\n",
    "    S=np.zeros(len(D))\n",
    "    for i in range(0,len(D)):\n",
    "        S[i]=H[sum(D[0:i])]\n",
    "    return(S)\n",
    "#Type_Phases(Longueur_Des_Phases(Hypno(2,'FALSE')),Hypno(2,'FALSE'))"
   ]
  },
  {
   "cell_type": "markdown",
   "metadata": {},
   "source": [
    "7) Les k phases dominantes (k fixé)"
   ]
  },
  {
   "cell_type": "code",
   "execution_count": 19,
   "metadata": {
    "collapsed": true
   },
   "outputs": [],
   "source": [
    "k=5\n",
    "def Dix_Phases_Dominantes(D,S):\n",
    "    R=list()\n",
    "    i=0\n",
    "    A=np.sort(D)[len(D)-k:len(D)]\n",
    "    for i in range(0,len(A)):\n",
    "        for j in range(0,len(D)):\n",
    "            if(A[i]==D[j]):\n",
    "                a=S[j]        \n",
    "        R.append(a)\n",
    "    return(np.asarray(R))\n",
    "#Dix_Phases_Dominantes(Longueur_Des_Phases(Hypno(17,'FALSE')),Type_Phases(Longueur_Des_Phases(Hypno(17,'FALSE')),Hypno(17,'FALSE')))"
   ]
  },
  {
   "cell_type": "code",
   "execution_count": 20,
   "metadata": {
    "collapsed": true
   },
   "outputs": [],
   "source": [
    "matrix_Dix_Phases_Dominantes_hypno=np.zeros([len(df_X_all),k])\n",
    "for i in range(0,len(matrix_Dix_Phases_Dominantes_hypno)):\n",
    "    B=matrix_Hypno[i]\n",
    "    A=Longueur_Des_Phases(B)\n",
    "    matrix_Dix_Phases_Dominantes_hypno[i,:]=Dix_Phases_Dominantes(A,Type_Phases(A,B))\n",
    "#matrix_Dix_Phases_Dominantes_hypno"
   ]
  },
  {
   "cell_type": "code",
   "execution_count": 21,
   "metadata": {
    "collapsed": false
   },
   "outputs": [],
   "source": [
    "#Matrice des longueurs des k phases dominantes\n",
    "matrix_Long_Des_Dix_Phases_Dominantes=np.zeros([len(df_X_all),k])\n",
    "for i in range(0,len(df_X_all)):\n",
    "        matrix_Long_Des_Dix_Phases_Dominantes[i,:]=np.sort(Longueur_Des_Phases(matrix_Hypno[i]))[\n",
    "                                                        len(Longueur_Des_Phases(matrix_Hypno[i]))-k:\n",
    "                                                        len(Longueur_Des_Phases(matrix_Hypno[i]))]\n",
    "#matrix_Long_Des_Dix_Phases_Dominantes"
   ]
  },
  {
   "cell_type": "markdown",
   "metadata": {},
   "source": [
    "8) Violence du sommeil"
   ]
  },
  {
   "cell_type": "code",
   "execution_count": 22,
   "metadata": {
    "collapsed": true
   },
   "outputs": [],
   "source": [
    "def violence_du_sommeil(i):\n",
    "    A=matrix_Hypno[i]\n",
    "    lis=changement_hypno(A)[0]\n",
    "    violence=np.zeros([6])\n",
    "    \n",
    "    violence[0]=lis[0]+lis[7]+lis[14]+lis[21]+lis[28]+lis[35]\n",
    "    violence[1]=lis[1]+lis[6]+lis[8]+lis[13]+lis[15]+lis[20]+lis[22]+lis[27]+lis[29]+lis[34]\n",
    "    violence[2]=lis[2]+lis[9]+lis[12]+lis[16]+lis[19]+lis[23]+lis[26]+lis[33]\n",
    "    violence[3]=lis[3]+lis[10]+lis[17]+lis[18]+lis[25]+lis[32]\n",
    "    violence[4]=lis[4]+lis[11]+lis[24]+lis[31]\n",
    "    violence[5]=lis[5]+lis[30]\n",
    "    \n",
    "    violence = violence/len(A)\n",
    "    return(violence)"
   ]
  },
  {
   "cell_type": "code",
   "execution_count": 23,
   "metadata": {
    "collapsed": true
   },
   "outputs": [],
   "source": [
    "matrice_violence=np.zeros([len(df_X_all),6])\n",
    "\n",
    "for i in range(0,len(df_X_all)):\n",
    "    matrice_violence[i,:]=violence_du_sommeil(i)"
   ]
  },
  {
   "cell_type": "markdown",
   "metadata": {},
   "source": [
    "9) Hypnogramme par bloc"
   ]
  },
  {
   "cell_type": "code",
   "execution_count": 24,
   "metadata": {
    "collapsed": true
   },
   "outputs": [],
   "source": [
    "def phases_with_index(H):\n",
    "    return(np.concatenate(([Type_Phases(Longueur_Des_Phases(H),H)],[Longueur_Des_Phases(H)]),axis=0))\n",
    "\n",
    "#phases_with_index(Hypno(765,'FALSE')) #Première ligne Hyp, 2eme longueur de la phase"
   ]
  },
  {
   "cell_type": "code",
   "execution_count": 25,
   "metadata": {
    "collapsed": true
   },
   "outputs": [],
   "source": [
    "#On efface les pics i.e lorsqu'il y a un pic dans une phase\n",
    "\n",
    "def hypno_par_bloc(index,plot):\n",
    "    P=phases_with_index(Hypno(index,'FALSE'))\n",
    "    L=int(np.size(P)/len(P))\n",
    "    j=0\n",
    "    \n",
    "    for i in range(0,L):\n",
    "        if (P[1,i]!=1):\n",
    "            j=j+1\n",
    "\n",
    "    P2=np.zeros([2,j+1])\n",
    "    P2[0,j]=-2\n",
    "    P2[1,j]=-2\n",
    "    j=0\n",
    "    \n",
    "    for i in range(0,L):\n",
    "        if (P[1,i]!=1):\n",
    "            P2[:,j]=P[:,i]\n",
    "            j=j+1\n",
    "\n",
    "    k=0\n",
    "    for i in range(0,j):\n",
    "        if(P2[0,i]!=P2[0,i+1]):\n",
    "            k=k+1\n",
    "\n",
    "    RES=np.zeros([2,k+1])\n",
    "    RES[0,k]=-2\n",
    "    RES[1,k]=-2\n",
    "    \n",
    "    i=0\n",
    "    a=0\n",
    "    while ((i<j)&(a<k+1)):\n",
    "        RES[0,a]=P2[0,i]\n",
    "        s=P2[1,i]\n",
    "        while ((P2[0,i]==P2[0,i+1]) & (i<j)):\n",
    "            s=s+P2[1,i+1]\n",
    "            i=i+1\n",
    "        RES[1,a]=s\n",
    "        i=i+1\n",
    "        a=a+1\n",
    "\n",
    "    H_test=np.zeros(int(sum(RES[1,:])))\n",
    "    plt.ylim([-4, 6])\n",
    "\n",
    "    H_test[0:int(RES[1,0])]=RES[0,0]\n",
    "    somme=RES[1,0]\n",
    "    for m in range(1,k):\n",
    "    \n",
    "        H_test[int(somme):int(somme+RES[1,m])]=RES[0,m]\n",
    "        somme=somme+RES[1,m]\n",
    "    \n",
    "    if (plot=='TRUE'):\n",
    "        \n",
    "        B=H_test\n",
    "        for i in range(len(B)):\n",
    "            if(B[i]==-1):\n",
    "                plt.bar(i,B[i],width=0.35, edgecolor='blue')\n",
    "            if(B[i]==0):\n",
    "                plt.bar(i,B[i],width=0.35, edgecolor='red')\n",
    "            if(B[i]==1):\n",
    "                plt.bar(i,B[i],width=0.35, edgecolor='black')\n",
    "            if(B[i]==2):\n",
    "                plt.bar(i,B[i],width=0.35, edgecolor='green')\n",
    "            if(B[i]==3):\n",
    "                plt.bar(i,B[i],width=0.35, edgecolor='red')\n",
    "            if(B[i]==4):\n",
    "                plt.bar(i,B[i],width=0.35, edgecolor='yellow')  \n",
    "        plt.show()\n",
    "    \n",
    "    return(np.asarray(H_test))\n",
    "\n",
    "#hypno_par_bloc(9,'TRUE')"
   ]
  },
  {
   "cell_type": "markdown",
   "metadata": {},
   "source": [
    "10) Nombre de phases par type et nombre de phases par hypnogramme"
   ]
  },
  {
   "cell_type": "code",
   "execution_count": 26,
   "metadata": {
    "collapsed": true
   },
   "outputs": [],
   "source": [
    "def Nombre_de_Phases_par_Type(i):\n",
    "    TP=Type_Phases(Longueur_Des_Phases(matrix_Hypno[i]),matrix_Hypno[i])\n",
    "    return np.array([len(TP[TP==-1]),len(TP[TP==0]),len(TP[TP==1]),len(TP[TP==2]),len(TP[TP==3]),len(TP[TP==4])])\n",
    "#Nombre_de_Phases_par_Type(0)"
   ]
  },
  {
   "cell_type": "code",
   "execution_count": 27,
   "metadata": {
    "collapsed": true
   },
   "outputs": [],
   "source": [
    "matrix_Nombre_de_Phases_par_Type=np.zeros([len(df_X_all),6])\n",
    "for i in range(0,len(df_X_all)):\n",
    "    matrix_Nombre_de_Phases_par_Type[i,:]=Nombre_de_Phases_par_Type(i)\n",
    "#matrix_Nombre_de_Phases_par_Type"
   ]
  },
  {
   "cell_type": "code",
   "execution_count": 28,
   "metadata": {
    "collapsed": true
   },
   "outputs": [],
   "source": [
    "matrix_Nombre_de_Phases=np.zeros([len(df_X_all),1])\n",
    "\n",
    "for i in range(0,len(df_X_all)):\n",
    "    matrix_Nombre_de_Phases[i,:]=sum(matrix_Nombre_de_Phases_par_Type[i,:])\n",
    "    \n",
    "matrix_Nombre_de_Phases=np.asarray(matrix_Nombre_de_Phases).reshape(1,-1)[0]\n",
    "#matrix_Nombre_de_Phases"
   ]
  },
  {
   "cell_type": "markdown",
   "metadata": {},
   "source": [
    "11) Temps d'endormissement"
   ]
  },
  {
   "cell_type": "code",
   "execution_count": 29,
   "metadata": {
    "collapsed": true
   },
   "outputs": [],
   "source": [
    "def temps_endormissement(i):\n",
    "    A=hypno_par_bloc(i,'FALSE')\n",
    "    t=0\n",
    "    while (A[t]==0):\n",
    "        t=t+1\n",
    "    return(t)\n",
    "\n",
    "#temps_endormissement(82)"
   ]
  },
  {
   "cell_type": "markdown",
   "metadata": {},
   "source": [
    "12) Durée du sommeil (court ou long dormeur, seuil fixé)"
   ]
  },
  {
   "cell_type": "code",
   "execution_count": 30,
   "metadata": {
    "collapsed": true
   },
   "outputs": [],
   "source": [
    "def court_dormeur(i,time):\n",
    "    A=matrix_Hypno[i]\n",
    "    m=1\n",
    "    if (len(A)<=time):\n",
    "        m=0\n",
    "    \n",
    "    return(m)\n",
    "\n",
    "#court_dormeur(82,800)"
   ]
  },
  {
   "cell_type": "markdown",
   "metadata": {},
   "source": [
    "13) Longueur moyennes des phases par type"
   ]
  },
  {
   "cell_type": "code",
   "execution_count": 31,
   "metadata": {
    "collapsed": true
   },
   "outputs": [],
   "source": [
    "def longueur_moyenne_phase_par_type_hypno(index):    \n",
    "    P=phases_with_index(matrix_Hypno[index])\n",
    "    L=int(np.size(P)/len(P))\n",
    "    j=0   \n",
    "    for i in range(0,L):\n",
    "        if (P[1,i]!=1):\n",
    "            j=j+1\n",
    "    P2=np.zeros([2,j+1])\n",
    "    P2[0,j]=-2\n",
    "    P2[1,j]=-2\n",
    "    j=0\n",
    "    for i in range(0,L):\n",
    "        if (P[1,i]!=1):\n",
    "            P2[:,j]=P[:,i]\n",
    "            j=j+1\n",
    "    k=0\n",
    "    for i in range(0,j):\n",
    "        if(P2[0,i]!=P2[0,i+1]):\n",
    "            k=k+1\n",
    "    RES=np.zeros([2,k+1])\n",
    "    RES[0,k]=-2\n",
    "    RES[1,k]=-2\n",
    "    i=0\n",
    "    a=0\n",
    "    while ((i<j)&(a<k+1)):\n",
    "        RES[0,a]=P2[0,i]\n",
    "        s=P2[1,i]\n",
    "        while ((P2[0,i]==P2[0,i+1]) & (i<j)):\n",
    "            s=s+P2[1,i+1]\n",
    "            i=i+1\n",
    "        RES[1,a]=s\n",
    "        i=i+1\n",
    "        a=a+1\n",
    "    long=np.zeros([2,6])\n",
    "    for j in range(-1,5):\n",
    "        long[0,j+1]=j\n",
    "        c=0\n",
    "        s=0\n",
    "        for i in range(0,RES.shape[1]-1):\n",
    "            if (RES[0,i]==j):\n",
    "                c=c+1\n",
    "                s=s+RES[1,i]\n",
    "            if (c==0):\n",
    "                long[1,j+1]=0\n",
    "            if (c!=0):\n",
    "                long[1,j+1]=s/c\n",
    "    return(long)\n",
    "\n",
    "#longueur_moyenne_phase_par_type_hypno(85)"
   ]
  },
  {
   "cell_type": "markdown",
   "metadata": {
    "collapsed": true
   },
   "source": [
    "## III. EEG\n",
    "\n",
    "1) Visualisation du signal EEG"
   ]
  },
  {
   "cell_type": "code",
   "execution_count": 32,
   "metadata": {
    "collapsed": false
   },
   "outputs": [
    {
     "data": {
      "image/png": "[encoded data removed]",
      "text/plain": [
       "<matplotlib.figure.Figure at 0x1c7103fde10>"
      ]
     },
     "metadata": {},
     "output_type": "display_data"
    }
   ],
   "source": [
    "Xnum=np.asarray(df_X_numerical)\n",
    "Xnum.shape\n",
    "\n",
    "Y=np.linspace(0,300,75000)\n",
    "Y.shape\n",
    "\n",
    "X=np.array(df_X_numerical.ix[568])\n",
    "plt.plot(Y,X)\n",
    "plt.show()"
   ]
  },
  {
   "cell_type": "markdown",
   "metadata": {},
   "source": [
    "2) Calcul de la moyenne et de la variance des EEG"
   ]
  },
  {
   "cell_type": "code",
   "execution_count": 33,
   "metadata": {
    "collapsed": true
   },
   "outputs": [],
   "source": [
    "#calcul de la moyenne des EEG pour chaque sujet\n",
    "means=[]\n",
    "for i in range(830):\n",
    "    means.append(np.mean(Xnum[i,:]))\n",
    "means=np.asmatrix(means)\n",
    "#means\n",
    "#means.shape"
   ]
  },
  {
   "cell_type": "code",
   "execution_count": 34,
   "metadata": {
    "collapsed": true
   },
   "outputs": [],
   "source": [
    "#calcul de la variance des EEG pour chaque sujet\n",
    "variance=[]\n",
    "for i in range(830):\n",
    "    variance.append(np.var(Xnum[i,:]))\n",
    "variance=np.asmatrix(variance)\n",
    "#variance\n",
    "#variance.shape"
   ]
  },
  {
   "cell_type": "markdown",
   "metadata": {},
   "source": [
    "3) Calcul de l'entropie"
   ]
  },
  {
   "cell_type": "code",
   "execution_count": 35,
   "metadata": {
    "collapsed": false
   },
   "outputs": [],
   "source": [
    "#calcul de l'entropy des EEG pour chaque sujet\n",
    "entropy=[]\n",
    "for i in range(830):\n",
    "    entropy.append(st.entropy(Xnum[i,:]))\n",
    "entropy=np.asmatrix(entropy)\n",
    "#entropy=entropy.astype(double)\n",
    "#entropy tous egaux a -inf"
   ]
  },
  {
   "cell_type": "markdown",
   "metadata": {},
   "source": [
    "4) Coefficients de Fourrier, moyenne et variance, skew et kurtosis"
   ]
  },
  {
   "cell_type": "code",
   "execution_count": 36,
   "metadata": {
    "collapsed": true
   },
   "outputs": [],
   "source": [
    "Fourrier = fft(Xnum).real\n",
    "Fourrier = np.asmatrix(Fourrier)\n",
    "#Fourrier\n",
    "#Fourrier.shape"
   ]
  },
  {
   "cell_type": "code",
   "execution_count": 37,
   "metadata": {
    "collapsed": true
   },
   "outputs": [],
   "source": [
    "#calcul de la moyenne des fourrier pour chaque sujet\n",
    "moyenne_Fourrier=[]\n",
    "for i in range(830):\n",
    "    moyenne_Fourrier.append(np.mean(Fourrier[i,:]))\n",
    "moyenne_Fourrier=np.asmatrix(moyenne_Fourrier)\n",
    "#means\n",
    "#moyenne_Fourrier.shape"
   ]
  },
  {
   "cell_type": "code",
   "execution_count": 38,
   "metadata": {
    "collapsed": true
   },
   "outputs": [],
   "source": [
    "#calcul de la variance des Fourrier pour chaque sujet\n",
    "variance_Fourrier=[]\n",
    "for i in range(830):\n",
    "    variance_Fourrier.append(np.var(Fourrier[i,:]))\n",
    "variance_Fourrier=np.asmatrix(variance_Fourrier)\n",
    "#variance\n",
    "#variance_Fourrier.shape"
   ]
  },
  {
   "cell_type": "code",
   "execution_count": 39,
   "metadata": {
    "collapsed": true
   },
   "outputs": [],
   "source": [
    "from scipy import stats\n",
    "#from stats import skew, kurtosis\n",
    "skw_Fourrier=stats.skew(Fourrier, axis=1)\n",
    "#from stats import skew, kurtosis\n",
    "kur_Fourrier=stats.kurtosis(Fourrier, axis=1)"
   ]
  },
  {
   "cell_type": "markdown",
   "metadata": {},
   "source": [
    "5) Périodogramme sur les coefficients de Fourrier, moyenne"
   ]
  },
  {
   "cell_type": "code",
   "execution_count": 40,
   "metadata": {
    "collapsed": true
   },
   "outputs": [],
   "source": [
    "from scipy import signal\n",
    "f, Pxx_den = signal.periodogram(Fourrier)"
   ]
  },
  {
   "cell_type": "code",
   "execution_count": 41,
   "metadata": {
    "collapsed": false
   },
   "outputs": [
    {
     "data": {
      "text/plain": [
       "(1, 830)"
      ]
     },
     "execution_count": 41,
     "metadata": {},
     "output_type": "execute_result"
    }
   ],
   "source": [
    "#calcul de la moyenne des fourrier pour chaque sujet\n",
    "moyenne_PS2=[]\n",
    "for i in range(830):\n",
    "    moyenne_PS2.append(np.mean(Pxx_den[i,:]))\n",
    "moyenne_PS2=np.asmatrix(moyenne_PS2)\n",
    "#moyenne_PS2\n",
    "moyenne_PS2.shape"
   ]
  },
  {
   "cell_type": "markdown",
   "metadata": {},
   "source": [
    "6) Signal Welch sur Fourrier"
   ]
  },
  {
   "cell_type": "code",
   "execution_count": 42,
   "metadata": {
    "collapsed": false
   },
   "outputs": [
    {
     "data": {
      "text/plain": [
       "'\\nfs, ps = signal.welch(Fourrier)\\n'"
      ]
     },
     "execution_count": 42,
     "metadata": {},
     "output_type": "execute_result"
    }
   ],
   "source": [
    "'''\n",
    "fs, ps = signal.welch(Fourrier)\n",
    "'''"
   ]
  },
  {
   "cell_type": "code",
   "execution_count": 43,
   "metadata": {
    "collapsed": true
   },
   "outputs": [],
   "source": [
    "ps=pd.read_csv('ps',sep=' ',header=None)\n",
    "ps=np.asarray(ps)"
   ]
  },
  {
   "cell_type": "code",
   "execution_count": 44,
   "metadata": {
    "collapsed": false
   },
   "outputs": [
    {
     "data": {
      "text/plain": [
       "(1, 830)"
      ]
     },
     "execution_count": 44,
     "metadata": {},
     "output_type": "execute_result"
    }
   ],
   "source": [
    "\n",
    "#calcul de la moyenne des fourrier pour chaque sujet\n",
    "moyenne_PS1=[]\n",
    "for i in range(830):\n",
    "    moyenne_PS1.append(np.mean(ps[i,:]))\n",
    "moyenne_PS1=np.asmatrix(moyenne_PS1)\n",
    "#moyenne_PS1\n",
    "moyenne_PS1.shape\n"
   ]
  },
  {
   "cell_type": "markdown",
   "metadata": {},
   "source": [
    "7) Transformation en ondelettes, coefficients, moyenne, variance, skew et kurtosis"
   ]
  },
  {
   "cell_type": "code",
   "execution_count": 45,
   "metadata": {
    "collapsed": true
   },
   "outputs": [],
   "source": [
    "cA, cD = pywt.dwt(Xnum, 'db1')"
   ]
  },
  {
   "cell_type": "code",
   "execution_count": 46,
   "metadata": {
    "collapsed": false
   },
   "outputs": [
    {
     "data": {
      "text/plain": [
       "(1, 830)"
      ]
     },
     "execution_count": 46,
     "metadata": {},
     "output_type": "execute_result"
    }
   ],
   "source": [
    "#calcul de la moyenne des wavelets pour chaque sujet\n",
    "moyenne_wA=[]\n",
    "for i in range(830):\n",
    "    moyenne_wA.append(np.mean(cA[i,:]))\n",
    "moyenne_wA=np.asmatrix(moyenne_wA)\n",
    "#moyenne_wA\n",
    "moyenne_wA.shape\n",
    "\n",
    "#calcul de la moyenne des wavelets pour chaque sujet\n",
    "moyenne_wD=[]\n",
    "for i in range(830):\n",
    "    moyenne_wD.append(np.mean(cD[i,:]))\n",
    "moyenne_wD=np.asmatrix(moyenne_wD)\n",
    "#moyenne_wD\n",
    "moyenne_wD.shape"
   ]
  },
  {
   "cell_type": "code",
   "execution_count": 47,
   "metadata": {
    "collapsed": false
   },
   "outputs": [
    {
     "data": {
      "text/plain": [
       "(1, 830)"
      ]
     },
     "execution_count": 47,
     "metadata": {},
     "output_type": "execute_result"
    }
   ],
   "source": [
    "#calcul de la variance des wavelets pour chaque sujet\n",
    "var_wA=[]\n",
    "for i in range(830):\n",
    "    var_wA.append(np.var(cA[i,:]))\n",
    "var_wA=np.asmatrix(var_wA)\n",
    "#moyenne_wA\n",
    "var_wA.shape\n",
    "\n",
    "#calcul de la variance des wavelets pour chaque sujet\n",
    "var_wD=[]\n",
    "for i in range(830):\n",
    "    var_wD.append(np.var(cD[i,:]))\n",
    "var_wD=np.asmatrix(var_wD)\n",
    "#moyenne_wD\n",
    "var_wD.shape"
   ]
  },
  {
   "cell_type": "code",
   "execution_count": 48,
   "metadata": {
    "collapsed": true
   },
   "outputs": [],
   "source": [
    "skw_cA=stats.skew(cA, axis=1)\n",
    "kur_cA=stats.kurtosis(cA, axis=1)\n",
    "skw_cD=stats.skew(cD, axis=1)\n",
    "kur_cD=stats.kurtosis(cD, axis=1)"
   ]
  },
  {
   "cell_type": "markdown",
   "metadata": {},
   "source": [
    "8) Pisarenko Harmonic Decomposition"
   ]
  },
  {
   "cell_type": "code",
   "execution_count": 49,
   "metadata": {
    "collapsed": true
   },
   "outputs": [],
   "source": [
    "def covariance(x, k):\n",
    "    N = len(x) - k\n",
    "    return (x[:-k] * x[k:]).sum() / N\n",
    "\n",
    "def phd1(x):\n",
    "    \"\"\"Estimate frequency using Pisarenko Harmonic Decomposition\"\"\"\n",
    "    r1 = covariance(x, 1)\n",
    "    r2 = covariance(x, 2)\n",
    "    a = (r2 + np.sqrt(r2 ** 2 + 8 * r1 ** 2)) / 4 / r1\n",
    "    if a > 1:\n",
    "        a = 1\n",
    "    elif a < -1:\n",
    "        a = -1\n",
    "    return np.arccos(a)\n",
    "freq=[]\n",
    "for i in range(0,830):\n",
    "    freq.append(phd1(Xnum[i,:]))\n",
    "freq = np.asmatrix(freq)"
   ]
  },
  {
   "cell_type": "markdown",
   "metadata": {},
   "source": [
    "9) Signal Filt Filt, moyenne et variance"
   ]
  },
  {
   "cell_type": "code",
   "execution_count": 50,
   "metadata": {
    "collapsed": false
   },
   "outputs": [],
   "source": [
    "b, a = signal.butter(3, 0.05)\n",
    "z1 = signal.filtfilt(b, a, Fourrier)\n",
    "\n",
    "b, a = signal.butter(3, 0.05)\n",
    "z2 = signal.filtfilt(b, a, moyenne_Fourrier)\n",
    "\n",
    "b, a = signal.butter(3, 0.05)\n",
    "z3 = signal.filtfilt(b, a, moyenne_PS2)\n",
    "\n",
    "b, a = signal.butter(3, 0.05)\n",
    "z4 = signal.filtfilt(b, a, moyenne_PS1)\n",
    "\n",
    "b, a = signal.butter(3, 0.05)\n",
    "z5 = signal.filtfilt(b, a, cD)\n",
    "\n",
    "b, a = signal.butter(3, 0.05)\n",
    "z6 = signal.filtfilt(b, a, cA)\n",
    "\n",
    "b, a = signal.butter(3, 0.05)\n",
    "z7 = signal.filtfilt(b, a, freq)\n",
    "\n",
    "b, a = signal.butter(3, 0.05)\n",
    "z8 = signal.filtfilt(b, a, means)\n",
    "\n",
    "b, a = signal.butter(3, 0.05)\n",
    "z9 = signal.filtfilt(b, a, variance)"
   ]
  },
  {
   "cell_type": "code",
   "execution_count": 51,
   "metadata": {
    "collapsed": false
   },
   "outputs": [
    {
     "data": {
      "text/plain": [
       "(1, 830)"
      ]
     },
     "execution_count": 51,
     "metadata": {},
     "output_type": "execute_result"
    }
   ],
   "source": [
    "#calcul de la moyenne des wavelets pour chaque sujet\n",
    "moyenne_wAF=[]\n",
    "for i in range(830):\n",
    "    moyenne_wAF.append(np.mean(z6[i,:]))\n",
    "moyenne_wAF=np.asmatrix(moyenne_wAF)\n",
    "#moyenne_wA\n",
    "moyenne_wAF.shape\n",
    "\n",
    "#calcul de la moyenne des wavelets pour chaque sujet\n",
    "moyenne_wDF=[]\n",
    "for i in range(830):\n",
    "    moyenne_wDF.append(np.mean(z5[i,:]))\n",
    "moyenne_wDF=np.asmatrix(moyenne_wDF)\n",
    "#moyenne_wA\n",
    "moyenne_wDF.shape"
   ]
  },
  {
   "cell_type": "code",
   "execution_count": 52,
   "metadata": {
    "collapsed": true
   },
   "outputs": [],
   "source": [
    "#calcul de la moyenne des wavelets pour chaque sujet\n",
    "var_wAF=[]\n",
    "for i in range(830):\n",
    "    var_wAF.append(np.var(z6[i,:]))\n",
    "var_wAF=np.asmatrix(var_wAF)\n",
    "#moyenne_wA\n",
    "#var_wAF.shape\n",
    "\n",
    "#calcul de la moyenne des wavelets pour chaque sujet\n",
    "var_wDF=[]\n",
    "for i in range(830):\n",
    "    var_wDF.append(np.var(z5[i,:]))\n",
    "var_wDF=np.asmatrix(var_wDF)\n",
    "#moyenne_wA\n",
    "#var_wDF.shape"
   ]
  },
  {
   "cell_type": "code",
   "execution_count": 53,
   "metadata": {
    "collapsed": true
   },
   "outputs": [],
   "source": [
    "#sur fourrier filtré\n",
    "#calcul de la moyenne des wavelets pour chaque sujet\n",
    "moyenne_FF=[]\n",
    "for i in range(830):\n",
    "    moyenne_FF.append(np.mean(z1[i,:]))\n",
    "moyenne_FF=np.asmatrix(moyenne_FF)\n",
    "#moyenne_wA\n",
    "moyenne_FF.shape\n",
    "\n",
    "#calcul de la moyenne des wavelets pour chaque sujet\n",
    "var_FF=[]\n",
    "for i in range(830):\n",
    "    var_FF.append(np.var(z1[i,:]))\n",
    "var_FF=np.asmatrix(var_FF)\n",
    "#moyenne_wA\n",
    "var_FF.shape\n",
    "\n",
    "skw_FF=stats.skew(z1, axis=1)\n",
    "kur_FF=stats.kurtosis(z1, axis=1)"
   ]
  },
  {
   "cell_type": "code",
   "execution_count": 54,
   "metadata": {
    "collapsed": true
   },
   "outputs": [],
   "source": [
    "skw_cAF=stats.skew(z6, axis=1)\n",
    "kur_cAF=stats.kurtosis(z6, axis=1)\n",
    "skw_cDF=stats.skew(z5, axis=1)\n",
    "kur_cDF=stats.kurtosis(z5, axis=1)"
   ]
  },
  {
   "cell_type": "code",
   "execution_count": 55,
   "metadata": {
    "collapsed": false
   },
   "outputs": [],
   "source": [
    "z2=z2.reshape(-1,1)\n",
    "z3=z3.reshape(-1,1)\n",
    "z4=z4.reshape(-1,1)\n",
    "z7=z7.reshape(-1,1)\n",
    "z8=z8.reshape(-1,1)\n",
    "z9=z9.reshape(-1,1)\n",
    "\n",
    "kur_Fourrier=np.asmatrix(kur_Fourrier)\n",
    "kur_Fourrier=kur_Fourrier.reshape(-1,1)\n",
    "skw_Fourrier=np.asmatrix(skw_Fourrier)\n",
    "skw_Fourrier=skw_Fourrier.reshape(-1,1)\n",
    "\n",
    "kur_FF=np.asmatrix(kur_FF)\n",
    "kur_FF=kur_FF.reshape(-1,1)\n",
    "skw_FF=np.asmatrix(skw_FF)\n",
    "skw_FF=skw_FF.reshape(-1,1)\n",
    "\n",
    "kur_cA=np.asmatrix(kur_cA)\n",
    "kur_cA=kur_cA.reshape(-1,1)\n",
    "skw_cA=np.asmatrix(skw_cA)\n",
    "skw_cA=skw_cA.reshape(-1,1)\n",
    "\n",
    "kur_cD=np.asmatrix(kur_cD)\n",
    "kur_cD=kur_cD.reshape(-1,1)\n",
    "skw_cD=np.asmatrix(skw_cD)\n",
    "skw_cD=skw_cD.reshape(-1,1)\n",
    "\n",
    "kur_cAF=np.asmatrix(kur_cAF)\n",
    "kur_cAF=kur_cAF.reshape(-1,1)\n",
    "skw_cAF=np.asmatrix(skw_cAF)\n",
    "skw_cAF=skw_cAF.reshape(-1,1)\n",
    "\n",
    "kur_cDF=np.asmatrix(kur_cDF)\n",
    "kur_cDF=kur_cDF.reshape(-1,1)\n",
    "skw_cDF=np.asmatrix(skw_cDF)\n",
    "skw_cDF=skw_cDF.reshape(-1,1)\n",
    "\n",
    "moyenne_wA=moyenne_wA.reshape(-1,1)\n",
    "moyenne_wD=moyenne_wD.reshape(-1,1)\n",
    "moyenne_wAF=moyenne_wAF.reshape(-1,1)\n",
    "moyenne_wDF=moyenne_wDF.reshape(-1,1)\n",
    "var_wA=var_wA.reshape(-1,1)\n",
    "var_wD=var_wD.reshape(-1,1)\n",
    "var_wAF=var_wAF.reshape(-1,1)\n",
    "var_wDF=var_wDF.reshape(-1,1)\n",
    "\n",
    "#z10=z10.reshape(-1,1)\n",
    "#z11=z11.reshape(-1,1)\n",
    "variance_Fourrier=variance_Fourrier.reshape(-1,1)\n",
    "moyenne_Fourrier=moyenne_Fourrier.reshape(-1,1)\n",
    "moyenne_FF=moyenne_FF.reshape(-1,1)\n",
    "var_FF=var_FF.reshape(-1,1)"
   ]
  },
  {
   "cell_type": "markdown",
   "metadata": {},
   "source": [
    "8) Filtres Series temp: http://statsmodels.sourceforge.net/stable/tsa.html"
   ]
  },
  {
   "cell_type": "code",
   "execution_count": 33,
   "metadata": {
    "collapsed": false
   },
   "outputs": [],
   "source": [
    "from statsmodels import tsa\n",
    "from statsmodels.tsa import stattools, ar_model, filters\n",
    "from statsmodels.tsa.filters import bk_filter, filtertools, hp_filter, cf_filter"
   ]
  },
  {
   "cell_type": "markdown",
   "metadata": {},
   "source": [
    "a) Baxter-King bandpass filter"
   ]
  },
  {
   "cell_type": "code",
   "execution_count": 168,
   "metadata": {
    "collapsed": false
   },
   "outputs": [],
   "source": [
    "filtre_bk=filters.bk_filter.bkfilter(Xnum)"
   ]
  },
  {
   "cell_type": "code",
   "execution_count": 169,
   "metadata": {
    "collapsed": true
   },
   "outputs": [],
   "source": [
    "m_bk=np.mean(filtre_bk,axis=1)\n",
    "v_bk=np.var(filtre_bk,axis=1)\n",
    "kur_bk=stats.kurtosis(filtre_bk, axis=1)\n",
    "skw_bk=stats.skew(filtre_bk, axis=1)"
   ]
  },
  {
   "cell_type": "code",
   "execution_count": 181,
   "metadata": {
    "collapsed": false
   },
   "outputs": [
    {
     "data": {
      "text/plain": [
       "(806, 75000)"
      ]
     },
     "execution_count": 181,
     "metadata": {},
     "output_type": "execute_result"
    }
   ],
   "source": [
    "filtre_bk.shape"
   ]
  },
  {
   "cell_type": "markdown",
   "metadata": {},
   "source": [
    "b) Autoregressive, or recursive, filtering."
   ]
  },
  {
   "cell_type": "code",
   "execution_count": 34,
   "metadata": {
    "collapsed": false
   },
   "outputs": [],
   "source": [
    "filtre_rec=np.zeros(Xnum.shape)\n",
    "for i in range(0,len(Fourrier)):\n",
    "    filtre_rec[i,:]=filters.filtertools.recursive_filter(Xnum[i,:],1)"
   ]
  },
  {
   "cell_type": "code",
   "execution_count": 35,
   "metadata": {
    "collapsed": false
   },
   "outputs": [],
   "source": [
    "m_rec=np.mean(filtre_rec,axis=1)\n",
    "v_rec=np.var(filtre_rec,axis=1)\n",
    "kur_rec=stats.kurtosis(filtre_rec, axis=1)\n",
    "skw_rec=stats.skew(filtre_rec, axis=1)"
   ]
  },
  {
   "cell_type": "code",
   "execution_count": 36,
   "metadata": {
    "collapsed": false
   },
   "outputs": [],
   "source": [
    "filtre_rec_F=np.zeros(Fourrier.shape)\n",
    "for i in range(0,len(Fourrier)):\n",
    "    filtre_rec_F[i,:]=filters.filtertools.recursive_filter(Fourrier[i,:],1)"
   ]
  },
  {
   "cell_type": "code",
   "execution_count": 37,
   "metadata": {
    "collapsed": true
   },
   "outputs": [],
   "source": [
    "m_rec_F=np.mean(filtre_rec_F,axis=1)\n",
    "v_rec_F=np.var(filtre_rec_F,axis=1)\n",
    "kur_rec_F=stats.kurtosis(filtre_rec_F, axis=1)\n",
    "skw_rec_F=stats.skew(filtre_rec_F, axis=1)"
   ]
  },
  {
   "cell_type": "markdown",
   "metadata": {},
   "source": [
    "c) Hodrick-Prescott filter (cycle & trend)"
   ]
  },
  {
   "cell_type": "code",
   "execution_count": 38,
   "metadata": {
    "collapsed": false
   },
   "outputs": [],
   "source": [
    "filtre_hp1=filters.hp_filter.hpfilter(Xnum)[0]"
   ]
  },
  {
   "cell_type": "code",
   "execution_count": 39,
   "metadata": {
    "collapsed": true
   },
   "outputs": [],
   "source": [
    "m_hp1=np.mean(filtre_hp1,axis=1)\n",
    "v_hp1=np.var(filtre_hp1,axis=1)\n",
    "kur_hp1=stats.kurtosis(filtre_hp1, axis=1)\n",
    "skw_hp1=stats.skew(filtre_hp1, axis=1)"
   ]
  },
  {
   "cell_type": "code",
   "execution_count": 40,
   "metadata": {
    "collapsed": true
   },
   "outputs": [],
   "source": [
    "filtre_hp2=filters.hp_filter.hpfilter(Xnum)[1]"
   ]
  },
  {
   "cell_type": "code",
   "execution_count": 41,
   "metadata": {
    "collapsed": true
   },
   "outputs": [],
   "source": [
    "m_hp2=np.mean(filtre_hp2,axis=1)\n",
    "v_hp2=np.var(filtre_hp2,axis=1)\n",
    "kur_hp2=stats.kurtosis(filtre_hp2, axis=1)\n",
    "skw_hp2=stats.skew(filtre_hp2, axis=1)"
   ]
  },
  {
   "cell_type": "code",
   "execution_count": 42,
   "metadata": {
    "collapsed": false
   },
   "outputs": [],
   "source": [
    "filtre_hp1_F=filters.hp_filter.hpfilter(Fourrier)[0]"
   ]
  },
  {
   "cell_type": "code",
   "execution_count": 43,
   "metadata": {
    "collapsed": true
   },
   "outputs": [],
   "source": [
    "m_hp1_F=np.mean(filtre_hp1_F,axis=1)\n",
    "v_hp1_F=np.var(filtre_hp1_F,axis=1)\n",
    "kur_hp1_F=stats.kurtosis(filtre_hp1_F, axis=1)\n",
    "skw_hp1_F=stats.skew(filtre_hp1_F, axis=1)"
   ]
  },
  {
   "cell_type": "code",
   "execution_count": 51,
   "metadata": {
    "collapsed": true
   },
   "outputs": [],
   "source": [
    "filtre_hp2_F=filters.hp_filter.hpfilter(Fourrier)[1]"
   ]
  },
  {
   "cell_type": "code",
   "execution_count": 55,
   "metadata": {
    "collapsed": true
   },
   "outputs": [],
   "source": [
    "m_hp2_F=np.mean(filtre_hp2_F,axis=1)\n",
    "v_hp2_F=np.var(filtre_hp2_F,axis=1)\n",
    "kur_hp2_F=stats.kurtosis(filtre_hp2_F, axis=1)\n",
    "skw_hp2_F=stats.skew(filtre_hp2_F, axis=1)"
   ]
  },
  {
   "cell_type": "markdown",
   "metadata": {},
   "source": [
    "d) Christiano Fitzgerald asymmetric, random walk filter"
   ]
  },
  {
   "cell_type": "code",
   "execution_count": 149,
   "metadata": {
    "collapsed": false
   },
   "outputs": [],
   "source": [
    "filtre_cf1=filters.cf_filter.cffilter(Xnum)[0]"
   ]
  },
  {
   "cell_type": "code",
   "execution_count": 155,
   "metadata": {
    "collapsed": true
   },
   "outputs": [],
   "source": [
    "m_cf1=np.mean(filtre_cf1,axis=1)\n",
    "v_cf1=np.var(filtre_cf1,axis=1)\n",
    "kur_cf1=stats.kurtosis(filtre_cf1, axis=1)\n",
    "skw_cf1=stats.skew(filtre_cf1, axis=1)"
   ]
  },
  {
   "cell_type": "code",
   "execution_count": 148,
   "metadata": {
    "collapsed": true
   },
   "outputs": [],
   "source": [
    "filtre_cf2=filters.cf_filter.cffilter(Xnum)[1]"
   ]
  },
  {
   "cell_type": "code",
   "execution_count": 156,
   "metadata": {
    "collapsed": true
   },
   "outputs": [],
   "source": [
    "m_cf2=np.mean(filtre_cf2,axis=1)\n",
    "v_cf2=np.var(filtre_cf2,axis=1)\n",
    "kur_cf2=stats.kurtosis(filtre_cf2, axis=1)\n",
    "skw_cf2=stats.skew(filtre_cf2, axis=1)"
   ]
  },
  {
   "cell_type": "code",
   "execution_count": 144,
   "metadata": {
    "collapsed": true
   },
   "outputs": [],
   "source": [
    "filtre_cf1_F=filters.cf_filter.cffilter(Fourrier)[0]"
   ]
  },
  {
   "cell_type": "code",
   "execution_count": 157,
   "metadata": {
    "collapsed": true
   },
   "outputs": [],
   "source": [
    "m_cf1_F=np.mean(filtre_cf1_F,axis=1)\n",
    "v_cf1_F=np.var(filtre_cf1_F,axis=1)\n",
    "kur_cf1_F=stats.kurtosis(filtre_cf1_F, axis=1)\n",
    "skw_cf1_F=stats.skew(filtre_cf1_F, axis=1)"
   ]
  },
  {
   "cell_type": "code",
   "execution_count": 145,
   "metadata": {
    "collapsed": true
   },
   "outputs": [],
   "source": [
    "filtre_cf2_F=filters.cf_filter.cffilter(Fourrier)[1]"
   ]
  },
  {
   "cell_type": "code",
   "execution_count": 158,
   "metadata": {
    "collapsed": true
   },
   "outputs": [],
   "source": [
    "m_cf2_F=np.mean(filtre_cf2_F,axis=1)\n",
    "v_cf2_F=np.var(filtre_cf2_F,axis=1)\n",
    "kur_cf2_F=stats.kurtosis(filtre_cf2_F, axis=1)\n",
    "skw_cf2_F=stats.skew(filtre_cf2_F, axis=1)"
   ]
  },
  {
   "cell_type": "code",
   "execution_count": 154,
   "metadata": {
    "collapsed": true
   },
   "outputs": [
    {
     "ename": "NameError",
     "evalue": "name 'm_cf1_F' is not defined",
     "output_type": "error",
     "traceback": [
      "\u001b[0;31m---------------------------------------------------------------------------\u001b[0m",
      "\u001b[0;31mNameError\u001b[0m                                 Traceback (most recent call last)",
      "\u001b[0;32m<ipython-input-154-aa59bdc5a7d0>\u001b[0m in \u001b[0;36m<module>\u001b[0;34m()\u001b[0m\n\u001b[1;32m      2\u001b[0m m_filtre=np.concatenate((m_rec_F.reshape(-1,1),\n\u001b[1;32m      3\u001b[0m                   \u001b[0mm_hp1_F\u001b[0m\u001b[1;33m.\u001b[0m\u001b[0mreshape\u001b[0m\u001b[1;33m(\u001b[0m\u001b[1;33m-\u001b[0m\u001b[1;36m1\u001b[0m\u001b[1;33m,\u001b[0m\u001b[1;36m1\u001b[0m\u001b[1;33m)\u001b[0m\u001b[1;33m,\u001b[0m\u001b[1;33m\u001b[0m\u001b[0m\n\u001b[0;32m----> 4\u001b[0;31m                   \u001b[0mm_hp2_F\u001b[0m\u001b[1;33m.\u001b[0m\u001b[0mreshape\u001b[0m\u001b[1;33m(\u001b[0m\u001b[1;33m-\u001b[0m\u001b[1;36m1\u001b[0m\u001b[1;33m,\u001b[0m\u001b[1;36m1\u001b[0m\u001b[1;33m)\u001b[0m\u001b[1;33m,\u001b[0m \u001b[0mm_cf1_F\u001b[0m\u001b[1;33m.\u001b[0m\u001b[0mreshape\u001b[0m\u001b[1;33m(\u001b[0m\u001b[1;33m-\u001b[0m\u001b[1;36m1\u001b[0m\u001b[1;33m,\u001b[0m\u001b[1;36m1\u001b[0m\u001b[1;33m)\u001b[0m\u001b[1;33m,\u001b[0m\u001b[1;33m\u001b[0m\u001b[0m\n\u001b[0m\u001b[1;32m      5\u001b[0m                  m_cf2_F.reshape(-1,1)), axis=1)\n\u001b[1;32m      6\u001b[0m \u001b[1;33m\u001b[0m\u001b[0m\n",
      "\u001b[0;31mNameError\u001b[0m: name 'm_cf1_F' is not defined"
     ]
    }
   ],
   "source": [
    "#Vecteur des filtres \n",
    "m_filtre=np.concatenate((m_rec.reshape(-1,1) ,m_rec_F.reshape(-1,1),\n",
    "                  m_hp1.reshape(-1,1), m_hp1_F.reshape(-1,1), m_hp2.reshape(-1,1),\n",
    "                  m_hp2_F.reshape(-1,1), m_cf1.reshape(-1,1), m_cf1_F.reshape(-1,1),\n",
    "                  m_cf2.reshape(-1,1), m_cf2_F.reshape(-1,1)), axis=1)\n",
    "\n",
    "v_filtre=np.concatenate((v_rec.reshape(-1,1) ,v_rec_F.reshape(-1,1),\n",
    "                  v_hp1.reshape(-1,1), v_hp1_F.reshape(-1,1), v_hp2.reshape(-1,1),\n",
    "                  v_hp2_F.reshape(-1,1), v_cf1.reshape(-1,1), v_cf1_F.reshape(-1,1),\n",
    "                  v_cf2.reshape(-1,1), v_cf2_F.reshape(-1,1)), axis=1)\n",
    "\n",
    "kur_filtre=np.concatenate((kur_rec.reshape(-1,1) ,kur_rec_F.reshape(-1,1),\n",
    "                  kur_hp1.reshape(-1,1), kur_hp1_F.reshape(-1,1), kur_hp2.reshape(-1,1),\n",
    "                  kur_hp2_F.reshape(-1,1), kur_cf1.reshape(-1,1), kur_cf1_F.reshape(-1,1),\n",
    "                  kur_cf2.reshape(-1,1), kur_cf2_F.reshape(-1,1)), axis=1)\n",
    "\n",
    "skw_filtre=np.concatenate((skw_rec.reshape(-1,1) ,skw_rec_F.reshape(-1,1),\n",
    "                  skw_hp1.reshape(-1,1), skw_hp1_F.reshape(-1,1), skw_hp2.reshape(-1,1),\n",
    "                  skw_hp2_F.reshape(-1,1), skw_cf1.reshape(-1,1), skw_cf1_F.reshape(-1,1),\n",
    "                  skw_cf2.reshape(-1,1), skw_cf2_F.reshape(-1,1)), axis=1)\n",
    "\n",
    "\n"
   ]
  },
  {
   "cell_type": "code",
   "execution_count": 155,
   "metadata": {
    "collapsed": false
   },
   "outputs": [],
   "source": [
    "#Vecteur des filtres \n",
    "m_filtre=np.concatenate((m_rec_F.reshape(-1,1),\n",
    "                  m_hp1_F.reshape(-1,1),\n",
    "                  m_hp2_F.reshape(-1,1)), axis=1)\n",
    "\n",
    "v_filtre=np.concatenate((v_rec_F.reshape(-1,1),\n",
    "                   v_hp1_F.reshape(-1,1), \n",
    "                  v_hp2_F.reshape(-1,1)), axis=1)\n",
    "\n",
    "kur_filtre=np.concatenate((kur_rec_F.reshape(-1,1),\n",
    "                   kur_hp1_F.reshape(-1,1), \n",
    "                  kur_hp2_F.reshape(-1,1)), axis=1)\n",
    "\n",
    "skw_filtre=np.concatenate((skw_rec_F.reshape(-1,1),\n",
    "                   skw_hp1_F.reshape(-1,1), \n",
    "                  skw_hp2_F.reshape(-1,1)), axis=1)"
   ]
  },
  {
   "cell_type": "code",
   "execution_count": 156,
   "metadata": {
    "collapsed": false
   },
   "outputs": [
    {
     "data": {
      "text/plain": [
       "(830, 12)"
      ]
     },
     "execution_count": 156,
     "metadata": {},
     "output_type": "execute_result"
    }
   ],
   "source": [
    "new_filtre=np.concatenate((m_filtre, v_filtre, kur_filtre, skw_filtre), axis=1)\n",
    "new_filtre.shape"
   ]
  },
  {
   "cell_type": "markdown",
   "metadata": {
    "collapsed": true
   },
   "source": [
    "## IV. Création de features\n",
    "\n",
    "- 1) Features sur l'hypnogramme"
   ]
  },
  {
   "cell_type": "code",
   "execution_count": 56,
   "metadata": {
    "collapsed": true
   },
   "outputs": [],
   "source": [
    "#We construct the features\n",
    "\n",
    "def feature(y):\n",
    "    \n",
    "    feature=np.zeros([y,4+36+6])\n",
    "    feature1=np.zeros([y,36])     # 36 Proba de transition\n",
    "    feature2=np.zeros([y])        # Longueur de l'hypnogramme \n",
    "    feature3=np.zeros([y])        # Nombre de changement\n",
    "    feature4=np.zeros([y])        # Nombre de changement de la phase 3\n",
    "    feature5=np.zeros([y])        # Taille de la plus longue séquence en pourcentage\n",
    "    feature6=np.zeros([y,6])      # Pourcentage de phase\n",
    "     \n",
    "    for i in range(0,y):\n",
    "        A=matrix_Hypno[i]\n",
    "        feature1[i,:]=(changement_hypno(A)[0]/sum(changement_hypno(A)[0]))\n",
    "        feature2[i]=len(A)\n",
    "        feature3[i]=sum(sum(changement_hypno(A)[1]))\n",
    "        feature4[i]=nombre_de_changement_de_phase_par_type(A)[3]\n",
    "        feature5[i]=max(Longueur_Des_Phases(A))/len(A)\n",
    "        feature6[i,:]=matrix_pourcentage_hypno[i,:]\n",
    "    \n",
    "    feature[:,0:36]=feature1\n",
    "    feature[:,36]=feature2\n",
    "    feature[:,37]=feature3\n",
    "    feature[:,38]=feature4\n",
    "    feature[:,39]=feature5\n",
    "    feature[:,40:46]=feature6\n",
    "    \n",
    "    return(feature)\n",
    "f=feature(830)"
   ]
  },
  {
   "cell_type": "code",
   "execution_count": 59,
   "metadata": {
    "collapsed": false
   },
   "outputs": [
    {
     "data": {
      "image/png": "[encoded data removed]",
      "text/plain": [
       "<matplotlib.figure.Figure at 0x1c710cca668>"
      ]
     },
     "metadata": {},
     "output_type": "display_data"
    }
   ],
   "source": [
    "#On retire les 2 features les moins inffluents d'après le RF\n",
    "\n",
    "f2= f\n",
    "f2= np.delete(f2, (12), axis=1)\n",
    "f2= np.delete(f2, (2), axis=1)\n",
    "\n",
    "#On rajoute le temps d'endormissement en pourcentage du temps de sommeil comme feature\n",
    "\n",
    "fe=np.zeros([len(f),f.shape[1]+1])\n",
    "fe[:,0:f.shape[1]]=f\n",
    "\n",
    "for i in range(0,len(f)):\n",
    "    fe[i,f.shape[1]]=temps_endormissement(i)/len(hypno_par_bloc(i,'FALSE'))\n",
    "    \n",
    "fe.shape\n",
    "\n",
    "#On rajoute la longueur moyenne des phases de chaque type\n",
    "\n",
    "fl=np.zeros([len(f),f.shape[1]+6])\n",
    "fl[:,0:f.shape[1]]=f\n",
    "for i in range(0,len(f)):\n",
    "    fl[i,f.shape[1]:fl.shape[1]]=longueur_moyenne_phase_par_type_hypno(i)[1]\n",
    "    \n",
    "#On rajoute un feature qualitatif du sommeil\n",
    "\n",
    "fd=np.zeros([len(f),f.shape[1]+1])\n",
    "fd[:,0:f.shape[1]]=f\n",
    "for i in range(0,len(f)):\n",
    "    fd[i,f.shape[1]]=court_dormeur(i,850)"
   ]
  },
  {
   "cell_type": "code",
   "execution_count": 60,
   "metadata": {
    "collapsed": false
   },
   "outputs": [
    {
     "data": {
      "text/plain": [
       "(830, 68)"
      ]
     },
     "execution_count": 60,
     "metadata": {},
     "output_type": "execute_result"
    }
   ],
   "source": [
    "features_hypno = np.concatenate((fe, matrice_violence, matrix_rapport_de_phase), axis=1) #on concatene tous les features\n",
    "features_hypno.shape"
   ]
  },
  {
   "cell_type": "markdown",
   "metadata": {
    "collapsed": true
   },
   "source": [
    "2) Features sur les EEG"
   ]
  },
  {
   "cell_type": "code",
   "execution_count": 61,
   "metadata": {
    "collapsed": false
   },
   "outputs": [
    {
     "data": {
      "text/plain": [
       "(830, 29)"
      ]
     },
     "execution_count": 61,
     "metadata": {},
     "output_type": "execute_result"
    }
   ],
   "source": [
    "features_EEG = np.concatenate((z2,z3,z4,z7,z8,z9,skw_Fourrier,kur_Fourrier,moyenne_wA,moyenne_wD,\n",
    "                           var_wA,var_wD,moyenne_wAF,moyenne_wDF,var_wAF,\n",
    "                           var_wDF,moyenne_FF,var_FF,skw_FF,skw_cA,skw_cA,skw_cAF,skw_cD,skw_cDF,\n",
    "                            kur_FF,kur_cA,kur_cAF,kur_cD,kur_cDF),axis=1)\n",
    "\n",
    "features_EEG.shape"
   ]
  },
  {
   "cell_type": "code",
   "execution_count": 62,
   "metadata": {
    "collapsed": false
   },
   "outputs": [],
   "source": [
    "features_device=np.asarray(df_X_all['DEVICE']).reshape(-1,1)"
   ]
  },
  {
   "cell_type": "markdown",
   "metadata": {
    "collapsed": true
   },
   "source": [
    "3) Concaténation des features et normalisation"
   ]
  },
  {
   "cell_type": "code",
   "execution_count": 63,
   "metadata": {
    "collapsed": false
   },
   "outputs": [],
   "source": [
    "total2 = np.concatenate((features_device,features_hypno, features_EEG), axis=1) #on concatene tous les features"
   ]
  },
  {
   "cell_type": "code",
   "execution_count": 64,
   "metadata": {
    "collapsed": false
   },
   "outputs": [
    {
     "data": {
      "text/plain": [
       "(830, 98)"
      ]
     },
     "execution_count": 64,
     "metadata": {},
     "output_type": "execute_result"
    }
   ],
   "source": [
    "from sklearn import preprocessing\n",
    "scaler = preprocessing.StandardScaler()\n",
    "\n",
    "normal_total2 = scaler.fit_transform(total2)\n",
    "normal_total2.shape"
   ]
  },
  {
   "cell_type": "code",
   "execution_count": 65,
   "metadata": {
    "collapsed": false
   },
   "outputs": [
    {
     "data": {
      "text/plain": [
       "(array([ 508.,  235.,   58.,   15.,    5.,    1.,    3.,    3.,    0.,    2.]),\n",
       " array([ 0.        ,  0.03300971,  0.06601942,  0.09902913,  0.13203883,\n",
       "         0.16504854,  0.19805825,  0.23106796,  0.26407767,  0.29708738,\n",
       "         0.33009709]),\n",
       " <a list of 10 Patch objects>)"
      ]
     },
     "execution_count": 65,
     "metadata": {},
     "output_type": "execute_result"
    },
    {
     "data": {
      "image/png": "[encoded data removed]",
      "text/plain": [
       "<matplotlib.figure.Figure at 0x1c70f6feb38>"
      ]
     },
     "metadata": {},
     "output_type": "display_data"
    }
   ],
   "source": [
    "plt.hist(total2[:,47])"
   ]
  },
  {
   "cell_type": "markdown",
   "metadata": {},
   "source": [
    "## V. Valeurs aberrantes\n",
    "\n",
    "1) Liste des âges par indice"
   ]
  },
  {
   "cell_type": "code",
   "execution_count": 127,
   "metadata": {
    "collapsed": false
   },
   "outputs": [
    {
     "data": {
      "text/plain": [
       "array([ 26,  81, 180, 387, 441, 479, 305, 539, 543,  82, 186, 247, 271,\n",
       "       294, 408, 462, 497, 503,  37, 133, 202, 215, 345, 356, 358, 377,\n",
       "       412, 450, 499, 506, 536,  16,  24,  52,  71,  86,  91, 106, 111,\n",
       "       206, 210, 214, 245, 248, 269, 334, 336, 359, 362, 384, 400, 415,\n",
       "       420, 442, 480, 508, 518, 525,  42,  58,  89, 100, 109, 281, 286,\n",
       "       287, 320, 340, 350, 354, 393, 452, 465, 495, 566, 579,  13,  40,\n",
       "        53,  63,  78,  88,  99, 105, 107, 135, 140, 148, 151, 152, 212,\n",
       "       272, 280, 300, 308, 317, 318, 346, 364, 407, 425, 504, 505, 524,\n",
       "       545, 550, 577,  49, 130, 145, 149, 168, 261, 270, 299, 410, 433,\n",
       "       490, 515, 546,  33,  43,  77,  83, 158, 191, 219, 229, 279, 307,\n",
       "       316, 321, 366, 444, 493,  44,  79,  90, 103, 123, 153, 165, 167,\n",
       "       171, 182, 218, 226, 277, 288, 292, 315, 372, 383, 416, 423, 438,\n",
       "       533, 552,   1,  35,  92, 195, 246, 253, 259, 289, 332, 397, 463,\n",
       "       464, 473, 520, 551,  17,  28, 200, 265, 365, 418,   0,  23,  38,\n",
       "        65,  66, 169, 235, 257, 375, 380, 395, 429, 440, 487, 494, 513,\n",
       "       568, 576, 164, 256, 367, 553, 310,  18,  22,  68,  70,  85, 131,\n",
       "       172, 222, 224, 244, 322, 337, 399, 406, 510, 512, 526,   2,   6,\n",
       "        50,  61,  64,  67,  84, 101, 112, 115, 137, 156, 174, 184, 205,\n",
       "       262, 266, 297, 312, 396, 421, 432, 434, 454, 456, 457, 460, 475,\n",
       "       489, 509, 558, 572, 574,   7, 116, 549, 127, 128, 142, 352, 371,\n",
       "       469, 516,   5,  97, 185, 188, 225, 260, 369, 402, 455, 459, 468,\n",
       "       523,   9,  34,  39,  46,  57,  75, 113, 154, 190, 194, 223, 234,\n",
       "       239, 263, 274, 327, 347, 389, 405, 417, 427, 477, 534,  10,  12,\n",
       "        54,  69,  72,  80,  87, 120, 134, 157, 159, 162, 177, 178, 179,\n",
       "       187, 196, 208, 211, 213, 228, 231, 243, 250, 255, 268, 293, 302,\n",
       "       309, 311, 313, 333, 338, 339, 342, 348, 353, 370, 376, 413, 419,\n",
       "       426, 446, 447, 466, 501, 502, 517, 544, 554, 559,  14,  21,  27,\n",
       "        29,  31, 114, 126, 144, 155, 198, 207, 237, 355, 363, 382, 390,\n",
       "       391, 430, 431, 436, 461, 470, 478, 485, 498, 519, 537, 557, 562,\n",
       "       571, 121, 161, 276, 392, 578,  19,  25,  41,  55,  94, 102, 108,\n",
       "       132, 163, 189, 203, 204, 249, 264, 267, 275, 278, 283, 284, 285,\n",
       "       303, 306, 335, 343, 349, 357, 378, 411, 428, 445, 488, 491, 500,\n",
       "       507, 560, 573, 575, 227, 241,  98, 117, 136, 183, 233, 341, 373,\n",
       "       448, 492, 538, 542, 565, 580, 217, 240, 344, 471, 514, 561, 563,\n",
       "        11, 118, 122, 125, 146, 220, 290, 314, 319, 374, 386, 437, 486,\n",
       "       540, 548, 567,  45,  48,  56,  93, 104, 129, 175, 192, 193, 209,\n",
       "       216, 221, 251, 258, 291, 325, 328, 330, 331, 351, 360, 361, 394,\n",
       "       401, 404, 422, 439, 443, 458, 472, 474, 481, 483, 530, 535, 547,\n",
       "       564, 150, 556,  62, 242, 324, 424, 467, 201,   3,  32,  36,  47,\n",
       "        59,  95,  96, 141, 170, 230, 238, 295, 329, 409, 435, 453, 541,\n",
       "       570,  74,  76, 139, 527,   8,  15, 119, 124, 138, 147, 166, 173,\n",
       "       181, 197, 236, 252, 254, 273, 296, 301, 326, 381, 385, 388, 398,\n",
       "       449, 451, 482, 484, 511, 521, 522, 528, 531, 569,  30, 160, 368,\n",
       "       379, 403, 532, 555,   4,  20,  60, 143, 176, 199, 304, 323, 476,\n",
       "       232, 282,  51, 110, 414, 529,  73, 496, 298])"
      ]
     },
     "execution_count": 127,
     "metadata": {},
     "output_type": "execute_result"
    }
   ],
   "source": [
    "def hypno_par_age(y,B):\n",
    "    L1=range(0,len(B))\n",
    "    L1=np.asarray(L1)\n",
    "    L1=L1[(B>=y)&(B<y+1)]\n",
    "    return L1\n",
    "\n",
    "\n",
    "def list_hypno_par_age(B):\n",
    "    list_hypno_par_age=list()\n",
    "    for i in range(np.amin(df_y_train['TARGET']),np.amax(df_y_train['TARGET'])+1):\n",
    "        list_hypno_par_age.append(hypno_par_age(i,B))\n",
    "    #for i in range(np.amin(df_y_train['TARGET']),np.amax(df_y_train['TARGET'])+1):\n",
    "     #   print(i,'    ',list_hypno_par_age[i-18])\n",
    "    return(list_hypno_par_age)\n",
    "\n",
    "def liste_indices_ages_croissant(B):\n",
    "    liste_indices_ages_croissant=hypno_par_age(18,B)\n",
    "    for i in range(19,len(list_hypno_par_age(B))+18):\n",
    "        liste_indices_ages_croissant=np.concatenate((liste_indices_ages_croissant,hypno_par_age(i,B)),axis=0)\n",
    "    return(liste_indices_ages_croissant)\n",
    "\n",
    "list_hypno_par_age(B)\n",
    "liste_indices_ages_croissant(B)"
   ]
  },
  {
   "cell_type": "markdown",
   "metadata": {},
   "source": [
    "2) Ages qui se répètent le plus (plus de 15 fois)"
   ]
  },
  {
   "cell_type": "code",
   "execution_count": 134,
   "metadata": {
    "collapsed": false
   },
   "outputs": [
    {
     "data": {
      "text/plain": [
       "array([ 5,  6,  7, 10, 14, 17, 18, 22, 23, 24, 26, 31, 33, 38, 40])"
      ]
     },
     "execution_count": 134,
     "metadata": {},
     "output_type": "execute_result"
    }
   ],
   "source": [
    "B=np.asarray(df_y_train['TARGET'])\n",
    "L=list()\n",
    "M=list()\n",
    "for i in range(0,51):\n",
    "    if(len(list_hypno_par_age(B)[i])>15):\n",
    "        L.append(i)\n",
    "    if(len(list_hypno_par_age(B)[i])==1):\n",
    "        M.append(i)\n",
    "L=np.asarray(L)\n",
    "#M=np.asarray(M)\n",
    "L"
   ]
  },
  {
   "cell_type": "code",
   "execution_count": 129,
   "metadata": {
    "collapsed": false
   },
   "outputs": [
    {
     "data": {
      "text/plain": [
       "(1, 4)"
      ]
     },
     "execution_count": 129,
     "metadata": {},
     "output_type": "execute_result"
    }
   ],
   "source": [
    "La=list()\n",
    "for i in range(0,len(M)):\n",
    "    La.append(list_hypno_par_age(B)[M[i]])\n",
    "La=np.asmatrix(np.asarray(La).reshape(1,-1)[0]) \n",
    "La.shape"
   ]
  },
  {
   "cell_type": "markdown",
   "metadata": {},
   "source": [
    "3) Boites à moustache : Région de confiance à 95%"
   ]
  },
  {
   "cell_type": "code",
   "execution_count": 135,
   "metadata": {
    "collapsed": false
   },
   "outputs": [],
   "source": [
    "w=np.zeros(normal_total2.shape)\n",
    "for i in range(0,len(L)):\n",
    "    mat=np.zeros([len(list_hypno_par_age(B)[L[i]]),normal_total2.shape[1]])\n",
    "    mat=normal_total2[list_hypno_par_age(B)[L[i]]]\n",
    "    moy=np.mean(mat,axis=0)\n",
    "    for k in range(0,normal_total2.shape[1]):\n",
    "        premf=mat[:,k]\n",
    "        c=abs(premf-moy[k])\n",
    "        a=np.argsort(c)\n",
    "        b=list_hypno_par_age(B)[L[i]][a]\n",
    "        d=b[int(0.95*len(list_hypno_par_age(B)[L[i]][a])):]\n",
    "        w[d,k]=1"
   ]
  },
  {
   "cell_type": "markdown",
   "metadata": {},
   "source": [
    "4) Suppression des valeurs aberrantes (seuil à 0.15)"
   ]
  },
  {
   "cell_type": "code",
   "execution_count": 136,
   "metadata": {
    "collapsed": false
   },
   "outputs": [
    {
     "data": {
      "text/plain": [
       "array([  2,  11,  12,  31, 105, 111, 162, 172, 179, 197, 212, 218, 269,\n",
       "       274, 295, 300, 372, 383, 401, 428, 526, 531, 552, 568])"
      ]
     },
     "execution_count": 136,
     "metadata": {},
     "output_type": "execute_result"
    }
   ],
   "source": [
    "Lb1=np.asarray(range(0,830))\n",
    "Lb1=Lb1[np.sum(w,axis=1)/normal_total2.shape[1]>0.175]\n",
    "Lb1"
   ]
  },
  {
   "cell_type": "code",
   "execution_count": 132,
   "metadata": {
    "collapsed": false
   },
   "outputs": [
    {
     "data": {
      "text/plain": [
       "array([[  2,  11,  12,  31, 105, 111, 162, 172, 179, 197, 201, 212, 218,\n",
       "        269, 274, 295, 298, 300, 310, 372, 383, 401, 428, 526, 529, 531,\n",
       "        552, 568]])"
      ]
     },
     "execution_count": 132,
     "metadata": {},
     "output_type": "execute_result"
    }
   ],
   "source": [
    "Lb=np.concatenate((La,np.asmatrix(Lb1)),axis=1)\n",
    "Lb=np.asarray(np.sort(Lb))\n",
    "Lb"
   ]
  },
  {
   "cell_type": "code",
   "execution_count": 137,
   "metadata": {
    "collapsed": false
   },
   "outputs": [],
   "source": [
    "ValAbb1=np.delete(normal_total2, Lb1 , axis=0)\n",
    "y=np.asarray(df_y_train['TARGET'])\n",
    "age=np.delete(y, Lb1 , axis=0)"
   ]
  },
  {
   "cell_type": "code",
   "execution_count": 152,
   "metadata": {
    "collapsed": false
   },
   "outputs": [
    {
     "data": {
      "text/plain": [
       "array([18, 19, 20, 21, 22, 23, 24, 25, 26, 27, 28, 29, 30, 31, 32, 33, 34,\n",
       "       35, 36, 37, 38, 39, 40, 41, 42, 43, 44, 45, 46, 47, 48, 49, 50, 51,\n",
       "       52, 53, 54, 55, 56, 57, 58, 59, 60, 61, 62, 63, 64, 65, 66, 67])"
      ]
     },
     "execution_count": 152,
     "metadata": {},
     "output_type": "execute_result"
    }
   ],
   "source": [
    "np.asarray(range(np.min(y),np.max(y)))"
   ]
  },
  {
   "cell_type": "code",
   "execution_count": 156,
   "metadata": {
    "collapsed": false
   },
   "outputs": [
    {
     "data": {
      "text/plain": [
       "[<matplotlib.lines.Line2D at 0x1c710af3828>]"
      ]
     },
     "execution_count": 156,
     "metadata": {},
     "output_type": "execute_result"
    },
    {
     "data": {
      "image/png": "[encoded data removed]",
      "text/plain": [
       "<matplotlib.figure.Figure at 0x1c710af3ba8>"
      ]
     },
     "metadata": {},
     "output_type": "display_data"
    }
   ],
   "source": [
    "plt.hist(y)\n",
    "plt.plot(np.asarray(range(np.min(y),np.max(y)+1)),np.asarray(np.linspace(15,16,51)))"
   ]
  },
  {
   "cell_type": "markdown",
   "metadata": {
    "collapsed": true
   },
   "source": [
    "## VI. Test\n",
    "\n",
    "1) Définition de la métrique"
   ]
  },
  {
   "cell_type": "code",
   "execution_count": 77,
   "metadata": {
    "collapsed": true
   },
   "outputs": [],
   "source": [
    "#Loss function\n",
    "\n",
    "def mean_absolute_percentage_error(y_true, y_pred): \n",
    "    return np.mean(np.abs((y_true - y_pred) / y_true)) * 100"
   ]
  },
  {
   "cell_type": "markdown",
   "metadata": {},
   "source": [
    "2) Random Forest"
   ]
  },
  {
   "cell_type": "code",
   "execution_count": 167,
   "metadata": {
    "collapsed": false
   },
   "outputs": [
    {
     "data": {
      "text/plain": [
       "(21.425493851503905, 9.153767579719494)"
      ]
     },
     "execution_count": 167,
     "metadata": {},
     "output_type": "execute_result"
    }
   ],
   "source": [
    "from sklearn.ensemble import RandomForestRegressor\n",
    "\n",
    "def test_random_forest(f,y,importance,y_train):\n",
    "    forest = RandomForestRegressor(n_estimators=500, criterion='mse', max_depth=None, \n",
    "                                min_samples_split=2, min_samples_leaf=1, max_features='auto', max_leaf_nodes=None,\n",
    "                                bootstrap=True, oob_score=True)\n",
    "    # apprentissage\n",
    "    forest = forest.fit(f[0:y],y_train[0:y])\n",
    "    y_train_chap = forest.predict(f[0:y])\n",
    "    y_chap = forest.predict(f[y:len(y_train)])\n",
    "    \n",
    "    if (importance=='TRUE'):\n",
    "        plt.plot(forest.feature_importances_)\n",
    "        plt.show()\n",
    "\n",
    "    return(mean_absolute_percentage_error(y_train[y:581], 0.93*y_chap),mean_absolute_percentage_error(y_train[0:y], 0.93*y_train_chap))\n",
    "test_random_forest(normal_total2,360,'FALSE',y)"
   ]
  },
  {
   "cell_type": "markdown",
   "metadata": {
    "collapsed": true
   },
   "source": [
    "3) Gradient Boosting"
   ]
  },
  {
   "cell_type": "code",
   "execution_count": 168,
   "metadata": {
    "collapsed": false
   },
   "outputs": [
    {
     "name": "stdout",
     "output_type": "stream",
     "text": [
      "20.5924252891 388\n"
     ]
    }
   ],
   "source": [
    "from sklearn import ensemble\n",
    "import pylab as pl\n",
    "\n",
    "\n",
    "def test_gradient_boosting(f,y,importance,diagnose,y_train):\n",
    "    GB=ensemble.GradientBoostingRegressor(loss='ls', learning_rate=0.091,\n",
    "                                           n_estimators=100,subsample=1.0, min_samples_split=2, \n",
    "                                           min_samples_leaf=1, max_depth=3,init=None, random_state=None,max_features=None, \n",
    "                                           alpha=0.9, verbose=False,max_leaf_nodes=None, warm_start=False)\n",
    "    GB = GB.fit(f[0:y],y_train[0:y]) \n",
    "    y_train_chap = GB.predict(f[0:y])\n",
    "    y_chap = GB.predict(f[y:len(y_train)])\n",
    "    \n",
    "    if (diagnose=='TRUE'):\n",
    "        X_test=f[y:len(y_train)]\n",
    "        y_test=y_train[y:len(y_train)]\n",
    "        y_pred=GB.predict(f[y:len(y_train)])\n",
    "        params=GB.get_params()\n",
    "        \n",
    "        test_score = np.zeros((params['n_estimators'],), dtype=np.float64)\n",
    "    \n",
    "        for i, y_pred in enumerate(GB.staged_decision_function(X_test)):\n",
    "            test_score[i] = GB.loss_(y_test, y_pred)\n",
    "        \n",
    "        pl.figure(figsize=(12, 9))\n",
    "        pl.title('Deviance')\n",
    "        pl.plot(np.arange(params['n_estimators']) + 1, GB.train_score_, 'b-', label='Training Set Deviance')\n",
    "        pl.plot(np.arange(params['n_estimators']) + 1, test_score, 'r-',label='Test Set Deviance')\n",
    "        pl.legend(loc='upper right')\n",
    "        pl.xlabel('Boosting Iterations')\n",
    "        pl.ylabel('Deviance')\n",
    "        pl.show()\n",
    "        \n",
    "    if (importance=='TRUE'):\n",
    "        feature_importance = GB.feature_importances_\n",
    "        # make importances relative to max importance\n",
    "        feature_importance = 100.0 * (feature_importance / feature_importance.max())\n",
    "        sorted_idx = np.argsort(feature_importance)\n",
    "        pos = np.arange(sorted_idx.shape[0]) + .5\n",
    "        plt.subplot(1, 2, 2)\n",
    "        plt.barh(pos, feature_importance[sorted_idx], align='center')\n",
    "        plt.yticks(pos, sorted_idx)\n",
    "        plt.xlabel('Relative Importance')\n",
    "        plt.title('Variable Importance')\n",
    "        plt.show()\n",
    "\n",
    "    return(mean_absolute_percentage_error(y_train[y:len(y_train)], 0.93*y_chap),\n",
    "           mean_absolute_percentage_error(y_train[0:y], 0.93*y_train_chap))\n",
    "minimum=100\n",
    "for i in range(310,390):\n",
    "    x=test_gradient_boosting(normal_total2,i,'TR','TR',y)[0]\n",
    "    if x<minimum:\n",
    "        minimum=x\n",
    "        a=i\n",
    "print(minimum,a)"
   ]
  },
  {
   "cell_type": "code",
   "execution_count": 158,
   "metadata": {
    "collapsed": false
   },
   "outputs": [
    {
     "data": {
      "text/plain": [
       "GradientBoostingRegressor(alpha=0.9, criterion='friedman_mse', init=None,\n",
       "             learning_rate=0.1, loss='ls', max_depth=3, max_features=None,\n",
       "             max_leaf_nodes=None, min_impurity_split=1e-07,\n",
       "             min_samples_leaf=1, min_samples_split=2,\n",
       "             min_weight_fraction_leaf=0.0, n_estimators=100,\n",
       "             presort='auto', random_state=None, subsample=1.0, verbose=0,\n",
       "             warm_start=False)"
      ]
     },
     "execution_count": 158,
     "metadata": {},
     "output_type": "execute_result"
    }
   ],
   "source": [
    "model = ensemble.GradientBoostingRegressor()\n",
    "model.fit(normal_total2[:388],df_y_train['TARGET'][:388])"
   ]
  },
  {
   "cell_type": "code",
   "execution_count": 159,
   "metadata": {
    "collapsed": false
   },
   "outputs": [
    {
     "data": {
      "image/png": "[encoded data removed]",
      "text/plain": [
       "<matplotlib.figure.Figure at 0x1c7109e1e48>"
      ]
     },
     "metadata": {},
     "output_type": "display_data"
    }
   ],
   "source": [
    "feature_importance = model.feature_importances_\n",
    "# make importances relative to max importance\n",
    "feature_importance = 100.0 * (feature_importance / feature_importance.max())\n",
    "sorted_idx = np.argsort(feature_importance)\n",
    "pos = np.arange(sorted_idx.shape[0]) + .5\n",
    "plt.subplot(1, 2, 2)\n",
    "plt.barh(pos, feature_importance[sorted_idx], align='center')\n",
    "#plt.yticks(pos, boston.feature_names[sorted_idx])\n",
    "plt.xlabel('Relative Importance')\n",
    "plt.title('Variable Importance')\n",
    "plt.show()"
   ]
  },
  {
   "cell_type": "markdown",
   "metadata": {
    "collapsed": true
   },
   "source": [
    "4) XGBoost"
   ]
  },
  {
   "cell_type": "code",
   "execution_count": 80,
   "metadata": {
    "collapsed": true
   },
   "outputs": [],
   "source": [
    "def xgboost_f2(f,y,n,eta,maxdepth):\n",
    "\n",
    "\n",
    "    dtrain = xgb.DMatrix(f[0:n,], y[0:n])\n",
    "    dtest = xgb.DMatrix(f[n:len(y),], y[n:len(y)])\n",
    "\n",
    "    watchlist  = [(dtest,'eval'), (dtrain,'train')]\n",
    "\n",
    "    # specify parameters via map\n",
    "    param = {'max_depth':maxdepth, 'eta':eta, 'silent':1, 'objective':'reg:gamma'}\n",
    "    num_round = 1000\n",
    "    param['nthread'] = 7\n",
    "    param['eval_metric'] = 'rmse'\n",
    "\n",
    "    bst = xgb.train(param, dtrain, num_round, watchlist, early_stopping_rounds=10,verbose_eval=False)\n",
    "    # make prediction\n",
    "    preds = bst.predict(dtest,ntree_limit=bst.best_ntree_limit)\n",
    "    \n",
    "    #print(mean_absolute_percentage_error(y[n:581], 0.95*preds))\n",
    "    \n",
    "    return(preds,mean_absolute_percentage_error(y[n:len(y)], 0.95*preds))"
   ]
  },
  {
   "cell_type": "code",
   "execution_count": 90,
   "metadata": {
    "collapsed": false
   },
   "outputs": [
    {
     "name": "stdout",
     "output_type": "stream",
     "text": [
      "[  3.60000000e+02   2.02018665e+01   1.00000000e-01   4.00000000e+00]\n",
      "[  3.61000000e+02   2.02396554e+01   2.00000000e-01   5.00000000e+00]\n",
      "[  3.62000000e+02   2.01736402e+01   1.00000000e-01   9.00000000e+00]\n",
      "[  3.63000000e+02   2.01969719e+01   1.00000000e-01   4.00000000e+00]\n",
      "[  3.64000000e+02   1.97154670e+01   1.00000000e-01   6.00000000e+00]\n",
      "[  3.65000000e+02   2.02878167e+01   1.00000000e-01   7.00000000e+00]\n",
      "[  3.66000000e+02   2.03383474e+01   1.00000000e-01   5.00000000e+00]\n",
      "[  3.67000000e+02   2.01588062e+01   3.00000000e-01   5.00000000e+00]\n",
      "[  3.68000000e+02   2.04050051e+01   1.00000000e-01   4.00000000e+00]\n",
      "[  3.69000000e+02   1.98929898e+01   2.00000000e-01   6.00000000e+00]\n",
      "[  3.70000000e+02   1.99924416e+01   1.00000000e-01   7.00000000e+00]\n",
      "[  3.71000000e+02   1.99226413e+01   1.00000000e-01   9.00000000e+00]\n",
      "[  3.72000000e+02   2.00238517e+01   2.00000000e-01   6.00000000e+00]\n",
      "[  3.73000000e+02   2.04616379e+01   3.00000000e-01   3.00000000e+00]\n",
      "[  3.74000000e+02   2.03020651e+01   1.00000000e-01   5.00000000e+00]\n",
      "[  3.75000000e+02   2.00643888e+01   2.00000000e-01   7.00000000e+00]\n",
      "[  3.76000000e+02   2.02275446e+01   1.00000000e-01   6.00000000e+00]\n",
      "[  3.77000000e+02   2.02938534e+01   2.00000000e-01   8.00000000e+00]\n",
      "[  3.78000000e+02   1.97342964e+01   1.00000000e-01   6.00000000e+00]\n",
      "[  3.79000000e+02   2.00560905e+01   1.00000000e-01   5.00000000e+00]\n",
      "[  3.80000000e+02   2.05703032e+01   1.00000000e-01   5.00000000e+00]\n"
     ]
    }
   ],
   "source": [
    "def test_param_xgb(f,y,debut_n,fin_n,step):\n",
    "    \n",
    "    if ((fin_n-debut_n)%step!=0):\n",
    "        return(\"Le pas n'est pas bon\")\n",
    "    \n",
    "    ypred=np.zeros([(fin_n-debut_n)+1,len(f)-len(y)])\n",
    "    res=np.zeros([int((fin_n-debut_n)/step)+1,4])\n",
    "    \n",
    "    for n in range(debut_n,fin_n+1,step):\n",
    "        \n",
    "        res[int((n-debut_n)/step),0]=n\n",
    "   \n",
    "        a=xgboost_f2(f,y,n,(1/10),1)[1]\n",
    "        s=0.1\n",
    "        z=1\n",
    "        \n",
    "        for i in range(1,10):\n",
    "            for j in range(1,10):\n",
    "                b=xgboost_f2(f,y,n,(i/10),j)[1]\n",
    "                if(b<a):\n",
    "                    a=b\n",
    "                    s=i/10\n",
    "                    z=j\n",
    "        res[int((n-debut_n)/step),1:4]=[a,s,z]\n",
    "\n",
    "        print(res[int((n-debut_n)/step),])\n",
    "        \n",
    "        dtrain = xgb.DMatrix(f[0:n,], y[0:n])\n",
    "        dtest = xgb.DMatrix(f[n:len(y),], y[n:len(y)])\n",
    "\n",
    "        sol=xgb.DMatrix(f[len(y):len(f)], np.zeros([len(f)-len(y),1]))\n",
    "\n",
    "        watchlist  = [(dtest,'eval'), (dtrain,'train')]\n",
    "\n",
    "        # specify parameters via map\n",
    "        param = {'max_depth':z, 'eta':s, 'objective':'reg:gamma'}\n",
    "        num_round = 1000\n",
    "        param['nthread'] = 7\n",
    "        param['eval_metric'] = 'rmse'\n",
    "\n",
    "        bst = xgb.train(param, dtrain, num_round, watchlist, early_stopping_rounds=10,verbose_eval=False)\n",
    "        # make prediction\n",
    "        ypred[(n-debut_n),:] = 0.95*bst.predict(sol,ntree_limit=bst.best_ntree_limit)\n",
    "        \n",
    "    index=res[:,1].argmin()\n",
    "        \n",
    "    return(res,res[index,:],ypred)\n",
    "y=np.asarray(df_y_train['TARGET'])\n",
    "#age=np.delete(y,Lb,axis=0)\n",
    "test2=test_param_xgb(normal_total2,y,debut_n=360,fin_n=380,step=1)"
   ]
  },
  {
   "cell_type": "markdown",
   "metadata": {},
   "source": [
    "Notre meilleure soumission a été faite à partir de l'échantillon allant du 1er au 365ème individu."
   ]
  },
  {
   "cell_type": "code",
   "execution_count": 171,
   "metadata": {
    "collapsed": false
   },
   "outputs": [],
   "source": [
    "f=normal_total2\n",
    "n=365\n",
    "dtrain = xgb.DMatrix(f[0:n,], y[0:n])\n",
    "dtest = xgb.DMatrix(f[n:len(y),], y[n:len(y)])\n",
    "\n",
    "watchlist  = [(dtest,'eval'), (dtrain,'train')]\n",
    "\n",
    "# specify parameters via map\n",
    "param = {'max_depth':7, 'eta':0.1, 'silent':1, 'objective':'reg:gamma'}\n",
    "num_round = 1000\n",
    "param['nthread'] = 7\n",
    "param['eval_metric'] = 'rmse'\n",
    "\n",
    "bst = xgb.train(param, dtrain, num_round, watchlist, early_stopping_rounds=10,verbose_eval=False)\n",
    "preds = bst.predict(dtest,ntree_limit=bst.best_ntree_limit)"
   ]
  },
  {
   "cell_type": "code",
   "execution_count": 172,
   "metadata": {
    "collapsed": false
   },
   "outputs": [
    {
     "data": {
      "text/plain": [
       "<matplotlib.text.Text at 0x1c710402518>"
      ]
     },
     "execution_count": 172,
     "metadata": {},
     "output_type": "execute_result"
    },
    {
     "data": {
      "image/png": "[encoded data removed]",
      "text/plain": [
       "<matplotlib.figure.Figure at 0x1c7114ea320>"
      ]
     },
     "metadata": {},
     "output_type": "display_data"
    }
   ],
   "source": [
    "importance = bst.get_fscore()\n",
    "importance = sorted(importance.items())\n",
    "\n",
    "df = pd.DataFrame(importance, columns=['feature', 'fscore'])\n",
    "\n",
    "df.plot(kind='barh', x='feature', y='fscore', legend=False, figsize=(6, 10))\n",
    "plt.title('XGBoost Feature Importance')\n",
    "plt.xlabel('relative importance')"
   ]
  },
  {
   "cell_type": "markdown",
   "metadata": {},
   "source": [
    "## VII. Soumission"
   ]
  },
  {
   "cell_type": "code",
   "execution_count": 125,
   "metadata": {
    "collapsed": true
   },
   "outputs": [],
   "source": [
    "import csv\n",
    "\n",
    "def soumission(y_chap,nom_du_fichier):\n",
    "    \n",
    "    pred=list()\n",
    "    pred.append(['TARGET'])\n",
    "    for i in range(0,len(y_chap)):\n",
    "        pred.append([y_chap[i]])\n",
    "    pred=np.asarray(pred)\n",
    "    \n",
    "    with open(nom_du_fichier, 'w', newline='') as fp:\n",
    "        a=csv.writer(fp, delimiter=' ')\n",
    "        a.writerows(pred)"
   ]
  },
  {
   "cell_type": "code",
   "execution_count": 126,
   "metadata": {
    "collapsed": false
   },
   "outputs": [],
   "source": [
    "soumission(prediction_moyenne,'xgbtotal')"
   ]
  },
  {
   "cell_type": "code",
   "execution_count": null,
   "metadata": {
    "collapsed": true
   },
   "outputs": [],
   "source": []
  },
  {
   "cell_type": "code",
   "execution_count": null,
   "metadata": {
    "collapsed": true
   },
   "outputs": [],
   "source": []
  },
  {
   "cell_type": "code",
   "execution_count": null,
   "metadata": {
    "collapsed": true
   },
   "outputs": [],
   "source": []
  },
  {
   "cell_type": "code",
   "execution_count": null,
   "metadata": {
    "collapsed": true
   },
   "outputs": [],
   "source": []
  },
  {
   "cell_type": "code",
   "execution_count": null,
   "metadata": {
    "collapsed": true
   },
   "outputs": [],
   "source": []
  },
  {
   "cell_type": "code",
   "execution_count": null,
   "metadata": {
    "collapsed": true
   },
   "outputs": [],
   "source": []
  },
  {
   "cell_type": "code",
   "execution_count": null,
   "metadata": {
    "collapsed": true
   },
   "outputs": [],
   "source": []
  },
  {
   "cell_type": "code",
   "execution_count": null,
   "metadata": {
    "collapsed": true
   },
   "outputs": [],
   "source": []
  },
  {
   "cell_type": "code",
   "execution_count": null,
   "metadata": {
    "collapsed": true
   },
   "outputs": [],
   "source": []
  },
  {
   "cell_type": "code",
   "execution_count": null,
   "metadata": {
    "collapsed": true
   },
   "outputs": [],
   "source": []
  },
  {
   "cell_type": "code",
   "execution_count": null,
   "metadata": {
    "collapsed": true
   },
   "outputs": [],
   "source": []
  },
  {
   "cell_type": "code",
   "execution_count": null,
   "metadata": {
    "collapsed": true
   },
   "outputs": [],
   "source": []
  },
  {
   "cell_type": "code",
   "execution_count": null,
   "metadata": {
    "collapsed": true
   },
   "outputs": [],
   "source": []
  },
  {
   "cell_type": "code",
   "execution_count": null,
   "metadata": {
    "collapsed": true
   },
   "outputs": [],
   "source": []
  },
  {
   "cell_type": "code",
   "execution_count": null,
   "metadata": {
    "collapsed": true
   },
   "outputs": [],
   "source": []
  },
  {
   "cell_type": "code",
   "execution_count": null,
   "metadata": {
    "collapsed": true
   },
   "outputs": [],
   "source": []
  },
  {
   "cell_type": "code",
   "execution_count": null,
   "metadata": {
    "collapsed": true
   },
   "outputs": [],
   "source": []
  },
  {
   "cell_type": "code",
   "execution_count": null,
   "metadata": {
    "collapsed": true
   },
   "outputs": [],
   "source": []
  },
  {
   "cell_type": "code",
   "execution_count": null,
   "metadata": {
    "collapsed": true
   },
   "outputs": [],
   "source": []
  },
  {
   "cell_type": "code",
   "execution_count": null,
   "metadata": {
    "collapsed": true
   },
   "outputs": [],
   "source": []
  },
  {
   "cell_type": "code",
   "execution_count": null,
   "metadata": {
    "collapsed": true
   },
   "outputs": [],
   "source": []
  },
  {
   "cell_type": "code",
   "execution_count": null,
   "metadata": {
    "collapsed": true
   },
   "outputs": [],
   "source": []
  },
  {
   "cell_type": "code",
   "execution_count": null,
   "metadata": {
    "collapsed": true
   },
   "outputs": [],
   "source": []
  },
  {
   "cell_type": "code",
   "execution_count": null,
   "metadata": {
    "collapsed": true
   },
   "outputs": [],
   "source": []
  },
  {
   "cell_type": "code",
   "execution_count": null,
   "metadata": {
    "collapsed": true
   },
   "outputs": [],
   "source": []
  },
  {
   "cell_type": "code",
   "execution_count": null,
   "metadata": {
    "collapsed": true
   },
   "outputs": [],
   "source": []
  },
  {
   "cell_type": "code",
   "execution_count": null,
   "metadata": {
    "collapsed": true
   },
   "outputs": [],
   "source": []
  },
  {
   "cell_type": "code",
   "execution_count": null,
   "metadata": {
    "collapsed": true
   },
   "outputs": [],
   "source": []
  },
  {
   "cell_type": "code",
   "execution_count": null,
   "metadata": {
    "collapsed": true
   },
   "outputs": [],
   "source": []
  },
  {
   "cell_type": "code",
   "execution_count": null,
   "metadata": {
    "collapsed": true
   },
   "outputs": [],
   "source": []
  },
  {
   "cell_type": "code",
   "execution_count": null,
   "metadata": {
    "collapsed": true
   },
   "outputs": [],
   "source": []
  },
  {
   "cell_type": "code",
   "execution_count": null,
   "metadata": {
    "collapsed": true
   },
   "outputs": [],
   "source": []
  },
  {
   "cell_type": "code",
   "execution_count": null,
   "metadata": {
    "collapsed": true
   },
   "outputs": [],
   "source": []
  },
  {
   "cell_type": "code",
   "execution_count": null,
   "metadata": {
    "collapsed": true
   },
   "outputs": [],
   "source": []
  },
  {
   "cell_type": "code",
   "execution_count": null,
   "metadata": {
    "collapsed": true
   },
   "outputs": [],
   "source": []
  },
  {
   "cell_type": "code",
   "execution_count": null,
   "metadata": {
    "collapsed": true
   },
   "outputs": [],
   "source": []
  },
  {
   "cell_type": "code",
   "execution_count": null,
   "metadata": {
    "collapsed": true
   },
   "outputs": [],
   "source": []
  },
  {
   "cell_type": "code",
   "execution_count": null,
   "metadata": {
    "collapsed": true
   },
   "outputs": [],
   "source": []
  },
  {
   "cell_type": "code",
   "execution_count": null,
   "metadata": {
    "collapsed": true
   },
   "outputs": [],
   "source": []
  },
  {
   "cell_type": "code",
   "execution_count": null,
   "metadata": {
    "collapsed": true
   },
   "outputs": [],
   "source": []
  },
  {
   "cell_type": "code",
   "execution_count": null,
   "metadata": {
    "collapsed": true
   },
   "outputs": [],
   "source": []
  },
  {
   "cell_type": "code",
   "execution_count": null,
   "metadata": {
    "collapsed": true
   },
   "outputs": [],
   "source": []
  },
  {
   "cell_type": "code",
   "execution_count": null,
   "metadata": {
    "collapsed": true
   },
   "outputs": [],
   "source": []
  },
  {
   "cell_type": "code",
   "execution_count": null,
   "metadata": {
    "collapsed": true
   },
   "outputs": [],
   "source": []
  },
  {
   "cell_type": "code",
   "execution_count": null,
   "metadata": {
    "collapsed": true
   },
   "outputs": [],
   "source": []
  },
  {
   "cell_type": "code",
   "execution_count": null,
   "metadata": {
    "collapsed": true
   },
   "outputs": [],
   "source": []
  },
  {
   "cell_type": "code",
   "execution_count": null,
   "metadata": {
    "collapsed": true
   },
   "outputs": [],
   "source": []
  },
  {
   "cell_type": "code",
   "execution_count": null,
   "metadata": {
    "collapsed": true
   },
   "outputs": [],
   "source": []
  },
  {
   "cell_type": "code",
   "execution_count": null,
   "metadata": {
    "collapsed": true
   },
   "outputs": [],
   "source": []
  },
  {
   "cell_type": "code",
   "execution_count": null,
   "metadata": {
    "collapsed": true
   },
   "outputs": [],
   "source": []
  },
  {
   "cell_type": "code",
   "execution_count": null,
   "metadata": {
    "collapsed": true
   },
   "outputs": [],
   "source": []
  },
  {
   "cell_type": "code",
   "execution_count": null,
   "metadata": {
    "collapsed": true
   },
   "outputs": [],
   "source": []
  },
  {
   "cell_type": "code",
   "execution_count": null,
   "metadata": {
    "collapsed": true
   },
   "outputs": [],
   "source": []
  },
  {
   "cell_type": "code",
   "execution_count": null,
   "metadata": {
    "collapsed": true
   },
   "outputs": [],
   "source": []
  },
  {
   "cell_type": "code",
   "execution_count": null,
   "metadata": {
    "collapsed": true
   },
   "outputs": [],
   "source": []
  },
  {
   "cell_type": "code",
   "execution_count": null,
   "metadata": {
    "collapsed": true
   },
   "outputs": [],
   "source": []
  },
  {
   "cell_type": "code",
   "execution_count": null,
   "metadata": {
    "collapsed": true
   },
   "outputs": [],
   "source": []
  },
  {
   "cell_type": "code",
   "execution_count": null,
   "metadata": {
    "collapsed": true
   },
   "outputs": [],
   "source": []
  },
  {
   "cell_type": "code",
   "execution_count": null,
   "metadata": {
    "collapsed": true
   },
   "outputs": [],
   "source": []
  },
  {
   "cell_type": "code",
   "execution_count": null,
   "metadata": {
    "collapsed": true
   },
   "outputs": [],
   "source": []
  }
 ],
 "metadata": {
  "kernelspec": {
   "display_name": "Python 3",
   "language": "python",
   "name": "python3"
  },
  "language_info": {
   "codemirror_mode": {
    "name": "ipython",
    "version": 3
   },
   "file_extension": ".py",
   "mimetype": "text/x-python",
   "name": "python",
   "nbconvert_exporter": "python",
   "pygments_lexer": "ipython3",
   "version": "3.6.0"
  }
 },
 "nbformat": 4,
 "nbformat_minor": 2
}
